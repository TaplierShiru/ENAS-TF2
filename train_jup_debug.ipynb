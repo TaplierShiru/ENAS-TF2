{
 "cells": [
  {
   "cell_type": "code",
   "execution_count": 1,
   "id": "592707dd",
   "metadata": {},
   "outputs": [],
   "source": [
    "import os\n",
    "os.environ[\"CUDA_VISIBLE_DEVICES\"]=\"0\"\n",
    "\n",
    "import numpy as np\n",
    "from sklearn.utils import shuffle\n",
    "from tensorflow.keras.datasets.cifar10 import load_data\n",
    "import tensorflow as tf\n",
    "\n",
    "# Sometimes TF will spam WARNINGS, in order to shut it - set to print only errors\n",
    "# tf.compat.v1.logging.set_verbosity(tf.compat.v1.logging.ERROR)\n",
    "\n",
    "import tensorflow.keras.layers as L\n",
    "\n",
    "from typing import List, Optional\n",
    "\n",
    "from .micro_child import MicroChild\n",
    "from .micro_lstm import MicroLSTM"
   ]
  },
  {
   "cell_type": "code",
   "execution_count": 6,
   "id": "7aa41814",
   "metadata": {},
   "outputs": [],
   "source": [
    "BATCH_SIZE = 160 # 160\n",
    "SEED = None\n",
    "\n",
    "(Xtrain, Ytrain), (Xtest, Ytest) = load_data()\n",
    "\n",
    "Xtrain = Xtrain / 255\n",
    "Xtest = Xtest / 255\n",
    "\n",
    "Ytrain = Ytrain.astype(np.int32)\n",
    "Ytest = Ytest.astype(np.int32)\n",
    "\n",
    "\n",
    "def pre_process(x, cutout_size=None, seed=None):\n",
    "    x = tf.pad(x, [[4, 4], [4, 4], [0, 0]])\n",
    "    x = tf.image.random_crop(x, [32, 32, 3], seed=seed)\n",
    "    x = tf.image.random_flip_left_right(x, seed=seed)\n",
    "    if cutout_size is not None:\n",
    "        mask = tf.ones([cutout_size, cutout_size], dtype=tf.int32)\n",
    "        start = tf.random_uniform([2], minval=0, maxval=32, dtype=tf.int32)\n",
    "        mask = tf.pad(mask, [[cutout_size + start[0], 32 - start[0]],\n",
    "                           [cutout_size + start[1], 32 - start[1]]])\n",
    "        mask = mask[cutout_size: cutout_size + 32,\n",
    "                  cutout_size: cutout_size + 32]\n",
    "        mask = tf.reshape(mask, [32, 32, 1])\n",
    "        mask = tf.tile(mask, [1, 1, 3])\n",
    "        x = tf.where(tf.equal(mask, 0), x=x, y=tf.zeros_like(x))\n",
    "    return x\n",
    "\n",
    "\n",
    "def data_generator(x_data, y_data, use_preprocess=True):\n",
    "    assert len(x_data) == len(y_data)\n",
    "    x_data, y_data = shuffle(x_data, y_data)\n",
    "    counter = 0\n",
    "    while True:\n",
    "        yield (\n",
    "            pre_process(x_data[counter]) if use_preprocess else x_data[counter], \n",
    "            y_data[counter]\n",
    "        )\n",
    "        counter += 1\n",
    "        if counter == len(x_data):\n",
    "            break\n",
    "\n",
    "train_dataset = tf.data.Dataset.from_generator(\n",
    "     lambda: data_generator(Xtrain, Ytrain),\n",
    "     output_signature=(\n",
    "         tf.TensorSpec(shape=(32, 32, 3), dtype=tf.float32),\n",
    "         tf.TensorSpec(shape=(1,), dtype=tf.int32)\n",
    "     )\n",
    ")\n",
    "train_dataset = train_dataset.repeat()\n",
    "train_dataset = train_dataset.batch(BATCH_SIZE)\n",
    "\n",
    "test_dataset = tf.data.Dataset.from_generator(\n",
    "     lambda: data_generator(Xtest, Ytest, use_preprocess=False),\n",
    "     output_signature=(\n",
    "         tf.TensorSpec(shape=(32, 32, 3), dtype=tf.float32),\n",
    "         tf.TensorSpec(shape=(1,), dtype=tf.int32)\n",
    "     )\n",
    ")\n",
    "test_dataset = test_dataset.batch(BATCH_SIZE)\n",
    "\n",
    "iterations_per_epoch = len(Xtrain)//BATCH_SIZE"
   ]
  },
  {
   "cell_type": "code",
   "execution_count": 7,
   "id": "2cbdf298",
   "metadata": {},
   "outputs": [],
   "source": [
    "iter_train_dataset = iter(train_dataset)\n",
    "x,y=next(iter_train_dataset)"
   ]
  },
  {
   "cell_type": "code",
   "execution_count": 9,
   "id": "8d17e5da",
   "metadata": {},
   "outputs": [],
   "source": [
    "micro_lstm = MicroLSTM(\n",
    "    num_branches=5, num_cells=5, lstm_size=64, # temperature=5.0, \n",
    "    tanh_constant=1.1, entropy_weight=0.0001,\n",
    "    op_tanh_reduce=2.5, decay=0.99\n",
    ")"
   ]
  },
  {
   "cell_type": "code",
   "execution_count": 10,
   "id": "75565210",
   "metadata": {},
   "outputs": [
    {
     "data": {
      "text/plain": [
       "'\\nopt_nas = tf.keras.optimizers.Adam(\\n    learning_rate=tf.keras.optimizers.schedules.CosineDecayRestarts(\\n        0.05, first_decay_steps=iterations_per_epoch * 10, \\n        t_mul=2, m_mul=1, alpha=5e-4\\n    ),\\n    beta_1=0.0, epsilon=1e-3\\n)\\n'"
      ]
     },
     "execution_count": 10,
     "metadata": {},
     "output_type": "execute_result"
    }
   ],
   "source": [
    "opt_nas = tf.keras.optimizers.SGD(\n",
    "    learning_rate=tf.keras.optimizers.schedules.CosineDecayRestarts(\n",
    "        0.05, first_decay_steps=iterations_per_epoch * 10, \n",
    "        t_mul=2, m_mul=1, alpha=5e-4\n",
    "    ),\n",
    "    momentum=0.9, nesterov=True\n",
    ")\n",
    "\"\"\"\n",
    "opt_nas = tf.keras.optimizers.Adam(\n",
    "    learning_rate=tf.keras.optimizers.schedules.CosineDecayRestarts(\n",
    "        0.05, first_decay_steps=iterations_per_epoch * 10, \n",
    "        t_mul=2, m_mul=1, alpha=5e-4\n",
    "    ),\n",
    "    beta_1=0.0, epsilon=1e-3\n",
    ")\n",
    "\"\"\""
   ]
  },
  {
   "cell_type": "code",
   "execution_count": 11,
   "id": "e9ace9fd",
   "metadata": {},
   "outputs": [],
   "source": [
    "opt_controller = tf.keras.optimizers.Adam(\n",
    "    learning_rate=0.0035, \n",
    "    beta_1=0.0, # beta_1=0.0, 0.1 \n",
    "    epsilon=1e-3\n",
    ")"
   ]
  },
  {
   "cell_type": "code",
   "execution_count": 12,
   "id": "46489952",
   "metadata": {},
   "outputs": [
    {
     "name": "stdout",
     "output_type": "stream",
     "text": [
      "MicroNasModel configured to be dynamic-builded. \n",
      "WARNING:tensorflow:5 out of the last 5 calls to <function StackedLayers.__call__ at 0x7f893429d280> triggered tf.function retracing. Tracing is expensive and the excessive number of tracings could be due to (1) creating @tf.function repeatedly in a loop, (2) passing tensors with different shapes, (3) passing Python objects instead of tensors. For (1), please define your @tf.function outside of the loop. For (2), @tf.function has reduce_retracing=True option that can avoid unnecessary retracing. For (3), please refer to https://www.tensorflow.org/guide/function#controlling_retracing and https://www.tensorflow.org/api_docs/python/tf/function for  more details.\n",
      "WARNING:tensorflow:6 out of the last 6 calls to <function StackedLayers.__call__ at 0x7f893425f700> triggered tf.function retracing. Tracing is expensive and the excessive number of tracings could be due to (1) creating @tf.function repeatedly in a loop, (2) passing tensors with different shapes, (3) passing Python objects instead of tensors. For (1), please define your @tf.function outside of the loop. For (2), @tf.function has reduce_retracing=True option that can avoid unnecessary retracing. For (3), please refer to https://www.tensorflow.org/guide/function#controlling_retracing and https://www.tensorflow.org/api_docs/python/tf/function for  more details.\n",
      "WARNING:tensorflow:5 out of the last 5 calls to <function CalibrateTwoLayersSize.__call__ at 0x7f892c0aaf70> triggered tf.function retracing. Tracing is expensive and the excessive number of tracings could be due to (1) creating @tf.function repeatedly in a loop, (2) passing tensors with different shapes, (3) passing Python objects instead of tensors. For (1), please define your @tf.function outside of the loop. For (2), @tf.function has reduce_retracing=True option that can avoid unnecessary retracing. For (3), please refer to https://www.tensorflow.org/guide/function#controlling_retracing and https://www.tensorflow.org/api_docs/python/tf/function for  more details.\n",
      "WARNING:tensorflow:6 out of the last 6 calls to <function CalibrateTwoLayersSize.__call__ at 0x7f892c0aaf70> triggered tf.function retracing. Tracing is expensive and the excessive number of tracings could be due to (1) creating @tf.function repeatedly in a loop, (2) passing tensors with different shapes, (3) passing Python objects instead of tensors. For (1), please define your @tf.function outside of the loop. For (2), @tf.function has reduce_retracing=True option that can avoid unnecessary retracing. For (3), please refer to https://www.tensorflow.org/guide/function#controlling_retracing and https://www.tensorflow.org/api_docs/python/tf/function for  more details.\n",
      "WARNING:tensorflow:5 out of the last 5 calls to <function DynamicInputConvBn.__call__ at 0x7f887c045e50> triggered tf.function retracing. Tracing is expensive and the excessive number of tracings could be due to (1) creating @tf.function repeatedly in a loop, (2) passing tensors with different shapes, (3) passing Python objects instead of tensors. For (1), please define your @tf.function outside of the loop. For (2), @tf.function has reduce_retracing=True option that can avoid unnecessary retracing. For (3), please refer to https://www.tensorflow.org/guide/function#controlling_retracing and https://www.tensorflow.org/api_docs/python/tf/function for  more details.\n",
      "WARNING:tensorflow:6 out of the last 6 calls to <function DynamicInputConvBn.__call__ at 0x7f858879d820> triggered tf.function retracing. Tracing is expensive and the excessive number of tracings could be due to (1) creating @tf.function repeatedly in a loop, (2) passing tensors with different shapes, (3) passing Python objects instead of tensors. For (1), please define your @tf.function outside of the loop. For (2), @tf.function has reduce_retracing=True option that can avoid unnecessary retracing. For (3), please refer to https://www.tensorflow.org/guide/function#controlling_retracing and https://www.tensorflow.org/api_docs/python/tf/function for  more details.\n",
      "Use additional aux-head for training in layer_id=6\n"
     ]
    }
   ],
   "source": [
    "micro_child = MicroChild(\n",
    "    input_shape=(32, 32, 3),\n",
    "    nas_controller=micro_lstm,\n",
    "    opt_nas=opt_nas,\n",
    "    opt_controller=opt_controller,\n",
    "    num_cells=5, num_layers=6, out_filters=20, # 48\n",
    "    keep_prob=0.9, drop_path_keep_prob=0.6,\n",
    "    # l2_reg=1e-4, # TODO: Look at the comment inside this module how to fix it\n",
    "    use_aux_heads=True, clip_mode=ClipGradsMode.NORM\n",
    ")"
   ]
  },
  {
   "cell_type": "code",
   "execution_count": 13,
   "id": "0f811f94",
   "metadata": {
    "scrolled": true
   },
   "outputs": [
    {
     "name": "stderr",
     "output_type": "stream",
     "text": [
      "  0%|          | 0/312 [00:00<?, ?it/s]"
     ]
    },
    {
     "name": "stdout",
     "output_type": "stream",
     "text": [
      "Epoch=1/50\n",
      "Train nas-model...\n"
     ]
    },
    {
     "name": "stderr",
     "output_type": "stream",
     "text": [
      "  0%|          | 0/312 [00:21<?, ?it/s]\n"
     ]
    },
    {
     "ename": "InvalidArgumentError",
     "evalue": "{{function_node __wrapped__Unique_device_/job:localhost/replica:0/task:0/device:GPU:0}} unique expects a 1D vector. [Op:Unique]",
     "output_type": "error",
     "traceback": [
      "\u001b[0;31m---------------------------------------------------------------------------\u001b[0m",
      "\u001b[0;31mInvalidArgumentError\u001b[0m                      Traceback (most recent call last)",
      "\u001b[0;32m<ipython-input-13-655153a913a9>\u001b[0m in \u001b[0;36m<module>\u001b[0;34m\u001b[0m\n\u001b[0;32m----> 1\u001b[0;31m micro_child.fit_controller(\n\u001b[0m\u001b[1;32m      2\u001b[0m     \u001b[0mtrain_dataset\u001b[0m\u001b[0;34m,\u001b[0m \u001b[0mtest_dataset\u001b[0m\u001b[0;34m,\u001b[0m\u001b[0;34m\u001b[0m\u001b[0;34m\u001b[0m\u001b[0m\n\u001b[1;32m      3\u001b[0m     \u001b[0msteps_per_epoch_for_model\u001b[0m\u001b[0;34m=\u001b[0m\u001b[0miterations_per_epoch\u001b[0m\u001b[0;34m,\u001b[0m\u001b[0;34m\u001b[0m\u001b[0;34m\u001b[0m\u001b[0m\n\u001b[1;32m      4\u001b[0m     \u001b[0mnum_epochs_for_model\u001b[0m\u001b[0;34m=\u001b[0m\u001b[0;36m1\u001b[0m\u001b[0;34m,\u001b[0m \u001b[0mnum_epoch_for_controller\u001b[0m\u001b[0;34m=\u001b[0m\u001b[0;36m30\u001b[0m\u001b[0;34m,\u001b[0m\u001b[0;34m\u001b[0m\u001b[0;34m\u001b[0m\u001b[0m\n\u001b[1;32m      5\u001b[0m     \u001b[0mepochs\u001b[0m\u001b[0;34m=\u001b[0m\u001b[0;36m50\u001b[0m\u001b[0;34m\u001b[0m\u001b[0;34m\u001b[0m\u001b[0m\n",
      "\u001b[0;32m<ipython-input-5-5989d59e8300>\u001b[0m in \u001b[0;36mfit_controller\u001b[0;34m(self, data_generator, test_data_generator, steps_per_epoch_for_model, num_epochs_for_model, num_epoch_for_controller, epochs, eval_period)\u001b[0m\n\u001b[1;32m    293\u001b[0m             \u001b[0;31m# Train model\u001b[0m\u001b[0;34m\u001b[0m\u001b[0;34m\u001b[0m\u001b[0;34m\u001b[0m\u001b[0m\n\u001b[1;32m    294\u001b[0m             \u001b[0mprint\u001b[0m\u001b[0;34m(\u001b[0m\u001b[0;34m'Train nas-model...'\u001b[0m\u001b[0;34m)\u001b[0m\u001b[0;34m\u001b[0m\u001b[0;34m\u001b[0m\u001b[0m\n\u001b[0;32m--> 295\u001b[0;31m             \u001b[0mself\u001b[0m\u001b[0;34m.\u001b[0m\u001b[0mfit_nas\u001b[0m\u001b[0;34m(\u001b[0m\u001b[0mdata_generator\u001b[0m\u001b[0;34m,\u001b[0m \u001b[0mnum_epochs_for_model\u001b[0m\u001b[0;34m,\u001b[0m \u001b[0msteps_per_epoch_for_model\u001b[0m\u001b[0;34m)\u001b[0m\u001b[0;34m\u001b[0m\u001b[0;34m\u001b[0m\u001b[0m\n\u001b[0m\u001b[1;32m    296\u001b[0m             \u001b[0;31m# Train nas controller\u001b[0m\u001b[0;34m\u001b[0m\u001b[0;34m\u001b[0m\u001b[0;34m\u001b[0m\u001b[0m\n\u001b[1;32m    297\u001b[0m             \u001b[0mprint\u001b[0m\u001b[0;34m(\u001b[0m\u001b[0;34m'Train nas-controller...'\u001b[0m\u001b[0;34m)\u001b[0m\u001b[0;34m\u001b[0m\u001b[0;34m\u001b[0m\u001b[0m\n",
      "\u001b[0;32m<ipython-input-5-5989d59e8300>\u001b[0m in \u001b[0;36mfit_nas\u001b[0;34m(self, data_generator, epochs, steps_per_epoch, print_period, decay)\u001b[0m\n\u001b[1;32m    181\u001b[0m             \u001b[0;32mtry\u001b[0m\u001b[0;34m:\u001b[0m\u001b[0;34m\u001b[0m\u001b[0;34m\u001b[0m\u001b[0m\n\u001b[1;32m    182\u001b[0m                 \u001b[0;32mfor\u001b[0m \u001b[0mi\u001b[0m\u001b[0;34m,\u001b[0m \u001b[0mdata\u001b[0m \u001b[0;32min\u001b[0m \u001b[0miterator\u001b[0m\u001b[0;34m:\u001b[0m\u001b[0;34m\u001b[0m\u001b[0;34m\u001b[0m\u001b[0m\n\u001b[0;32m--> 183\u001b[0;31m                     \u001b[0mmetric_dict\u001b[0m \u001b[0;34m=\u001b[0m \u001b[0mself\u001b[0m\u001b[0;34m.\u001b[0m\u001b[0msingle_step_nas_micro\u001b[0m\u001b[0;34m(\u001b[0m\u001b[0mdata\u001b[0m\u001b[0;34m)\u001b[0m\u001b[0;34m\u001b[0m\u001b[0;34m\u001b[0m\u001b[0m\n\u001b[0m\u001b[1;32m    184\u001b[0m                     \u001b[0;32mfor\u001b[0m \u001b[0mk\u001b[0m\u001b[0;34m,\u001b[0m\u001b[0mv\u001b[0m \u001b[0;32min\u001b[0m \u001b[0mmetric_dict\u001b[0m\u001b[0;34m.\u001b[0m\u001b[0mitems\u001b[0m\u001b[0;34m(\u001b[0m\u001b[0;34m)\u001b[0m\u001b[0;34m:\u001b[0m\u001b[0;34m\u001b[0m\u001b[0;34m\u001b[0m\u001b[0m\n\u001b[1;32m    185\u001b[0m                         \u001b[0;32mif\u001b[0m \u001b[0mmetric_global_dict\u001b[0m\u001b[0;34m.\u001b[0m\u001b[0mget\u001b[0m\u001b[0;34m(\u001b[0m\u001b[0mk\u001b[0m\u001b[0;34m)\u001b[0m \u001b[0;32mis\u001b[0m \u001b[0;32mNone\u001b[0m\u001b[0;34m:\u001b[0m\u001b[0;34m\u001b[0m\u001b[0;34m\u001b[0m\u001b[0m\n",
      "\u001b[0;32m<ipython-input-5-5989d59e8300>\u001b[0m in \u001b[0;36msingle_step_nas_micro\u001b[0;34m(self, data)\u001b[0m\n\u001b[1;32m    125\u001b[0m                 \u001b[0;32mraise\u001b[0m \u001b[0mNotImplementedError\u001b[0m\u001b[0;34m(\u001b[0m\u001b[0;34m\"Unknown clip_mode {}\"\u001b[0m\u001b[0;34m.\u001b[0m\u001b[0mformat\u001b[0m\u001b[0;34m(\u001b[0m\u001b[0mself\u001b[0m\u001b[0;34m.\u001b[0m\u001b[0mclip_mode\u001b[0m\u001b[0;34m)\u001b[0m\u001b[0;34m)\u001b[0m\u001b[0;34m\u001b[0m\u001b[0;34m\u001b[0m\u001b[0m\n\u001b[1;32m    126\u001b[0m         \u001b[0;31m# Update weights\u001b[0m\u001b[0;34m\u001b[0m\u001b[0;34m\u001b[0m\u001b[0;34m\u001b[0m\u001b[0m\n\u001b[0;32m--> 127\u001b[0;31m         \u001b[0mself\u001b[0m\u001b[0;34m.\u001b[0m\u001b[0mmodel\u001b[0m\u001b[0;34m.\u001b[0m\u001b[0moptimizer\u001b[0m\u001b[0;34m.\u001b[0m\u001b[0mapply_gradients\u001b[0m\u001b[0;34m(\u001b[0m\u001b[0mzip\u001b[0m\u001b[0;34m(\u001b[0m\u001b[0mchecked_gradients\u001b[0m\u001b[0;34m,\u001b[0m \u001b[0mchecked_trainable_vars\u001b[0m\u001b[0;34m)\u001b[0m\u001b[0;34m)\u001b[0m\u001b[0;34m\u001b[0m\u001b[0;34m\u001b[0m\u001b[0m\n\u001b[0m\u001b[1;32m    128\u001b[0m         \u001b[0;31m# Update metrics (includes the metric that tracks the loss)\u001b[0m\u001b[0;34m\u001b[0m\u001b[0;34m\u001b[0m\u001b[0;34m\u001b[0m\u001b[0m\n\u001b[1;32m    129\u001b[0m         \u001b[0mself\u001b[0m\u001b[0;34m.\u001b[0m\u001b[0mmodel\u001b[0m\u001b[0;34m.\u001b[0m\u001b[0mcompiled_metrics\u001b[0m\u001b[0;34m.\u001b[0m\u001b[0mupdate_state\u001b[0m\u001b[0;34m(\u001b[0m\u001b[0my_true\u001b[0m\u001b[0;34m,\u001b[0m \u001b[0my_pred\u001b[0m\u001b[0;34m)\u001b[0m\u001b[0;34m\u001b[0m\u001b[0;34m\u001b[0m\u001b[0m\n",
      "\u001b[0;32m/usr/local/lib/python3.8/dist-packages/keras/optimizers/optimizer_v2/optimizer_v2.py\u001b[0m in \u001b[0;36mapply_gradients\u001b[0;34m(self, grads_and_vars, name, experimental_aggregate_gradients)\u001b[0m\n\u001b[1;32m    736\u001b[0m             \u001b[0mgrads_and_vars\u001b[0m \u001b[0;34m=\u001b[0m \u001b[0mself\u001b[0m\u001b[0;34m.\u001b[0m\u001b[0m_transform_gradients\u001b[0m\u001b[0;34m(\u001b[0m\u001b[0mgrads_and_vars\u001b[0m\u001b[0;34m)\u001b[0m\u001b[0;34m\u001b[0m\u001b[0;34m\u001b[0m\u001b[0m\n\u001b[1;32m    737\u001b[0m \u001b[0;34m\u001b[0m\u001b[0m\n\u001b[0;32m--> 738\u001b[0;31m             return tf.__internal__.distribute.interim.maybe_merge_call(\n\u001b[0m\u001b[1;32m    739\u001b[0m                 functools.partial(\n\u001b[1;32m    740\u001b[0m                     \u001b[0mself\u001b[0m\u001b[0;34m.\u001b[0m\u001b[0m_distributed_apply\u001b[0m\u001b[0;34m,\u001b[0m \u001b[0mapply_state\u001b[0m\u001b[0;34m=\u001b[0m\u001b[0mapply_state\u001b[0m\u001b[0;34m\u001b[0m\u001b[0;34m\u001b[0m\u001b[0m\n",
      "\u001b[0;32m/usr/local/lib/python3.8/dist-packages/tensorflow/python/distribute/merge_call_interim.py\u001b[0m in \u001b[0;36mmaybe_merge_call\u001b[0;34m(fn, strategy, *args, **kwargs)\u001b[0m\n\u001b[1;32m     49\u001b[0m   \"\"\"\n\u001b[1;32m     50\u001b[0m   \u001b[0;32mif\u001b[0m \u001b[0mstrategy_supports_no_merge_call\u001b[0m\u001b[0;34m(\u001b[0m\u001b[0;34m)\u001b[0m\u001b[0;34m:\u001b[0m\u001b[0;34m\u001b[0m\u001b[0;34m\u001b[0m\u001b[0m\n\u001b[0;32m---> 51\u001b[0;31m     \u001b[0;32mreturn\u001b[0m \u001b[0mfn\u001b[0m\u001b[0;34m(\u001b[0m\u001b[0mstrategy\u001b[0m\u001b[0;34m,\u001b[0m \u001b[0;34m*\u001b[0m\u001b[0margs\u001b[0m\u001b[0;34m,\u001b[0m \u001b[0;34m**\u001b[0m\u001b[0mkwargs\u001b[0m\u001b[0;34m)\u001b[0m\u001b[0;34m\u001b[0m\u001b[0;34m\u001b[0m\u001b[0m\n\u001b[0m\u001b[1;32m     52\u001b[0m   \u001b[0;32melse\u001b[0m\u001b[0;34m:\u001b[0m\u001b[0;34m\u001b[0m\u001b[0;34m\u001b[0m\u001b[0m\n\u001b[1;32m     53\u001b[0m     return distribution_strategy_context.get_replica_context().merge_call(\n",
      "\u001b[0;32m/usr/local/lib/python3.8/dist-packages/keras/optimizers/optimizer_v2/optimizer_v2.py\u001b[0m in \u001b[0;36m_distributed_apply\u001b[0;34m(self, distribution, grads_and_vars, apply_state, name)\u001b[0m\n\u001b[1;32m    795\u001b[0m                         \u001b[0;32melse\u001b[0m \u001b[0;34m\"update_\"\u001b[0m \u001b[0;34m+\u001b[0m \u001b[0mvar\u001b[0m\u001b[0;34m.\u001b[0m\u001b[0mop\u001b[0m\u001b[0;34m.\u001b[0m\u001b[0mname\u001b[0m\u001b[0;34m\u001b[0m\u001b[0;34m\u001b[0m\u001b[0m\n\u001b[1;32m    796\u001b[0m                     ):\n\u001b[0;32m--> 797\u001b[0;31m                         update_op = distribution.extended.update(\n\u001b[0m\u001b[1;32m    798\u001b[0m                             \u001b[0mvar\u001b[0m\u001b[0;34m,\u001b[0m\u001b[0;34m\u001b[0m\u001b[0;34m\u001b[0m\u001b[0m\n\u001b[1;32m    799\u001b[0m                             \u001b[0mapply_grad_to_update_var\u001b[0m\u001b[0;34m,\u001b[0m\u001b[0;34m\u001b[0m\u001b[0;34m\u001b[0m\u001b[0m\n",
      "\u001b[0;32m/usr/local/lib/python3.8/dist-packages/tensorflow/python/distribute/distribute_lib.py\u001b[0m in \u001b[0;36mupdate\u001b[0;34m(self, var, fn, args, kwargs, group)\u001b[0m\n\u001b[1;32m   2631\u001b[0m           fn, autograph_ctx.control_status_ctx(), convert_by_default=False)\n\u001b[1;32m   2632\u001b[0m       \u001b[0;32mwith\u001b[0m \u001b[0mself\u001b[0m\u001b[0;34m.\u001b[0m\u001b[0m_container_strategy\u001b[0m\u001b[0;34m(\u001b[0m\u001b[0;34m)\u001b[0m\u001b[0;34m.\u001b[0m\u001b[0mscope\u001b[0m\u001b[0;34m(\u001b[0m\u001b[0;34m)\u001b[0m\u001b[0;34m:\u001b[0m\u001b[0;34m\u001b[0m\u001b[0;34m\u001b[0m\u001b[0m\n\u001b[0;32m-> 2633\u001b[0;31m         \u001b[0;32mreturn\u001b[0m \u001b[0mself\u001b[0m\u001b[0;34m.\u001b[0m\u001b[0m_update\u001b[0m\u001b[0;34m(\u001b[0m\u001b[0mvar\u001b[0m\u001b[0;34m,\u001b[0m \u001b[0mfn\u001b[0m\u001b[0;34m,\u001b[0m \u001b[0margs\u001b[0m\u001b[0;34m,\u001b[0m \u001b[0mkwargs\u001b[0m\u001b[0;34m,\u001b[0m \u001b[0mgroup\u001b[0m\u001b[0;34m)\u001b[0m\u001b[0;34m\u001b[0m\u001b[0;34m\u001b[0m\u001b[0m\n\u001b[0m\u001b[1;32m   2634\u001b[0m     \u001b[0;32melse\u001b[0m\u001b[0;34m:\u001b[0m\u001b[0;34m\u001b[0m\u001b[0;34m\u001b[0m\u001b[0m\n\u001b[1;32m   2635\u001b[0m       return self._replica_ctx_update(\n",
      "\u001b[0;32m/usr/local/lib/python3.8/dist-packages/tensorflow/python/distribute/distribute_lib.py\u001b[0m in \u001b[0;36m_update\u001b[0;34m(self, var, fn, args, kwargs, group)\u001b[0m\n\u001b[1;32m   3704\u001b[0m     \u001b[0;31m# The implementations of _update() and _update_non_slot() are identical\u001b[0m\u001b[0;34m\u001b[0m\u001b[0;34m\u001b[0m\u001b[0;34m\u001b[0m\u001b[0m\n\u001b[1;32m   3705\u001b[0m     \u001b[0;31m# except _update() passes `var` as the first argument to `fn()`.\u001b[0m\u001b[0;34m\u001b[0m\u001b[0;34m\u001b[0m\u001b[0;34m\u001b[0m\u001b[0m\n\u001b[0;32m-> 3706\u001b[0;31m     \u001b[0;32mreturn\u001b[0m \u001b[0mself\u001b[0m\u001b[0;34m.\u001b[0m\u001b[0m_update_non_slot\u001b[0m\u001b[0;34m(\u001b[0m\u001b[0mvar\u001b[0m\u001b[0;34m,\u001b[0m \u001b[0mfn\u001b[0m\u001b[0;34m,\u001b[0m \u001b[0;34m(\u001b[0m\u001b[0mvar\u001b[0m\u001b[0;34m,\u001b[0m\u001b[0;34m)\u001b[0m \u001b[0;34m+\u001b[0m \u001b[0mtuple\u001b[0m\u001b[0;34m(\u001b[0m\u001b[0margs\u001b[0m\u001b[0;34m)\u001b[0m\u001b[0;34m,\u001b[0m \u001b[0mkwargs\u001b[0m\u001b[0;34m,\u001b[0m \u001b[0mgroup\u001b[0m\u001b[0;34m)\u001b[0m\u001b[0;34m\u001b[0m\u001b[0;34m\u001b[0m\u001b[0m\n\u001b[0m\u001b[1;32m   3707\u001b[0m \u001b[0;34m\u001b[0m\u001b[0m\n\u001b[1;32m   3708\u001b[0m   \u001b[0;32mdef\u001b[0m \u001b[0m_update_non_slot\u001b[0m\u001b[0;34m(\u001b[0m\u001b[0mself\u001b[0m\u001b[0;34m,\u001b[0m \u001b[0mcolocate_with\u001b[0m\u001b[0;34m,\u001b[0m \u001b[0mfn\u001b[0m\u001b[0;34m,\u001b[0m \u001b[0margs\u001b[0m\u001b[0;34m,\u001b[0m \u001b[0mkwargs\u001b[0m\u001b[0;34m,\u001b[0m \u001b[0mshould_group\u001b[0m\u001b[0;34m)\u001b[0m\u001b[0;34m:\u001b[0m\u001b[0;34m\u001b[0m\u001b[0;34m\u001b[0m\u001b[0m\n",
      "\u001b[0;32m/usr/local/lib/python3.8/dist-packages/tensorflow/python/distribute/distribute_lib.py\u001b[0m in \u001b[0;36m_update_non_slot\u001b[0;34m(self, colocate_with, fn, args, kwargs, should_group)\u001b[0m\n\u001b[1;32m   3710\u001b[0m     \u001b[0;31m# once that value is used for something.\u001b[0m\u001b[0;34m\u001b[0m\u001b[0;34m\u001b[0m\u001b[0;34m\u001b[0m\u001b[0m\n\u001b[1;32m   3711\u001b[0m     \u001b[0;32mwith\u001b[0m \u001b[0mUpdateContext\u001b[0m\u001b[0;34m(\u001b[0m\u001b[0mcolocate_with\u001b[0m\u001b[0;34m)\u001b[0m\u001b[0;34m:\u001b[0m\u001b[0;34m\u001b[0m\u001b[0;34m\u001b[0m\u001b[0m\n\u001b[0;32m-> 3712\u001b[0;31m       \u001b[0mresult\u001b[0m \u001b[0;34m=\u001b[0m \u001b[0mfn\u001b[0m\u001b[0;34m(\u001b[0m\u001b[0;34m*\u001b[0m\u001b[0margs\u001b[0m\u001b[0;34m,\u001b[0m \u001b[0;34m**\u001b[0m\u001b[0mkwargs\u001b[0m\u001b[0;34m)\u001b[0m\u001b[0;34m\u001b[0m\u001b[0;34m\u001b[0m\u001b[0m\n\u001b[0m\u001b[1;32m   3713\u001b[0m       \u001b[0;32mif\u001b[0m \u001b[0mshould_group\u001b[0m\u001b[0;34m:\u001b[0m\u001b[0;34m\u001b[0m\u001b[0;34m\u001b[0m\u001b[0m\n\u001b[1;32m   3714\u001b[0m         \u001b[0;32mreturn\u001b[0m \u001b[0mresult\u001b[0m\u001b[0;34m\u001b[0m\u001b[0;34m\u001b[0m\u001b[0m\n",
      "\u001b[0;32m/usr/local/lib/python3.8/dist-packages/tensorflow/python/autograph/impl/api.py\u001b[0m in \u001b[0;36mwrapper\u001b[0;34m(*args, **kwargs)\u001b[0m\n\u001b[1;32m    593\u001b[0m   \u001b[0;32mdef\u001b[0m \u001b[0mwrapper\u001b[0m\u001b[0;34m(\u001b[0m\u001b[0;34m*\u001b[0m\u001b[0margs\u001b[0m\u001b[0;34m,\u001b[0m \u001b[0;34m**\u001b[0m\u001b[0mkwargs\u001b[0m\u001b[0;34m)\u001b[0m\u001b[0;34m:\u001b[0m\u001b[0;34m\u001b[0m\u001b[0;34m\u001b[0m\u001b[0m\n\u001b[1;32m    594\u001b[0m     \u001b[0;32mwith\u001b[0m \u001b[0mag_ctx\u001b[0m\u001b[0;34m.\u001b[0m\u001b[0mControlStatusCtx\u001b[0m\u001b[0;34m(\u001b[0m\u001b[0mstatus\u001b[0m\u001b[0;34m=\u001b[0m\u001b[0mag_ctx\u001b[0m\u001b[0;34m.\u001b[0m\u001b[0mStatus\u001b[0m\u001b[0;34m.\u001b[0m\u001b[0mUNSPECIFIED\u001b[0m\u001b[0;34m)\u001b[0m\u001b[0;34m:\u001b[0m\u001b[0;34m\u001b[0m\u001b[0;34m\u001b[0m\u001b[0m\n\u001b[0;32m--> 595\u001b[0;31m       \u001b[0;32mreturn\u001b[0m \u001b[0mfunc\u001b[0m\u001b[0;34m(\u001b[0m\u001b[0;34m*\u001b[0m\u001b[0margs\u001b[0m\u001b[0;34m,\u001b[0m \u001b[0;34m**\u001b[0m\u001b[0mkwargs\u001b[0m\u001b[0;34m)\u001b[0m\u001b[0;34m\u001b[0m\u001b[0;34m\u001b[0m\u001b[0m\n\u001b[0m\u001b[1;32m    596\u001b[0m \u001b[0;34m\u001b[0m\u001b[0m\n\u001b[1;32m    597\u001b[0m   \u001b[0;32mif\u001b[0m \u001b[0minspect\u001b[0m\u001b[0;34m.\u001b[0m\u001b[0misfunction\u001b[0m\u001b[0;34m(\u001b[0m\u001b[0mfunc\u001b[0m\u001b[0;34m)\u001b[0m \u001b[0;32mor\u001b[0m \u001b[0minspect\u001b[0m\u001b[0;34m.\u001b[0m\u001b[0mismethod\u001b[0m\u001b[0;34m(\u001b[0m\u001b[0mfunc\u001b[0m\u001b[0;34m)\u001b[0m\u001b[0;34m:\u001b[0m\u001b[0;34m\u001b[0m\u001b[0;34m\u001b[0m\u001b[0m\n",
      "\u001b[0;32m/usr/local/lib/python3.8/dist-packages/keras/optimizers/optimizer_v2/optimizer_v2.py\u001b[0m in \u001b[0;36mapply_grad_to_update_var\u001b[0;34m(var, grad)\u001b[0m\n\u001b[1;32m    768\u001b[0m                 \u001b[0;32mif\u001b[0m \u001b[0;34m\"apply_state\"\u001b[0m \u001b[0;32min\u001b[0m \u001b[0mself\u001b[0m\u001b[0;34m.\u001b[0m\u001b[0m_sparse_apply_args\u001b[0m\u001b[0;34m:\u001b[0m\u001b[0;34m\u001b[0m\u001b[0;34m\u001b[0m\u001b[0m\n\u001b[1;32m    769\u001b[0m                     \u001b[0mapply_kwargs\u001b[0m\u001b[0;34m[\u001b[0m\u001b[0;34m\"apply_state\"\u001b[0m\u001b[0;34m]\u001b[0m \u001b[0;34m=\u001b[0m \u001b[0mapply_state\u001b[0m\u001b[0;34m\u001b[0m\u001b[0;34m\u001b[0m\u001b[0m\n\u001b[0;32m--> 770\u001b[0;31m                 return self._resource_apply_sparse_duplicate_indices(\n\u001b[0m\u001b[1;32m    771\u001b[0m                     \u001b[0mgrad\u001b[0m\u001b[0;34m.\u001b[0m\u001b[0mvalues\u001b[0m\u001b[0;34m,\u001b[0m \u001b[0mvar\u001b[0m\u001b[0;34m,\u001b[0m \u001b[0mgrad\u001b[0m\u001b[0;34m.\u001b[0m\u001b[0mindices\u001b[0m\u001b[0;34m,\u001b[0m \u001b[0;34m**\u001b[0m\u001b[0mapply_kwargs\u001b[0m\u001b[0;34m\u001b[0m\u001b[0;34m\u001b[0m\u001b[0m\n\u001b[1;32m    772\u001b[0m                 )\n",
      "\u001b[0;32m/usr/local/lib/python3.8/dist-packages/keras/optimizers/optimizer_v2/gradient_descent.py\u001b[0m in \u001b[0;36m_resource_apply_sparse_duplicate_indices\u001b[0;34m(self, grad, var, indices, **kwargs)\u001b[0m\n\u001b[1;32m    171\u001b[0m     ):\n\u001b[1;32m    172\u001b[0m         \u001b[0;32mif\u001b[0m \u001b[0mself\u001b[0m\u001b[0;34m.\u001b[0m\u001b[0m_momentum\u001b[0m\u001b[0;34m:\u001b[0m\u001b[0;34m\u001b[0m\u001b[0;34m\u001b[0m\u001b[0m\n\u001b[0;32m--> 173\u001b[0;31m             return super()._resource_apply_sparse_duplicate_indices(\n\u001b[0m\u001b[1;32m    174\u001b[0m                 \u001b[0mgrad\u001b[0m\u001b[0;34m,\u001b[0m \u001b[0mvar\u001b[0m\u001b[0;34m,\u001b[0m \u001b[0mindices\u001b[0m\u001b[0;34m,\u001b[0m \u001b[0;34m**\u001b[0m\u001b[0mkwargs\u001b[0m\u001b[0;34m\u001b[0m\u001b[0;34m\u001b[0m\u001b[0m\n\u001b[1;32m    175\u001b[0m             )\n",
      "\u001b[0;32m/usr/local/lib/python3.8/dist-packages/keras/optimizers/optimizer_v2/optimizer_v2.py\u001b[0m in \u001b[0;36m_resource_apply_sparse_duplicate_indices\u001b[0;34m(self, grad, handle, indices, **kwargs)\u001b[0m\n\u001b[1;32m   1448\u001b[0m           \u001b[0mAn\u001b[0m\u001b[0;31m \u001b[0m\u001b[0;31m`\u001b[0m\u001b[0mOperation\u001b[0m\u001b[0;31m`\u001b[0m \u001b[0mwhich\u001b[0m \u001b[0mupdates\u001b[0m \u001b[0mthe\u001b[0m \u001b[0mvalue\u001b[0m \u001b[0mof\u001b[0m \u001b[0mthe\u001b[0m \u001b[0mvariable\u001b[0m\u001b[0;34m.\u001b[0m\u001b[0;34m\u001b[0m\u001b[0;34m\u001b[0m\u001b[0m\n\u001b[1;32m   1449\u001b[0m         \"\"\"\n\u001b[0;32m-> 1450\u001b[0;31m         summed_grad, unique_indices = _deduplicate_indexed_slices(\n\u001b[0m\u001b[1;32m   1451\u001b[0m             \u001b[0mvalues\u001b[0m\u001b[0;34m=\u001b[0m\u001b[0mgrad\u001b[0m\u001b[0;34m,\u001b[0m \u001b[0mindices\u001b[0m\u001b[0;34m=\u001b[0m\u001b[0mindices\u001b[0m\u001b[0;34m\u001b[0m\u001b[0;34m\u001b[0m\u001b[0m\n\u001b[1;32m   1452\u001b[0m         )\n",
      "\u001b[0;32m/usr/local/lib/python3.8/dist-packages/keras/optimizers/optimizer_v2/optimizer_v2.py\u001b[0m in \u001b[0;36m_deduplicate_indexed_slices\u001b[0;34m(values, indices)\u001b[0m\n\u001b[1;32m     65\u001b[0m       \u001b[0;31m`\u001b[0m\u001b[0mvalues\u001b[0m\u001b[0;31m`\u001b[0m \u001b[0mslices\u001b[0m \u001b[0massociated\u001b[0m \u001b[0;32mwith\u001b[0m \u001b[0meach\u001b[0m \u001b[0munique\u001b[0m \u001b[0mindex\u001b[0m\u001b[0;34m.\u001b[0m\u001b[0;34m\u001b[0m\u001b[0;34m\u001b[0m\u001b[0m\n\u001b[1;32m     66\u001b[0m     \"\"\"\n\u001b[0;32m---> 67\u001b[0;31m     \u001b[0munique_indices\u001b[0m\u001b[0;34m,\u001b[0m \u001b[0mnew_index_positions\u001b[0m \u001b[0;34m=\u001b[0m \u001b[0mtf\u001b[0m\u001b[0;34m.\u001b[0m\u001b[0munique\u001b[0m\u001b[0;34m(\u001b[0m\u001b[0mindices\u001b[0m\u001b[0;34m)\u001b[0m\u001b[0;34m\u001b[0m\u001b[0;34m\u001b[0m\u001b[0m\n\u001b[0m\u001b[1;32m     68\u001b[0m     summed_values = tf.math.unsorted_segment_sum(\n\u001b[1;32m     69\u001b[0m         \u001b[0mvalues\u001b[0m\u001b[0;34m,\u001b[0m \u001b[0mnew_index_positions\u001b[0m\u001b[0;34m,\u001b[0m \u001b[0mtf\u001b[0m\u001b[0;34m.\u001b[0m\u001b[0mshape\u001b[0m\u001b[0;34m(\u001b[0m\u001b[0munique_indices\u001b[0m\u001b[0;34m)\u001b[0m\u001b[0;34m[\u001b[0m\u001b[0;36m0\u001b[0m\u001b[0;34m]\u001b[0m\u001b[0;34m\u001b[0m\u001b[0;34m\u001b[0m\u001b[0m\n",
      "\u001b[0;32m/usr/local/lib/python3.8/dist-packages/tensorflow/python/util/traceback_utils.py\u001b[0m in \u001b[0;36merror_handler\u001b[0;34m(*args, **kwargs)\u001b[0m\n\u001b[1;32m    151\u001b[0m     \u001b[0;32mexcept\u001b[0m \u001b[0mException\u001b[0m \u001b[0;32mas\u001b[0m \u001b[0me\u001b[0m\u001b[0;34m:\u001b[0m\u001b[0;34m\u001b[0m\u001b[0;34m\u001b[0m\u001b[0m\n\u001b[1;32m    152\u001b[0m       \u001b[0mfiltered_tb\u001b[0m \u001b[0;34m=\u001b[0m \u001b[0m_process_traceback_frames\u001b[0m\u001b[0;34m(\u001b[0m\u001b[0me\u001b[0m\u001b[0;34m.\u001b[0m\u001b[0m__traceback__\u001b[0m\u001b[0;34m)\u001b[0m\u001b[0;34m\u001b[0m\u001b[0;34m\u001b[0m\u001b[0m\n\u001b[0;32m--> 153\u001b[0;31m       \u001b[0;32mraise\u001b[0m \u001b[0me\u001b[0m\u001b[0;34m.\u001b[0m\u001b[0mwith_traceback\u001b[0m\u001b[0;34m(\u001b[0m\u001b[0mfiltered_tb\u001b[0m\u001b[0;34m)\u001b[0m \u001b[0;32mfrom\u001b[0m \u001b[0;32mNone\u001b[0m\u001b[0;34m\u001b[0m\u001b[0;34m\u001b[0m\u001b[0m\n\u001b[0m\u001b[1;32m    154\u001b[0m     \u001b[0;32mfinally\u001b[0m\u001b[0;34m:\u001b[0m\u001b[0;34m\u001b[0m\u001b[0;34m\u001b[0m\u001b[0m\n\u001b[1;32m    155\u001b[0m       \u001b[0;32mdel\u001b[0m \u001b[0mfiltered_tb\u001b[0m\u001b[0;34m\u001b[0m\u001b[0;34m\u001b[0m\u001b[0m\n",
      "\u001b[0;32m/usr/local/lib/python3.8/dist-packages/tensorflow/python/framework/ops.py\u001b[0m in \u001b[0;36mraise_from_not_ok_status\u001b[0;34m(e, name)\u001b[0m\n\u001b[1;32m   7207\u001b[0m \u001b[0;32mdef\u001b[0m \u001b[0mraise_from_not_ok_status\u001b[0m\u001b[0;34m(\u001b[0m\u001b[0me\u001b[0m\u001b[0;34m,\u001b[0m \u001b[0mname\u001b[0m\u001b[0;34m)\u001b[0m\u001b[0;34m:\u001b[0m\u001b[0;34m\u001b[0m\u001b[0;34m\u001b[0m\u001b[0m\n\u001b[1;32m   7208\u001b[0m   \u001b[0me\u001b[0m\u001b[0;34m.\u001b[0m\u001b[0mmessage\u001b[0m \u001b[0;34m+=\u001b[0m \u001b[0;34m(\u001b[0m\u001b[0;34m\" name: \"\u001b[0m \u001b[0;34m+\u001b[0m \u001b[0mname\u001b[0m \u001b[0;32mif\u001b[0m \u001b[0mname\u001b[0m \u001b[0;32mis\u001b[0m \u001b[0;32mnot\u001b[0m \u001b[0;32mNone\u001b[0m \u001b[0;32melse\u001b[0m \u001b[0;34m\"\"\u001b[0m\u001b[0;34m)\u001b[0m\u001b[0;34m\u001b[0m\u001b[0;34m\u001b[0m\u001b[0m\n\u001b[0;32m-> 7209\u001b[0;31m   \u001b[0;32mraise\u001b[0m \u001b[0mcore\u001b[0m\u001b[0;34m.\u001b[0m\u001b[0m_status_to_exception\u001b[0m\u001b[0;34m(\u001b[0m\u001b[0me\u001b[0m\u001b[0;34m)\u001b[0m \u001b[0;32mfrom\u001b[0m \u001b[0;32mNone\u001b[0m  \u001b[0;31m# pylint: disable=protected-access\u001b[0m\u001b[0;34m\u001b[0m\u001b[0;34m\u001b[0m\u001b[0m\n\u001b[0m\u001b[1;32m   7210\u001b[0m \u001b[0;34m\u001b[0m\u001b[0m\n\u001b[1;32m   7211\u001b[0m \u001b[0;34m\u001b[0m\u001b[0m\n",
      "\u001b[0;31mInvalidArgumentError\u001b[0m: {{function_node __wrapped__Unique_device_/job:localhost/replica:0/task:0/device:GPU:0}} unique expects a 1D vector. [Op:Unique]"
     ]
    }
   ],
   "source": [
    "micro_child.fit_controller(\n",
    "    train_dataset, test_dataset, \n",
    "    steps_per_epoch_for_model=iterations_per_epoch,\n",
    "    num_epochs_for_model=1, num_epoch_for_controller=30, \n",
    "    epochs=50\n",
    ")"
   ]
  },
  {
   "cell_type": "code",
   "execution_count": null,
   "id": "ebcf8050",
   "metadata": {},
   "outputs": [],
   "source": []
  },
  {
   "attachments": {},
   "cell_type": "markdown",
   "id": "84b42dba",
   "metadata": {},
   "source": [
    "# Debug stuff\n",
    "Below you can find some stuff for debug created models"
   ]
  },
  {
   "cell_type": "code",
   "execution_count": 16,
   "id": "03e47133",
   "metadata": {},
   "outputs": [],
   "source": [
    "num_cells=5"
   ]
  },
  {
   "cell_type": "code",
   "execution_count": 25,
   "id": "d7c2a3ec",
   "metadata": {},
   "outputs": [
    {
     "data": {
      "text/plain": [
       "5"
      ]
     },
     "execution_count": 25,
     "metadata": {},
     "output_type": "execute_result"
    }
   ],
   "source": [
    "test_arr = [\n",
    "    # First index - layer_id\n",
    "    [  # Second index - branch id \n",
    "        [ # Third index - prev_cell (id)\n",
    "            [None] * NASLayer.COUNT_OP # Fourth index - op_id\n",
    "        ] * (i + 2)\n",
    "        for i in range(num_cells)\n",
    "    ] * NASCellTypeV1.SIZE\n",
    "] * num_cells\n",
    "len(test_arr)"
   ]
  },
  {
   "cell_type": "code",
   "execution_count": 29,
   "id": "8304506f",
   "metadata": {},
   "outputs": [],
   "source": [
    "test_arr = [None] * num_cells\n",
    "for i in range(num_cells):\n",
    "    test_arr[i] = [  \n",
    "        # Second index - branch id \n",
    "        [ # Third index - prev_cell (id)\n",
    "            [None] * NASLayer.COUNT_OP # Fourth index - op_id\n",
    "        ] * (i + 2)\n",
    "    ] * NASCellTypeV1.SIZE"
   ]
  },
  {
   "cell_type": "code",
   "execution_count": 30,
   "id": "1204b6e5",
   "metadata": {},
   "outputs": [
    {
     "name": "stdout",
     "output_type": "stream",
     "text": [
      "[[[None, None, None, None, None], [None, None, None, None, None]], [[None, None, None, None, None], [None, None, None, None, None]]]\n",
      "\n",
      "[[[None, None, None, None, None], [None, None, None, None, None], [None, None, None, None, None]], [[None, None, None, None, None], [None, None, None, None, None], [None, None, None, None, None]]]\n",
      "\n",
      "[[[None, None, None, None, None], [None, None, None, None, None], [None, None, None, None, None], [None, None, None, None, None]], [[None, None, None, None, None], [None, None, None, None, None], [None, None, None, None, None], [None, None, None, None, None]]]\n",
      "\n",
      "[[[None, None, None, None, None], [None, None, None, None, None], [None, None, None, None, None], [None, None, None, None, None], [None, None, None, None, None]], [[None, None, None, None, None], [None, None, None, None, None], [None, None, None, None, None], [None, None, None, None, None], [None, None, None, None, None]]]\n",
      "\n",
      "[[[None, None, None, None, None], [None, None, None, None, None], [None, None, None, None, None], [None, None, None, None, None], [None, None, None, None, None], [None, None, None, None, None]], [[None, None, None, None, None], [None, None, None, None, None], [None, None, None, None, None], [None, None, None, None, None], [None, None, None, None, None], [None, None, None, None, None]]]\n",
      "\n"
     ]
    }
   ],
   "source": [
    "for arr in test_arr:\n",
    "    print(arr)\n",
    "    print()"
   ]
  },
  {
   "cell_type": "code",
   "execution_count": 26,
   "id": "b1a1f8c2",
   "metadata": {},
   "outputs": [
    {
     "name": "stdout",
     "output_type": "stream",
     "text": [
      "[[[None, None, None, None, None], [None, None, None, None, None]], [[None, None, None, None, None], [None, None, None, None, None], [None, None, None, None, None]], [[None, None, None, None, None], [None, None, None, None, None], [None, None, None, None, None], [None, None, None, None, None]], [[None, None, None, None, None], [None, None, None, None, None], [None, None, None, None, None], [None, None, None, None, None], [None, None, None, None, None]], [[None, None, None, None, None], [None, None, None, None, None], [None, None, None, None, None], [None, None, None, None, None], [None, None, None, None, None], [None, None, None, None, None]], [[None, None, None, None, None], [None, None, None, None, None]], [[None, None, None, None, None], [None, None, None, None, None], [None, None, None, None, None]], [[None, None, None, None, None], [None, None, None, None, None], [None, None, None, None, None], [None, None, None, None, None]], [[None, None, None, None, None], [None, None, None, None, None], [None, None, None, None, None], [None, None, None, None, None], [None, None, None, None, None]], [[None, None, None, None, None], [None, None, None, None, None], [None, None, None, None, None], [None, None, None, None, None], [None, None, None, None, None], [None, None, None, None, None]]]\n",
      "\n",
      "[[[None, None, None, None, None], [None, None, None, None, None]], [[None, None, None, None, None], [None, None, None, None, None], [None, None, None, None, None]], [[None, None, None, None, None], [None, None, None, None, None], [None, None, None, None, None], [None, None, None, None, None]], [[None, None, None, None, None], [None, None, None, None, None], [None, None, None, None, None], [None, None, None, None, None], [None, None, None, None, None]], [[None, None, None, None, None], [None, None, None, None, None], [None, None, None, None, None], [None, None, None, None, None], [None, None, None, None, None], [None, None, None, None, None]], [[None, None, None, None, None], [None, None, None, None, None]], [[None, None, None, None, None], [None, None, None, None, None], [None, None, None, None, None]], [[None, None, None, None, None], [None, None, None, None, None], [None, None, None, None, None], [None, None, None, None, None]], [[None, None, None, None, None], [None, None, None, None, None], [None, None, None, None, None], [None, None, None, None, None], [None, None, None, None, None]], [[None, None, None, None, None], [None, None, None, None, None], [None, None, None, None, None], [None, None, None, None, None], [None, None, None, None, None], [None, None, None, None, None]]]\n",
      "\n",
      "[[[None, None, None, None, None], [None, None, None, None, None]], [[None, None, None, None, None], [None, None, None, None, None], [None, None, None, None, None]], [[None, None, None, None, None], [None, None, None, None, None], [None, None, None, None, None], [None, None, None, None, None]], [[None, None, None, None, None], [None, None, None, None, None], [None, None, None, None, None], [None, None, None, None, None], [None, None, None, None, None]], [[None, None, None, None, None], [None, None, None, None, None], [None, None, None, None, None], [None, None, None, None, None], [None, None, None, None, None], [None, None, None, None, None]], [[None, None, None, None, None], [None, None, None, None, None]], [[None, None, None, None, None], [None, None, None, None, None], [None, None, None, None, None]], [[None, None, None, None, None], [None, None, None, None, None], [None, None, None, None, None], [None, None, None, None, None]], [[None, None, None, None, None], [None, None, None, None, None], [None, None, None, None, None], [None, None, None, None, None], [None, None, None, None, None]], [[None, None, None, None, None], [None, None, None, None, None], [None, None, None, None, None], [None, None, None, None, None], [None, None, None, None, None], [None, None, None, None, None]]]\n",
      "\n",
      "[[[None, None, None, None, None], [None, None, None, None, None]], [[None, None, None, None, None], [None, None, None, None, None], [None, None, None, None, None]], [[None, None, None, None, None], [None, None, None, None, None], [None, None, None, None, None], [None, None, None, None, None]], [[None, None, None, None, None], [None, None, None, None, None], [None, None, None, None, None], [None, None, None, None, None], [None, None, None, None, None]], [[None, None, None, None, None], [None, None, None, None, None], [None, None, None, None, None], [None, None, None, None, None], [None, None, None, None, None], [None, None, None, None, None]], [[None, None, None, None, None], [None, None, None, None, None]], [[None, None, None, None, None], [None, None, None, None, None], [None, None, None, None, None]], [[None, None, None, None, None], [None, None, None, None, None], [None, None, None, None, None], [None, None, None, None, None]], [[None, None, None, None, None], [None, None, None, None, None], [None, None, None, None, None], [None, None, None, None, None], [None, None, None, None, None]], [[None, None, None, None, None], [None, None, None, None, None], [None, None, None, None, None], [None, None, None, None, None], [None, None, None, None, None], [None, None, None, None, None]]]\n",
      "\n",
      "[[[None, None, None, None, None], [None, None, None, None, None]], [[None, None, None, None, None], [None, None, None, None, None], [None, None, None, None, None]], [[None, None, None, None, None], [None, None, None, None, None], [None, None, None, None, None], [None, None, None, None, None]], [[None, None, None, None, None], [None, None, None, None, None], [None, None, None, None, None], [None, None, None, None, None], [None, None, None, None, None]], [[None, None, None, None, None], [None, None, None, None, None], [None, None, None, None, None], [None, None, None, None, None], [None, None, None, None, None], [None, None, None, None, None]], [[None, None, None, None, None], [None, None, None, None, None]], [[None, None, None, None, None], [None, None, None, None, None], [None, None, None, None, None]], [[None, None, None, None, None], [None, None, None, None, None], [None, None, None, None, None], [None, None, None, None, None]], [[None, None, None, None, None], [None, None, None, None, None], [None, None, None, None, None], [None, None, None, None, None], [None, None, None, None, None]], [[None, None, None, None, None], [None, None, None, None, None], [None, None, None, None, None], [None, None, None, None, None], [None, None, None, None, None], [None, None, None, None, None]]]\n",
      "\n"
     ]
    }
   ],
   "source": [
    "for arr in test_arr:\n",
    "    print(arr)\n",
    "    print()"
   ]
  },
  {
   "cell_type": "code",
   "execution_count": 22,
   "id": "74db522b",
   "metadata": {},
   "outputs": [
    {
     "data": {
      "text/plain": [
       "5"
      ]
     },
     "execution_count": 22,
     "metadata": {},
     "output_type": "execute_result"
    }
   ],
   "source": [
    "len([None] * num_cells)"
   ]
  },
  {
   "cell_type": "code",
   "execution_count": 12,
   "id": "fdc3d6a3",
   "metadata": {},
   "outputs": [],
   "source": [
    "model = micro_child.model"
   ]
  },
  {
   "cell_type": "code",
   "execution_count": 13,
   "id": "b22a0f88",
   "metadata": {},
   "outputs": [
    {
     "data": {
      "text/plain": [
       "25"
      ]
     },
     "execution_count": 13,
     "metadata": {},
     "output_type": "execute_result"
    }
   ],
   "source": [
    "len(model.enas_layers_dict['0']['normal-layer']._enas_cells_created_list)"
   ]
  },
  {
   "cell_type": "code",
   "execution_count": 14,
   "id": "6fea8407",
   "metadata": {},
   "outputs": [
    {
     "data": {
      "text/plain": [
       "(5,\n",
       " ListWrapper([ListWrapper([<__main__.StackedLayers object at 0x7f46881233d0>, <__main__.StackedLayers object at 0x7f46881072e0>, <__main__.StackedLayers object at 0x7f468812d2b0>, <__main__.StackedLayers object at 0x7f468812da90>, <__main__.StackedLayers object at 0x7f468812d580>]), ListWrapper([<__main__.StackedLayers object at 0x7f46881233d0>, <__main__.StackedLayers object at 0x7f46881072e0>, <__main__.StackedLayers object at 0x7f468812d2b0>, <__main__.StackedLayers object at 0x7f468812da90>, <__main__.StackedLayers object at 0x7f468812d580>]), ListWrapper([<__main__.StackedLayers object at 0x7f46881233d0>, <__main__.StackedLayers object at 0x7f46881072e0>, <__main__.StackedLayers object at 0x7f468812d2b0>, <__main__.StackedLayers object at 0x7f468812da90>, <__main__.StackedLayers object at 0x7f468812d580>]), ListWrapper([<__main__.StackedLayers object at 0x7f46881233d0>, <__main__.StackedLayers object at 0x7f46881072e0>, <__main__.StackedLayers object at 0x7f468812d2b0>, <__main__.StackedLayers object at 0x7f468812da90>, <__main__.StackedLayers object at 0x7f468812d580>]), ListWrapper([<__main__.StackedLayers object at 0x7f46881233d0>, <__main__.StackedLayers object at 0x7f46881072e0>, <__main__.StackedLayers object at 0x7f468812d2b0>, <__main__.StackedLayers object at 0x7f468812da90>, <__main__.StackedLayers object at 0x7f468812d580>])]))"
      ]
     },
     "execution_count": 14,
     "metadata": {},
     "output_type": "execute_result"
    }
   ],
   "source": [
    "part_list = model.enas_layers_dict['0']['normal-layer']._enas_cells_created_list[8][0]\n",
    "len(part_list), part_list"
   ]
  },
  {
   "cell_type": "code",
   "execution_count": 15,
   "id": "80646e37",
   "metadata": {},
   "outputs": [
    {
     "data": {
      "text/plain": [
       "[(5, False), (5, False), (5, False), (5, False), (5, False)]"
      ]
     },
     "execution_count": 15,
     "metadata": {},
     "output_type": "execute_result"
    }
   ],
   "source": [
    "[(len(p), None in p) for p in part_list]"
   ]
  },
  {
   "cell_type": "code",
   "execution_count": null,
   "id": "f4dd7b5e",
   "metadata": {},
   "outputs": [],
   "source": []
  },
  {
   "cell_type": "code",
   "execution_count": 13,
   "id": "9d23bbda",
   "metadata": {},
   "outputs": [],
   "source": []
  },
  {
   "cell_type": "code",
   "execution_count": 55,
   "id": "1a1be850",
   "metadata": {},
   "outputs": [
    {
     "data": {
      "text/plain": [
       "25"
      ]
     },
     "execution_count": 55,
     "metadata": {},
     "output_type": "execute_result"
    }
   ],
   "source": [
    "len(model.enas_layers_dict['0']['normal-layer']._enas_cells_created_list)"
   ]
  },
  {
   "cell_type": "code",
   "execution_count": 53,
   "id": "bb331149",
   "metadata": {},
   "outputs": [
    {
     "data": {
      "text/plain": [
       "(5,\n",
       " ListWrapper([ListWrapper([<__main__.StackedLayers object at 0x7fd5206d5fa0>, <__main__.StackedLayers object at 0x7fd5206d5040>, <__main__.StackedLayers object at 0x7fd5206d5ca0>, <__main__.StackedLayers object at 0x7fd5206bc7c0>, <__main__.StackedLayers object at 0x7fd5206d5af0>]), ListWrapper([<__main__.StackedLayers object at 0x7fd5206d5fa0>, <__main__.StackedLayers object at 0x7fd5206d5040>, <__main__.StackedLayers object at 0x7fd5206d5ca0>, <__main__.StackedLayers object at 0x7fd5206bc7c0>, <__main__.StackedLayers object at 0x7fd5206d5af0>]), ListWrapper([<__main__.StackedLayers object at 0x7fd5206d5fa0>, <__main__.StackedLayers object at 0x7fd5206d5040>, <__main__.StackedLayers object at 0x7fd5206d5ca0>, <__main__.StackedLayers object at 0x7fd5206bc7c0>, <__main__.StackedLayers object at 0x7fd5206d5af0>]), ListWrapper([<__main__.StackedLayers object at 0x7fd5206d5fa0>, <__main__.StackedLayers object at 0x7fd5206d5040>, <__main__.StackedLayers object at 0x7fd5206d5ca0>, <__main__.StackedLayers object at 0x7fd5206bc7c0>, <__main__.StackedLayers object at 0x7fd5206d5af0>]), ListWrapper([<__main__.StackedLayers object at 0x7fd5206d5fa0>, <__main__.StackedLayers object at 0x7fd5206d5040>, <__main__.StackedLayers object at 0x7fd5206d5ca0>, <__main__.StackedLayers object at 0x7fd5206bc7c0>, <__main__.StackedLayers object at 0x7fd5206d5af0>])]))"
      ]
     },
     "execution_count": 53,
     "metadata": {},
     "output_type": "execute_result"
    }
   ],
   "source": [
    "part_list = model.enas_layers_dict['0']['normal-layer']._enas_cells_created_list[8][0]\n",
    "len(part_list), part_list"
   ]
  },
  {
   "cell_type": "code",
   "execution_count": 54,
   "id": "2f7b954e",
   "metadata": {},
   "outputs": [
    {
     "data": {
      "text/plain": [
       "[(5, False), (5, False), (5, False), (5, False), (5, False)]"
      ]
     },
     "execution_count": 54,
     "metadata": {},
     "output_type": "execute_result"
    }
   ],
   "source": [
    "[(len(p), None in p) for p in part_list]"
   ]
  },
  {
   "cell_type": "code",
   "execution_count": null,
   "id": "c573d362",
   "metadata": {},
   "outputs": [],
   "source": []
  },
  {
   "cell_type": "code",
   "execution_count": null,
   "id": "2c43d884",
   "metadata": {},
   "outputs": [],
   "source": []
  },
  {
   "cell_type": "code",
   "execution_count": 12,
   "id": "fd028941",
   "metadata": {},
   "outputs": [
    {
     "data": {
      "text/plain": [
       "<tf.Variable 'Variable:0' shape=() dtype=float32, numpy=0.0>"
      ]
     },
     "execution_count": 12,
     "metadata": {},
     "output_type": "execute_result"
    }
   ],
   "source": [
    "micro_lstm.baseline"
   ]
  },
  {
   "cell_type": "code",
   "execution_count": 13,
   "id": "44b897a5",
   "metadata": {},
   "outputs": [
    {
     "ename": "NameError",
     "evalue": "name 'x_input' is not defined",
     "output_type": "error",
     "traceback": [
      "\u001b[0;31m---------------------------------------------------------------------------\u001b[0m",
      "\u001b[0;31mNameError\u001b[0m                                 Traceback (most recent call last)",
      "\u001b[0;32m<ipython-input-13-f6ef47e10edf>\u001b[0m in \u001b[0;36m<module>\u001b[0;34m\u001b[0m\n\u001b[1;32m      1\u001b[0m y_pred, y_aux_pred_list = micro_child.model(\n\u001b[0;32m----> 2\u001b[0;31m     \u001b[0mx_input\u001b[0m\u001b[0;34m,\u001b[0m\u001b[0;34m\u001b[0m\u001b[0;34m\u001b[0m\u001b[0m\n\u001b[0m\u001b[1;32m      3\u001b[0m     \u001b[0mnormal_arc\u001b[0m\u001b[0;34m=\u001b[0m\u001b[0mnormal_arc\u001b[0m\u001b[0;34m,\u001b[0m \u001b[0mreduce_arc\u001b[0m\u001b[0;34m=\u001b[0m\u001b[0mreduce_arc\u001b[0m\u001b[0;34m,\u001b[0m\u001b[0;34m\u001b[0m\u001b[0;34m\u001b[0m\u001b[0m\n\u001b[1;32m      4\u001b[0m     \u001b[0mtraining\u001b[0m\u001b[0;34m=\u001b[0m\u001b[0;32mTrue\u001b[0m\u001b[0;34m\u001b[0m\u001b[0;34m\u001b[0m\u001b[0m\n\u001b[1;32m      5\u001b[0m )  # Forward pass\n",
      "\u001b[0;31mNameError\u001b[0m: name 'x_input' is not defined"
     ]
    }
   ],
   "source": [
    "y_pred, y_aux_pred_list = micro_child.model(\n",
    "    x_input, \n",
    "    normal_arc=normal_arc, reduce_arc=reduce_arc, \n",
    "    training=True\n",
    ")  # Forward pass"
   ]
  },
  {
   "cell_type": "code",
   "execution_count": null,
   "id": "f323daf7",
   "metadata": {},
   "outputs": [],
   "source": [
    "predictions = tf.argmax(y_pred, axis=-1, output_type=tf.int32)\n",
    "reward = tf.equal(y_true, predictions)\n",
    "reward = tf.reduce_mean(tf.cast(reward, dtype=tf.float32))\n",
    "reward"
   ]
  },
  {
   "cell_type": "code",
   "execution_count": null,
   "id": "eda7f909",
   "metadata": {},
   "outputs": [],
   "source": [
    "sample_entropy, sample_log_prob"
   ]
  },
  {
   "cell_type": "code",
   "execution_count": null,
   "id": "641efbc0",
   "metadata": {},
   "outputs": [],
   "source": [
    "micro_lstm.calculate_loss()"
   ]
  },
  {
   "cell_type": "code",
   "execution_count": 15,
   "id": "c7a86753",
   "metadata": {},
   "outputs": [],
   "source": [
    "x,y=next(iter_train_dataset)"
   ]
  },
  {
   "cell_type": "code",
   "execution_count": 16,
   "id": "181a0299",
   "metadata": {},
   "outputs": [],
   "source": [
    "data = (x,y)"
   ]
  },
  {
   "cell_type": "code",
   "execution_count": 17,
   "id": "e45090aa",
   "metadata": {},
   "outputs": [],
   "source": [
    "x_input, y_true = data\n",
    "normal_arc, reduce_arc = None, None\n",
    "if micro_child.fixed_arc is None:\n",
    "    (normal_arc, reduce_arc), _, _, _, _ = micro_child.nas_controller.calculate_entropy()\n",
    "else:\n",
    "    # TODO: Parse fixed arc?\n",
    "    pass"
   ]
  },
  {
   "cell_type": "code",
   "execution_count": 36,
   "id": "4bc13f70",
   "metadata": {},
   "outputs": [
    {
     "name": "stdout",
     "output_type": "stream",
     "text": [
      "tf.Tensor(nan, shape=(), dtype=float32)\n"
     ]
    },
    {
     "data": {
      "text/plain": [
       "<tf.Tensor: shape=(), dtype=float32, numpy=3.5360575>"
      ]
     },
     "execution_count": 36,
     "metadata": {},
     "output_type": "execute_result"
    }
   ],
   "source": [
    "with tf.GradientTape() as tape:\n",
    "    y_pred, y_aux_pred_list = micro_child.model(\n",
    "        x_input, \n",
    "        normal_arc=normal_arc, reduce_arc=reduce_arc, \n",
    "        training=True\n",
    "    )  # Forward pass\n",
    "    # Compute the loss value\n",
    "    # (the loss function is configured in `compile()`)\n",
    "    losses = micro_child.model.losses\n",
    "    print(tf.reduce_mean(losses))\n",
    "    loss = micro_child.model.compiled_loss(y_true, y_pred, regularization_losses=losses)\n",
    "    if y_aux_pred_list is not None and len(y_aux_pred_list) > 0:\n",
    "        aux_loss = 0.0\n",
    "        for y_aux_head_s in y_aux_pred_list:\n",
    "            aux_loss += micro_child.model.compiled_loss(y_true, y_aux_head_s)\n",
    "        loss += micro_child.model.aux_scale * aux_loss\n",
    "loss"
   ]
  },
  {
   "cell_type": "code",
   "execution_count": 37,
   "id": "d4bb95ff",
   "metadata": {},
   "outputs": [
    {
     "data": {
      "text/plain": [
       "428"
      ]
     },
     "execution_count": 37,
     "metadata": {},
     "output_type": "execute_result"
    }
   ],
   "source": [
    "# Compute gradients\n",
    "gradients = tape.gradient(loss, micro_child.model.trainable_variables)\n",
    "# Remove gradients which are None aka not used with current normal/reduce arc\n",
    "checked_gradients = []\n",
    "checked_trainable_vars = []\n",
    "for gr, tr_var in zip(gradients, micro_child.model.trainable_variables):\n",
    "    # TODO: Is `gr` also None then using tf.function for layers? Need to test it!\n",
    "    if gr is not None:\n",
    "        if micro_child.clip_mode is not None and micro_child.clip_mode == ClipGradsMode.NORM:\n",
    "            assert micro_child.grad_bound_nas_model, \"Need grad_bound to clip gradients.\"\n",
    "            # TODO: Is this if-else needed?\n",
    "            if isinstance(gr, tf.IndexedSlices):\n",
    "                c_g = tf.clip_by_norm(gr.values, micro_child.grad_bound_nas_model)\n",
    "                c_g = tf.IndexedSlices(gr.indices, c_g, dense_shape=tf.shape(tr_var))\n",
    "            else:\n",
    "                c_g = tf.clip_by_norm(gr, micro_child.grad_bound_nas_model)\n",
    "            gr = c_g\n",
    "        checked_gradients.append(gr)\n",
    "        checked_trainable_vars.append(tr_var)\n",
    "# TODO: Test it!\n",
    "if micro_child.clip_mode is not None:\n",
    "    assert micro_child.grad_bound_nas_model, \"Need grad_bound to clip gradients.\"\n",
    "    if micro_child.clip_mode == ClipGradsMode.GLOBAL:\n",
    "        checked_gradients, _ = tf.clip_by_global_norm(checked_gradients, micro_child.grad_bound_nas_model)\n",
    "    elif micro_child.clip_mode == ClipGradsMode.NORM:\n",
    "        # Applied above\n",
    "        pass\n",
    "    else:\n",
    "        raise NotImplementedError(\"Unknown clip_mode {}\".format(self.clip_mode))\n",
    "len(checked_gradients)"
   ]
  },
  {
   "cell_type": "code",
   "execution_count": 38,
   "id": "6f503757",
   "metadata": {},
   "outputs": [
    {
     "data": {
      "text/plain": [
       "[(TensorShape([60]), TensorShape([60])),\n",
       " (TensorShape([60]), TensorShape([60])),\n",
       " (TensorShape([3, 3, 3, 60]), TensorShape([3, 3, 3, 60])),\n",
       " (TensorShape([20]), TensorShape([20])),\n",
       " (TensorShape([20]), TensorShape([20])),\n",
       " (TensorShape([3, 3, 20, 1]), TensorShape([3, 3, 20, 1])),\n",
       " (TensorShape([1, 1, 20, 20]), TensorShape([1, 1, 20, 20])),\n",
       " (TensorShape([20]), TensorShape([20])),\n",
       " (TensorShape([20]), TensorShape([20])),\n",
       " (TensorShape([3, 3, 20, 1]), TensorShape([3, 3, 20, 1])),\n",
       " (TensorShape([1, 1, 20, 20]), TensorShape([1, 1, 20, 20])),\n",
       " (TensorShape([20]), TensorShape([20])),\n",
       " (TensorShape([20]), TensorShape([20])),\n",
       " (TensorShape([3, 3, 20, 1]), TensorShape([3, 3, 20, 1])),\n",
       " (TensorShape([1, 1, 20, 20]), TensorShape([1, 1, 20, 20])),\n",
       " (TensorShape([20]), TensorShape([20])),\n",
       " (TensorShape([20]), TensorShape([20])),\n",
       " (TensorShape([3, 3, 20, 1]), TensorShape([3, 3, 20, 1])),\n",
       " (TensorShape([1, 1, 20, 20]), TensorShape([1, 1, 20, 20])),\n",
       " (TensorShape([20]), TensorShape([20])),\n",
       " (TensorShape([20]), TensorShape([20])),\n",
       " (TensorShape([5, 5, 20, 1]), TensorShape([5, 5, 20, 1])),\n",
       " (TensorShape([1, 1, 20, 20]), TensorShape([1, 1, 20, 20])),\n",
       " (TensorShape([20]), TensorShape([20])),\n",
       " (TensorShape([20]), TensorShape([20])),\n",
       " (TensorShape([5, 5, 20, 1]), TensorShape([5, 5, 20, 1])),\n",
       " (TensorShape([1, 1, 20, 20]), TensorShape([1, 1, 20, 20])),\n",
       " (TensorShape([20]), TensorShape([20])),\n",
       " (TensorShape([20]), TensorShape([20])),\n",
       " (TensorShape([5, 5, 20, 1]), TensorShape([5, 5, 20, 1])),\n",
       " (TensorShape([1, 1, 20, 20]), TensorShape([1, 1, 20, 20])),\n",
       " (TensorShape([20]), TensorShape([20])),\n",
       " (TensorShape([20]), TensorShape([20])),\n",
       " (TensorShape([5, 5, 20, 1]), TensorShape([5, 5, 20, 1])),\n",
       " (TensorShape([1, 1, 20, 20]), TensorShape([1, 1, 20, 20])),\n",
       " (TensorShape([20]), TensorShape([20])),\n",
       " (TensorShape([20]), TensorShape([20])),\n",
       " (TensorShape([3, 3, 20, 1]), TensorShape([3, 3, 20, 1])),\n",
       " (TensorShape([1, 1, 20, 20]), TensorShape([1, 1, 20, 20])),\n",
       " (TensorShape([20]), TensorShape([20])),\n",
       " (TensorShape([20]), TensorShape([20])),\n",
       " (TensorShape([3, 3, 20, 1]), TensorShape([3, 3, 20, 1])),\n",
       " (TensorShape([1, 1, 20, 20]), TensorShape([1, 1, 20, 20])),\n",
       " (TensorShape([20]), TensorShape([20])),\n",
       " (TensorShape([20]), TensorShape([20])),\n",
       " (TensorShape([5, 5, 20, 1]), TensorShape([5, 5, 20, 1])),\n",
       " (TensorShape([1, 1, 20, 20]), TensorShape([1, 1, 20, 20])),\n",
       " (TensorShape([20]), TensorShape([20])),\n",
       " (TensorShape([20]), TensorShape([20])),\n",
       " (TensorShape([5, 5, 20, 1]), TensorShape([5, 5, 20, 1])),\n",
       " (TensorShape([1, 1, 20, 20]), TensorShape([1, 1, 20, 20])),\n",
       " (TensorShape([20]), TensorShape([20])),\n",
       " (TensorShape([20]), TensorShape([20])),\n",
       " (TensorShape([1, 1, 60, 20]), TensorShape([1, 1, 60, 20])),\n",
       " (TensorShape([20]), TensorShape([20])),\n",
       " (TensorShape([20]), TensorShape([20])),\n",
       " (TensorShape([1, 1, 60, 20]), TensorShape([1, 1, 60, 20])),\n",
       " (TensorShape([7, 400]), TensorShape([7, 400])),\n",
       " (TensorShape([20]), TensorShape([20])),\n",
       " (TensorShape([20]), TensorShape([20])),\n",
       " (TensorShape([20]), TensorShape([20])),\n",
       " (TensorShape([20]), TensorShape([20])),\n",
       " (TensorShape([3, 3, 20, 1]), TensorShape([3, 3, 20, 1])),\n",
       " (TensorShape([1, 1, 20, 20]), TensorShape([1, 1, 20, 20])),\n",
       " (TensorShape([20]), TensorShape([20])),\n",
       " (TensorShape([20]), TensorShape([20])),\n",
       " (TensorShape([3, 3, 20, 1]), TensorShape([3, 3, 20, 1])),\n",
       " (TensorShape([1, 1, 20, 20]), TensorShape([1, 1, 20, 20])),\n",
       " (TensorShape([20]), TensorShape([20])),\n",
       " (TensorShape([20]), TensorShape([20])),\n",
       " (TensorShape([3, 3, 20, 1]), TensorShape([3, 3, 20, 1])),\n",
       " (TensorShape([1, 1, 20, 20]), TensorShape([1, 1, 20, 20])),\n",
       " (TensorShape([20]), TensorShape([20])),\n",
       " (TensorShape([20]), TensorShape([20])),\n",
       " (TensorShape([3, 3, 20, 1]), TensorShape([3, 3, 20, 1])),\n",
       " (TensorShape([1, 1, 20, 20]), TensorShape([1, 1, 20, 20])),\n",
       " (TensorShape([20]), TensorShape([20])),\n",
       " (TensorShape([20]), TensorShape([20])),\n",
       " (TensorShape([5, 5, 20, 1]), TensorShape([5, 5, 20, 1])),\n",
       " (TensorShape([1, 1, 20, 20]), TensorShape([1, 1, 20, 20])),\n",
       " (TensorShape([20]), TensorShape([20])),\n",
       " (TensorShape([20]), TensorShape([20])),\n",
       " (TensorShape([5, 5, 20, 1]), TensorShape([5, 5, 20, 1])),\n",
       " (TensorShape([1, 1, 20, 20]), TensorShape([1, 1, 20, 20])),\n",
       " (TensorShape([20]), TensorShape([20])),\n",
       " (TensorShape([20]), TensorShape([20])),\n",
       " (TensorShape([5, 5, 20, 1]), TensorShape([5, 5, 20, 1])),\n",
       " (TensorShape([1, 1, 20, 20]), TensorShape([1, 1, 20, 20])),\n",
       " (TensorShape([20]), TensorShape([20])),\n",
       " (TensorShape([20]), TensorShape([20])),\n",
       " (TensorShape([5, 5, 20, 1]), TensorShape([5, 5, 20, 1])),\n",
       " (TensorShape([1, 1, 20, 20]), TensorShape([1, 1, 20, 20])),\n",
       " (TensorShape([20]), TensorShape([20])),\n",
       " (TensorShape([20]), TensorShape([20])),\n",
       " (TensorShape([3, 3, 20, 1]), TensorShape([3, 3, 20, 1])),\n",
       " (TensorShape([1, 1, 20, 20]), TensorShape([1, 1, 20, 20])),\n",
       " (TensorShape([20]), TensorShape([20])),\n",
       " (TensorShape([20]), TensorShape([20])),\n",
       " (TensorShape([3, 3, 20, 1]), TensorShape([3, 3, 20, 1])),\n",
       " (TensorShape([1, 1, 20, 20]), TensorShape([1, 1, 20, 20])),\n",
       " (TensorShape([20]), TensorShape([20])),\n",
       " (TensorShape([20]), TensorShape([20])),\n",
       " (TensorShape([5, 5, 20, 1]), TensorShape([5, 5, 20, 1])),\n",
       " (TensorShape([1, 1, 20, 20]), TensorShape([1, 1, 20, 20])),\n",
       " (TensorShape([20]), TensorShape([20])),\n",
       " (TensorShape([20]), TensorShape([20])),\n",
       " (TensorShape([5, 5, 20, 1]), TensorShape([5, 5, 20, 1])),\n",
       " (TensorShape([1, 1, 20, 20]), TensorShape([1, 1, 20, 20])),\n",
       " (TensorShape([20]), TensorShape([20])),\n",
       " (TensorShape([20]), TensorShape([20])),\n",
       " (TensorShape([1, 1, 60, 20]), TensorShape([1, 1, 60, 20])),\n",
       " (TensorShape([7, 400]), TensorShape([7, 400])),\n",
       " (TensorShape([20]), TensorShape([20])),\n",
       " (TensorShape([20]), TensorShape([20])),\n",
       " (TensorShape([40]), TensorShape([40])),\n",
       " (TensorShape([40]), TensorShape([40])),\n",
       " (TensorShape([5, 5, 40, 1]), TensorShape([5, 5, 40, 1])),\n",
       " (TensorShape([1, 1, 40, 40]), TensorShape([1, 1, 40, 40])),\n",
       " (TensorShape([40]), TensorShape([40])),\n",
       " (TensorShape([40]), TensorShape([40])),\n",
       " (TensorShape([5, 5, 40, 1]), TensorShape([5, 5, 40, 1])),\n",
       " (TensorShape([1, 1, 40, 40]), TensorShape([1, 1, 40, 40])),\n",
       " (TensorShape([40]), TensorShape([40])),\n",
       " (TensorShape([40]), TensorShape([40])),\n",
       " (TensorShape([3, 3, 40, 1]), TensorShape([3, 3, 40, 1])),\n",
       " (TensorShape([1, 1, 40, 40]), TensorShape([1, 1, 40, 40])),\n",
       " (TensorShape([40]), TensorShape([40])),\n",
       " (TensorShape([40]), TensorShape([40])),\n",
       " (TensorShape([3, 3, 40, 1]), TensorShape([3, 3, 40, 1])),\n",
       " (TensorShape([1, 1, 40, 40]), TensorShape([1, 1, 40, 40])),\n",
       " (TensorShape([40]), TensorShape([40])),\n",
       " (TensorShape([40]), TensorShape([40])),\n",
       " (TensorShape([5, 5, 40, 1]), TensorShape([5, 5, 40, 1])),\n",
       " (TensorShape([1, 1, 40, 40]), TensorShape([1, 1, 40, 40])),\n",
       " (TensorShape([40]), TensorShape([40])),\n",
       " (TensorShape([40]), TensorShape([40])),\n",
       " (TensorShape([5, 5, 40, 1]), TensorShape([5, 5, 40, 1])),\n",
       " (TensorShape([1, 1, 40, 40]), TensorShape([1, 1, 40, 40])),\n",
       " (TensorShape([40]), TensorShape([40])),\n",
       " (TensorShape([40]), TensorShape([40])),\n",
       " (TensorShape([5, 5, 40, 1]), TensorShape([5, 5, 40, 1])),\n",
       " (TensorShape([1, 1, 40, 40]), TensorShape([1, 1, 40, 40])),\n",
       " (TensorShape([40]), TensorShape([40])),\n",
       " (TensorShape([40]), TensorShape([40])),\n",
       " (TensorShape([5, 5, 40, 1]), TensorShape([5, 5, 40, 1])),\n",
       " (TensorShape([1, 1, 40, 40]), TensorShape([1, 1, 40, 40])),\n",
       " (TensorShape([40]), TensorShape([40])),\n",
       " (TensorShape([40]), TensorShape([40])),\n",
       " (TensorShape([3, 3, 40, 1]), TensorShape([3, 3, 40, 1])),\n",
       " (TensorShape([1, 1, 40, 40]), TensorShape([1, 1, 40, 40])),\n",
       " (TensorShape([40]), TensorShape([40])),\n",
       " (TensorShape([40]), TensorShape([40])),\n",
       " (TensorShape([3, 3, 40, 1]), TensorShape([3, 3, 40, 1])),\n",
       " (TensorShape([1, 1, 40, 40]), TensorShape([1, 1, 40, 40])),\n",
       " (TensorShape([40]), TensorShape([40])),\n",
       " (TensorShape([40]), TensorShape([40])),\n",
       " (TensorShape([1, 1, 20, 20]), TensorShape([1, 1, 20, 20])),\n",
       " (TensorShape([1, 1, 20, 20]), TensorShape([1, 1, 20, 20])),\n",
       " (TensorShape([7, 1600]), TensorShape([7, 1600])),\n",
       " (TensorShape([40]), TensorShape([40])),\n",
       " (TensorShape([40]), TensorShape([40])),\n",
       " (TensorShape([40]), TensorShape([40])),\n",
       " (TensorShape([40]), TensorShape([40])),\n",
       " (TensorShape([1, 1, 20, 20]), TensorShape([1, 1, 20, 20])),\n",
       " (TensorShape([1, 1, 20, 20]), TensorShape([1, 1, 20, 20])),\n",
       " (TensorShape([40]), TensorShape([40])),\n",
       " (TensorShape([40]), TensorShape([40])),\n",
       " (TensorShape([3, 3, 40, 1]), TensorShape([3, 3, 40, 1])),\n",
       " (TensorShape([1, 1, 40, 40]), TensorShape([1, 1, 40, 40])),\n",
       " (TensorShape([40]), TensorShape([40])),\n",
       " (TensorShape([40]), TensorShape([40])),\n",
       " (TensorShape([3, 3, 40, 1]), TensorShape([3, 3, 40, 1])),\n",
       " (TensorShape([1, 1, 40, 40]), TensorShape([1, 1, 40, 40])),\n",
       " (TensorShape([40]), TensorShape([40])),\n",
       " (TensorShape([40]), TensorShape([40])),\n",
       " (TensorShape([3, 3, 40, 1]), TensorShape([3, 3, 40, 1])),\n",
       " (TensorShape([1, 1, 40, 40]), TensorShape([1, 1, 40, 40])),\n",
       " (TensorShape([40]), TensorShape([40])),\n",
       " (TensorShape([40]), TensorShape([40])),\n",
       " (TensorShape([3, 3, 40, 1]), TensorShape([3, 3, 40, 1])),\n",
       " (TensorShape([1, 1, 40, 40]), TensorShape([1, 1, 40, 40])),\n",
       " (TensorShape([40]), TensorShape([40])),\n",
       " (TensorShape([40]), TensorShape([40])),\n",
       " (TensorShape([5, 5, 40, 1]), TensorShape([5, 5, 40, 1])),\n",
       " (TensorShape([1, 1, 40, 40]), TensorShape([1, 1, 40, 40])),\n",
       " (TensorShape([40]), TensorShape([40])),\n",
       " (TensorShape([40]), TensorShape([40])),\n",
       " (TensorShape([5, 5, 40, 1]), TensorShape([5, 5, 40, 1])),\n",
       " (TensorShape([1, 1, 40, 40]), TensorShape([1, 1, 40, 40])),\n",
       " (TensorShape([40]), TensorShape([40])),\n",
       " (TensorShape([40]), TensorShape([40])),\n",
       " (TensorShape([5, 5, 40, 1]), TensorShape([5, 5, 40, 1])),\n",
       " (TensorShape([1, 1, 40, 40]), TensorShape([1, 1, 40, 40])),\n",
       " (TensorShape([40]), TensorShape([40])),\n",
       " (TensorShape([40]), TensorShape([40])),\n",
       " (TensorShape([5, 5, 40, 1]), TensorShape([5, 5, 40, 1])),\n",
       " (TensorShape([1, 1, 40, 40]), TensorShape([1, 1, 40, 40])),\n",
       " (TensorShape([40]), TensorShape([40])),\n",
       " (TensorShape([40]), TensorShape([40])),\n",
       " (TensorShape([3, 3, 40, 1]), TensorShape([3, 3, 40, 1])),\n",
       " (TensorShape([1, 1, 40, 40]), TensorShape([1, 1, 40, 40])),\n",
       " (TensorShape([40]), TensorShape([40])),\n",
       " (TensorShape([40]), TensorShape([40])),\n",
       " (TensorShape([3, 3, 40, 1]), TensorShape([3, 3, 40, 1])),\n",
       " (TensorShape([1, 1, 40, 40]), TensorShape([1, 1, 40, 40])),\n",
       " (TensorShape([40]), TensorShape([40])),\n",
       " (TensorShape([40]), TensorShape([40])),\n",
       " (TensorShape([5, 5, 40, 1]), TensorShape([5, 5, 40, 1])),\n",
       " (TensorShape([1, 1, 40, 40]), TensorShape([1, 1, 40, 40])),\n",
       " (TensorShape([40]), TensorShape([40])),\n",
       " (TensorShape([40]), TensorShape([40])),\n",
       " (TensorShape([5, 5, 40, 1]), TensorShape([5, 5, 40, 1])),\n",
       " (TensorShape([1, 1, 40, 40]), TensorShape([1, 1, 40, 40])),\n",
       " (TensorShape([7, 1600]), TensorShape([7, 1600])),\n",
       " (TensorShape([40]), TensorShape([40])),\n",
       " (TensorShape([40]), TensorShape([40])),\n",
       " (TensorShape([40]), TensorShape([40])),\n",
       " (TensorShape([40]), TensorShape([40])),\n",
       " (TensorShape([3, 3, 40, 1]), TensorShape([3, 3, 40, 1])),\n",
       " (TensorShape([1, 1, 40, 40]), TensorShape([1, 1, 40, 40])),\n",
       " (TensorShape([40]), TensorShape([40])),\n",
       " (TensorShape([40]), TensorShape([40])),\n",
       " (TensorShape([3, 3, 40, 1]), TensorShape([3, 3, 40, 1])),\n",
       " (TensorShape([1, 1, 40, 40]), TensorShape([1, 1, 40, 40])),\n",
       " (TensorShape([40]), TensorShape([40])),\n",
       " (TensorShape([40]), TensorShape([40])),\n",
       " (TensorShape([3, 3, 40, 1]), TensorShape([3, 3, 40, 1])),\n",
       " (TensorShape([1, 1, 40, 40]), TensorShape([1, 1, 40, 40])),\n",
       " (TensorShape([40]), TensorShape([40])),\n",
       " (TensorShape([40]), TensorShape([40])),\n",
       " (TensorShape([3, 3, 40, 1]), TensorShape([3, 3, 40, 1])),\n",
       " (TensorShape([1, 1, 40, 40]), TensorShape([1, 1, 40, 40])),\n",
       " (TensorShape([40]), TensorShape([40])),\n",
       " (TensorShape([40]), TensorShape([40])),\n",
       " (TensorShape([5, 5, 40, 1]), TensorShape([5, 5, 40, 1])),\n",
       " (TensorShape([1, 1, 40, 40]), TensorShape([1, 1, 40, 40])),\n",
       " (TensorShape([40]), TensorShape([40])),\n",
       " (TensorShape([40]), TensorShape([40])),\n",
       " (TensorShape([5, 5, 40, 1]), TensorShape([5, 5, 40, 1])),\n",
       " (TensorShape([1, 1, 40, 40]), TensorShape([1, 1, 40, 40])),\n",
       " (TensorShape([40]), TensorShape([40])),\n",
       " (TensorShape([40]), TensorShape([40])),\n",
       " (TensorShape([5, 5, 40, 1]), TensorShape([5, 5, 40, 1])),\n",
       " (TensorShape([1, 1, 40, 40]), TensorShape([1, 1, 40, 40])),\n",
       " (TensorShape([40]), TensorShape([40])),\n",
       " (TensorShape([40]), TensorShape([40])),\n",
       " (TensorShape([5, 5, 40, 1]), TensorShape([5, 5, 40, 1])),\n",
       " (TensorShape([1, 1, 40, 40]), TensorShape([1, 1, 40, 40])),\n",
       " (TensorShape([40]), TensorShape([40])),\n",
       " (TensorShape([40]), TensorShape([40])),\n",
       " (TensorShape([3, 3, 40, 1]), TensorShape([3, 3, 40, 1])),\n",
       " (TensorShape([1, 1, 40, 40]), TensorShape([1, 1, 40, 40])),\n",
       " (TensorShape([40]), TensorShape([40])),\n",
       " (TensorShape([40]), TensorShape([40])),\n",
       " (TensorShape([3, 3, 40, 1]), TensorShape([3, 3, 40, 1])),\n",
       " (TensorShape([1, 1, 40, 40]), TensorShape([1, 1, 40, 40])),\n",
       " (TensorShape([40]), TensorShape([40])),\n",
       " (TensorShape([40]), TensorShape([40])),\n",
       " (TensorShape([5, 5, 40, 1]), TensorShape([5, 5, 40, 1])),\n",
       " (TensorShape([1, 1, 40, 40]), TensorShape([1, 1, 40, 40])),\n",
       " (TensorShape([40]), TensorShape([40])),\n",
       " (TensorShape([40]), TensorShape([40])),\n",
       " (TensorShape([5, 5, 40, 1]), TensorShape([5, 5, 40, 1])),\n",
       " (TensorShape([1, 1, 40, 40]), TensorShape([1, 1, 40, 40])),\n",
       " (TensorShape([7, 1600]), TensorShape([7, 1600])),\n",
       " (TensorShape([40]), TensorShape([40])),\n",
       " (TensorShape([40]), TensorShape([40])),\n",
       " (TensorShape([80]), TensorShape([80])),\n",
       " (TensorShape([80]), TensorShape([80])),\n",
       " (TensorShape([5, 5, 80, 1]), TensorShape([5, 5, 80, 1])),\n",
       " (TensorShape([1, 1, 80, 80]), TensorShape([1, 1, 80, 80])),\n",
       " (TensorShape([80]), TensorShape([80])),\n",
       " (TensorShape([80]), TensorShape([80])),\n",
       " (TensorShape([5, 5, 80, 1]), TensorShape([5, 5, 80, 1])),\n",
       " (TensorShape([1, 1, 80, 80]), TensorShape([1, 1, 80, 80])),\n",
       " (TensorShape([80]), TensorShape([80])),\n",
       " (TensorShape([80]), TensorShape([80])),\n",
       " (TensorShape([3, 3, 80, 1]), TensorShape([3, 3, 80, 1])),\n",
       " (TensorShape([1, 1, 80, 80]), TensorShape([1, 1, 80, 80])),\n",
       " (TensorShape([80]), TensorShape([80])),\n",
       " (TensorShape([80]), TensorShape([80])),\n",
       " (TensorShape([3, 3, 80, 1]), TensorShape([3, 3, 80, 1])),\n",
       " (TensorShape([1, 1, 80, 80]), TensorShape([1, 1, 80, 80])),\n",
       " (TensorShape([80]), TensorShape([80])),\n",
       " (TensorShape([80]), TensorShape([80])),\n",
       " (TensorShape([5, 5, 80, 1]), TensorShape([5, 5, 80, 1])),\n",
       " (TensorShape([1, 1, 80, 80]), TensorShape([1, 1, 80, 80])),\n",
       " (TensorShape([80]), TensorShape([80])),\n",
       " (TensorShape([80]), TensorShape([80])),\n",
       " (TensorShape([5, 5, 80, 1]), TensorShape([5, 5, 80, 1])),\n",
       " (TensorShape([1, 1, 80, 80]), TensorShape([1, 1, 80, 80])),\n",
       " (TensorShape([80]), TensorShape([80])),\n",
       " (TensorShape([80]), TensorShape([80])),\n",
       " (TensorShape([5, 5, 80, 1]), TensorShape([5, 5, 80, 1])),\n",
       " (TensorShape([1, 1, 80, 80]), TensorShape([1, 1, 80, 80])),\n",
       " (TensorShape([80]), TensorShape([80])),\n",
       " (TensorShape([80]), TensorShape([80])),\n",
       " (TensorShape([5, 5, 80, 1]), TensorShape([5, 5, 80, 1])),\n",
       " (TensorShape([1, 1, 80, 80]), TensorShape([1, 1, 80, 80])),\n",
       " (TensorShape([80]), TensorShape([80])),\n",
       " (TensorShape([80]), TensorShape([80])),\n",
       " (TensorShape([3, 3, 80, 1]), TensorShape([3, 3, 80, 1])),\n",
       " (TensorShape([1, 1, 80, 80]), TensorShape([1, 1, 80, 80])),\n",
       " (TensorShape([80]), TensorShape([80])),\n",
       " (TensorShape([80]), TensorShape([80])),\n",
       " (TensorShape([3, 3, 80, 1]), TensorShape([3, 3, 80, 1])),\n",
       " (TensorShape([1, 1, 80, 80]), TensorShape([1, 1, 80, 80])),\n",
       " (TensorShape([80]), TensorShape([80])),\n",
       " (TensorShape([80]), TensorShape([80])),\n",
       " (TensorShape([1, 1, 40, 40]), TensorShape([1, 1, 40, 40])),\n",
       " (TensorShape([1, 1, 40, 40]), TensorShape([1, 1, 40, 40])),\n",
       " (TensorShape([7, 6400]), TensorShape([7, 6400])),\n",
       " (TensorShape([80]), TensorShape([80])),\n",
       " (TensorShape([80]), TensorShape([80])),\n",
       " (TensorShape([80]), TensorShape([80])),\n",
       " (TensorShape([80]), TensorShape([80])),\n",
       " (TensorShape([1, 1, 40, 40]), TensorShape([1, 1, 40, 40])),\n",
       " (TensorShape([1, 1, 40, 40]), TensorShape([1, 1, 40, 40])),\n",
       " (TensorShape([768]), TensorShape([768])),\n",
       " (TensorShape([768]), TensorShape([768])),\n",
       " (TensorShape([1, 1, 128, 768]), TensorShape([1, 1, 128, 768])),\n",
       " (TensorShape([768, 10]), TensorShape([768, 10])),\n",
       " (TensorShape([128]), TensorShape([128])),\n",
       " (TensorShape([128]), TensorShape([128])),\n",
       " (TensorShape([1, 1, 80, 128]), TensorShape([1, 1, 80, 128])),\n",
       " (TensorShape([80]), TensorShape([80])),\n",
       " (TensorShape([80]), TensorShape([80])),\n",
       " (TensorShape([3, 3, 80, 1]), TensorShape([3, 3, 80, 1])),\n",
       " (TensorShape([1, 1, 80, 80]), TensorShape([1, 1, 80, 80])),\n",
       " (TensorShape([80]), TensorShape([80])),\n",
       " (TensorShape([80]), TensorShape([80])),\n",
       " (TensorShape([3, 3, 80, 1]), TensorShape([3, 3, 80, 1])),\n",
       " (TensorShape([1, 1, 80, 80]), TensorShape([1, 1, 80, 80])),\n",
       " (TensorShape([80]), TensorShape([80])),\n",
       " (TensorShape([80]), TensorShape([80])),\n",
       " (TensorShape([3, 3, 80, 1]), TensorShape([3, 3, 80, 1])),\n",
       " (TensorShape([1, 1, 80, 80]), TensorShape([1, 1, 80, 80])),\n",
       " (TensorShape([80]), TensorShape([80])),\n",
       " (TensorShape([80]), TensorShape([80])),\n",
       " (TensorShape([3, 3, 80, 1]), TensorShape([3, 3, 80, 1])),\n",
       " (TensorShape([1, 1, 80, 80]), TensorShape([1, 1, 80, 80])),\n",
       " (TensorShape([80]), TensorShape([80])),\n",
       " (TensorShape([80]), TensorShape([80])),\n",
       " (TensorShape([5, 5, 80, 1]), TensorShape([5, 5, 80, 1])),\n",
       " (TensorShape([1, 1, 80, 80]), TensorShape([1, 1, 80, 80])),\n",
       " (TensorShape([80]), TensorShape([80])),\n",
       " (TensorShape([80]), TensorShape([80])),\n",
       " (TensorShape([5, 5, 80, 1]), TensorShape([5, 5, 80, 1])),\n",
       " (TensorShape([1, 1, 80, 80]), TensorShape([1, 1, 80, 80])),\n",
       " (TensorShape([80]), TensorShape([80])),\n",
       " (TensorShape([80]), TensorShape([80])),\n",
       " (TensorShape([5, 5, 80, 1]), TensorShape([5, 5, 80, 1])),\n",
       " (TensorShape([1, 1, 80, 80]), TensorShape([1, 1, 80, 80])),\n",
       " (TensorShape([80]), TensorShape([80])),\n",
       " (TensorShape([80]), TensorShape([80])),\n",
       " (TensorShape([5, 5, 80, 1]), TensorShape([5, 5, 80, 1])),\n",
       " (TensorShape([1, 1, 80, 80]), TensorShape([1, 1, 80, 80])),\n",
       " (TensorShape([80]), TensorShape([80])),\n",
       " (TensorShape([80]), TensorShape([80])),\n",
       " (TensorShape([3, 3, 80, 1]), TensorShape([3, 3, 80, 1])),\n",
       " (TensorShape([1, 1, 80, 80]), TensorShape([1, 1, 80, 80])),\n",
       " (TensorShape([80]), TensorShape([80])),\n",
       " (TensorShape([80]), TensorShape([80])),\n",
       " (TensorShape([3, 3, 80, 1]), TensorShape([3, 3, 80, 1])),\n",
       " (TensorShape([1, 1, 80, 80]), TensorShape([1, 1, 80, 80])),\n",
       " (TensorShape([80]), TensorShape([80])),\n",
       " (TensorShape([80]), TensorShape([80])),\n",
       " (TensorShape([5, 5, 80, 1]), TensorShape([5, 5, 80, 1])),\n",
       " (TensorShape([1, 1, 80, 80]), TensorShape([1, 1, 80, 80])),\n",
       " (TensorShape([80]), TensorShape([80])),\n",
       " (TensorShape([80]), TensorShape([80])),\n",
       " (TensorShape([5, 5, 80, 1]), TensorShape([5, 5, 80, 1])),\n",
       " (TensorShape([1, 1, 80, 80]), TensorShape([1, 1, 80, 80])),\n",
       " (TensorShape([7, 6400]), TensorShape([7, 6400])),\n",
       " (TensorShape([80]), TensorShape([80])),\n",
       " (TensorShape([80]), TensorShape([80])),\n",
       " (TensorShape([80]), TensorShape([80])),\n",
       " (TensorShape([80]), TensorShape([80])),\n",
       " (TensorShape([3, 3, 80, 1]), TensorShape([3, 3, 80, 1])),\n",
       " (TensorShape([1, 1, 80, 80]), TensorShape([1, 1, 80, 80])),\n",
       " (TensorShape([80]), TensorShape([80])),\n",
       " (TensorShape([80]), TensorShape([80])),\n",
       " (TensorShape([3, 3, 80, 1]), TensorShape([3, 3, 80, 1])),\n",
       " (TensorShape([1, 1, 80, 80]), TensorShape([1, 1, 80, 80])),\n",
       " (TensorShape([80]), TensorShape([80])),\n",
       " (TensorShape([80]), TensorShape([80])),\n",
       " (TensorShape([3, 3, 80, 1]), TensorShape([3, 3, 80, 1])),\n",
       " (TensorShape([1, 1, 80, 80]), TensorShape([1, 1, 80, 80])),\n",
       " (TensorShape([80]), TensorShape([80])),\n",
       " (TensorShape([80]), TensorShape([80])),\n",
       " (TensorShape([3, 3, 80, 1]), TensorShape([3, 3, 80, 1])),\n",
       " (TensorShape([1, 1, 80, 80]), TensorShape([1, 1, 80, 80])),\n",
       " (TensorShape([80]), TensorShape([80])),\n",
       " (TensorShape([80]), TensorShape([80])),\n",
       " (TensorShape([5, 5, 80, 1]), TensorShape([5, 5, 80, 1])),\n",
       " (TensorShape([1, 1, 80, 80]), TensorShape([1, 1, 80, 80])),\n",
       " (TensorShape([80]), TensorShape([80])),\n",
       " (TensorShape([80]), TensorShape([80])),\n",
       " (TensorShape([5, 5, 80, 1]), TensorShape([5, 5, 80, 1])),\n",
       " (TensorShape([1, 1, 80, 80]), TensorShape([1, 1, 80, 80])),\n",
       " (TensorShape([80]), TensorShape([80])),\n",
       " (TensorShape([80]), TensorShape([80])),\n",
       " (TensorShape([5, 5, 80, 1]), TensorShape([5, 5, 80, 1])),\n",
       " (TensorShape([1, 1, 80, 80]), TensorShape([1, 1, 80, 80])),\n",
       " (TensorShape([80]), TensorShape([80])),\n",
       " (TensorShape([80]), TensorShape([80])),\n",
       " (TensorShape([5, 5, 80, 1]), TensorShape([5, 5, 80, 1])),\n",
       " (TensorShape([1, 1, 80, 80]), TensorShape([1, 1, 80, 80])),\n",
       " (TensorShape([80]), TensorShape([80])),\n",
       " (TensorShape([80]), TensorShape([80])),\n",
       " (TensorShape([3, 3, 80, 1]), TensorShape([3, 3, 80, 1])),\n",
       " (TensorShape([1, 1, 80, 80]), TensorShape([1, 1, 80, 80])),\n",
       " (TensorShape([80]), TensorShape([80])),\n",
       " (TensorShape([80]), TensorShape([80])),\n",
       " (TensorShape([3, 3, 80, 1]), TensorShape([3, 3, 80, 1])),\n",
       " (TensorShape([1, 1, 80, 80]), TensorShape([1, 1, 80, 80])),\n",
       " (TensorShape([80]), TensorShape([80])),\n",
       " (TensorShape([80]), TensorShape([80])),\n",
       " (TensorShape([5, 5, 80, 1]), TensorShape([5, 5, 80, 1])),\n",
       " (TensorShape([1, 1, 80, 80]), TensorShape([1, 1, 80, 80])),\n",
       " (TensorShape([80]), TensorShape([80])),\n",
       " (TensorShape([80]), TensorShape([80])),\n",
       " (TensorShape([5, 5, 80, 1]), TensorShape([5, 5, 80, 1])),\n",
       " (TensorShape([1, 1, 80, 80]), TensorShape([1, 1, 80, 80])),\n",
       " (TensorShape([7, 6400]), TensorShape([7, 6400])),\n",
       " (TensorShape([80]), TensorShape([80])),\n",
       " (TensorShape([80]), TensorShape([80])),\n",
       " (TensorShape([80, 10]), TensorShape([80, 10]))]"
      ]
     },
     "execution_count": 38,
     "metadata": {},
     "output_type": "execute_result"
    }
   ],
   "source": [
    "[(ch_g.shape, v.shape) for ch_g, v in zip(checked_gradients, checked_trainable_vars)]"
   ]
  },
  {
   "cell_type": "code",
   "execution_count": 34,
   "id": "58308b49",
   "metadata": {},
   "outputs": [
    {
     "data": {
      "text/plain": [
       "True"
      ]
     },
     "execution_count": 34,
     "metadata": {},
     "output_type": "execute_result"
    }
   ],
   "source": [
    "gradients[2] is not None"
   ]
  },
  {
   "cell_type": "code",
   "execution_count": 18,
   "id": "14850496",
   "metadata": {
    "scrolled": true
   },
   "outputs": [
    {
     "ename": "ValueError",
     "evalue": "Attempt to convert a value (None) with an unsupported type (<class 'NoneType'>) to a Tensor.",
     "output_type": "error",
     "traceback": [
      "\u001b[0;31m---------------------------------------------------------------------------\u001b[0m",
      "\u001b[0;31mValueError\u001b[0m                                Traceback (most recent call last)",
      "\u001b[0;32m<ipython-input-18-e90d9fe6bbf0>\u001b[0m in \u001b[0;36m<module>\u001b[0;34m\u001b[0m\n\u001b[0;32m----> 1\u001b[0;31m \u001b[0;34m[\u001b[0m\u001b[0;34m(\u001b[0m\u001b[0mfloat\u001b[0m\u001b[0;34m(\u001b[0m\u001b[0mtf\u001b[0m\u001b[0;34m.\u001b[0m\u001b[0mreduce_mean\u001b[0m\u001b[0;34m(\u001b[0m\u001b[0mg\u001b[0m\u001b[0;34m)\u001b[0m\u001b[0;34m.\u001b[0m\u001b[0mnumpy\u001b[0m\u001b[0;34m(\u001b[0m\u001b[0;34m)\u001b[0m\u001b[0;34m)\u001b[0m\u001b[0;34m,\u001b[0m \u001b[0mt_v\u001b[0m\u001b[0;34m.\u001b[0m\u001b[0mname\u001b[0m\u001b[0;34m)\u001b[0m \u001b[0;32mfor\u001b[0m \u001b[0mg\u001b[0m\u001b[0;34m,\u001b[0m \u001b[0mt_v\u001b[0m \u001b[0;32min\u001b[0m \u001b[0mzip\u001b[0m\u001b[0;34m(\u001b[0m\u001b[0mgradients\u001b[0m\u001b[0;34m,\u001b[0m \u001b[0mtrainable_vars\u001b[0m\u001b[0;34m)\u001b[0m\u001b[0;34m]\u001b[0m\u001b[0;34m\u001b[0m\u001b[0;34m\u001b[0m\u001b[0m\n\u001b[0m",
      "\u001b[0;32m<ipython-input-18-e90d9fe6bbf0>\u001b[0m in \u001b[0;36m<listcomp>\u001b[0;34m(.0)\u001b[0m\n\u001b[0;32m----> 1\u001b[0;31m \u001b[0;34m[\u001b[0m\u001b[0;34m(\u001b[0m\u001b[0mfloat\u001b[0m\u001b[0;34m(\u001b[0m\u001b[0mtf\u001b[0m\u001b[0;34m.\u001b[0m\u001b[0mreduce_mean\u001b[0m\u001b[0;34m(\u001b[0m\u001b[0mg\u001b[0m\u001b[0;34m)\u001b[0m\u001b[0;34m.\u001b[0m\u001b[0mnumpy\u001b[0m\u001b[0;34m(\u001b[0m\u001b[0;34m)\u001b[0m\u001b[0;34m)\u001b[0m\u001b[0;34m,\u001b[0m \u001b[0mt_v\u001b[0m\u001b[0;34m.\u001b[0m\u001b[0mname\u001b[0m\u001b[0;34m)\u001b[0m \u001b[0;32mfor\u001b[0m \u001b[0mg\u001b[0m\u001b[0;34m,\u001b[0m \u001b[0mt_v\u001b[0m \u001b[0;32min\u001b[0m \u001b[0mzip\u001b[0m\u001b[0;34m(\u001b[0m\u001b[0mgradients\u001b[0m\u001b[0;34m,\u001b[0m \u001b[0mtrainable_vars\u001b[0m\u001b[0;34m)\u001b[0m\u001b[0;34m]\u001b[0m\u001b[0;34m\u001b[0m\u001b[0;34m\u001b[0m\u001b[0m\n\u001b[0m",
      "\u001b[0;32m/usr/local/lib/python3.8/dist-packages/tensorflow/python/util/traceback_utils.py\u001b[0m in \u001b[0;36merror_handler\u001b[0;34m(*args, **kwargs)\u001b[0m\n\u001b[1;32m    151\u001b[0m     \u001b[0;32mexcept\u001b[0m \u001b[0mException\u001b[0m \u001b[0;32mas\u001b[0m \u001b[0me\u001b[0m\u001b[0;34m:\u001b[0m\u001b[0;34m\u001b[0m\u001b[0;34m\u001b[0m\u001b[0m\n\u001b[1;32m    152\u001b[0m       \u001b[0mfiltered_tb\u001b[0m \u001b[0;34m=\u001b[0m \u001b[0m_process_traceback_frames\u001b[0m\u001b[0;34m(\u001b[0m\u001b[0me\u001b[0m\u001b[0;34m.\u001b[0m\u001b[0m__traceback__\u001b[0m\u001b[0;34m)\u001b[0m\u001b[0;34m\u001b[0m\u001b[0;34m\u001b[0m\u001b[0m\n\u001b[0;32m--> 153\u001b[0;31m       \u001b[0;32mraise\u001b[0m \u001b[0me\u001b[0m\u001b[0;34m.\u001b[0m\u001b[0mwith_traceback\u001b[0m\u001b[0;34m(\u001b[0m\u001b[0mfiltered_tb\u001b[0m\u001b[0;34m)\u001b[0m \u001b[0;32mfrom\u001b[0m \u001b[0;32mNone\u001b[0m\u001b[0;34m\u001b[0m\u001b[0;34m\u001b[0m\u001b[0m\n\u001b[0m\u001b[1;32m    154\u001b[0m     \u001b[0;32mfinally\u001b[0m\u001b[0;34m:\u001b[0m\u001b[0;34m\u001b[0m\u001b[0;34m\u001b[0m\u001b[0m\n\u001b[1;32m    155\u001b[0m       \u001b[0;32mdel\u001b[0m \u001b[0mfiltered_tb\u001b[0m\u001b[0;34m\u001b[0m\u001b[0;34m\u001b[0m\u001b[0m\n",
      "\u001b[0;32m/usr/local/lib/python3.8/dist-packages/tensorflow/python/framework/constant_op.py\u001b[0m in \u001b[0;36mconvert_to_eager_tensor\u001b[0;34m(value, ctx, dtype)\u001b[0m\n\u001b[1;32m    100\u001b[0m       \u001b[0mdtype\u001b[0m \u001b[0;34m=\u001b[0m \u001b[0mdtypes\u001b[0m\u001b[0;34m.\u001b[0m\u001b[0mas_dtype\u001b[0m\u001b[0;34m(\u001b[0m\u001b[0mdtype\u001b[0m\u001b[0;34m)\u001b[0m\u001b[0;34m.\u001b[0m\u001b[0mas_datatype_enum\u001b[0m\u001b[0;34m\u001b[0m\u001b[0;34m\u001b[0m\u001b[0m\n\u001b[1;32m    101\u001b[0m   \u001b[0mctx\u001b[0m\u001b[0;34m.\u001b[0m\u001b[0mensure_initialized\u001b[0m\u001b[0;34m(\u001b[0m\u001b[0;34m)\u001b[0m\u001b[0;34m\u001b[0m\u001b[0;34m\u001b[0m\u001b[0m\n\u001b[0;32m--> 102\u001b[0;31m   \u001b[0;32mreturn\u001b[0m \u001b[0mops\u001b[0m\u001b[0;34m.\u001b[0m\u001b[0mEagerTensor\u001b[0m\u001b[0;34m(\u001b[0m\u001b[0mvalue\u001b[0m\u001b[0;34m,\u001b[0m \u001b[0mctx\u001b[0m\u001b[0;34m.\u001b[0m\u001b[0mdevice_name\u001b[0m\u001b[0;34m,\u001b[0m \u001b[0mdtype\u001b[0m\u001b[0;34m)\u001b[0m\u001b[0;34m\u001b[0m\u001b[0;34m\u001b[0m\u001b[0m\n\u001b[0m\u001b[1;32m    103\u001b[0m \u001b[0;34m\u001b[0m\u001b[0m\n\u001b[1;32m    104\u001b[0m \u001b[0;34m\u001b[0m\u001b[0m\n",
      "\u001b[0;31mValueError\u001b[0m: Attempt to convert a value (None) with an unsupported type (<class 'NoneType'>) to a Tensor."
     ]
    }
   ],
   "source": [
    "[(float(tf.reduce_mean(g).numpy()), t_v.name) for g, t_v in zip(gradients, trainable_vars)]"
   ]
  },
  {
   "cell_type": "code",
   "execution_count": 44,
   "id": "663c172f",
   "metadata": {},
   "outputs": [
    {
     "name": "stdout",
     "output_type": "stream",
     "text": [
      "0 -9.277481149183586e-05 dynamic_inputs_conv/kernel:0\n",
      "1 -2.073124051094055e-06 dynamic_inputs_bn/gamma:0\n",
      "2 0.002038371516391635 dynamic_inputs_bn/beta:0\n",
      "3 -0.00037956019514240324 dynamic_inputs_conv/kernel:0\n",
      "4 -1.4942139614504413e-06 dynamic_inputs_bn/gamma:0\n",
      "5 3.9041043464749237e-07 dynamic_inputs_bn/beta:0\n",
      "6 -5.117017281008884e-05 dynamic_inputs_conv/kernel:0\n",
      "7 2.9209162676124834e-05 dynamic_inputs_bn/gamma:0\n",
      "8 0.0010020241606980562 dynamic_inputs_bn/beta:0\n",
      "9 -1.6010528270271607e-05 dynamic_inputs_conv/kernel:0\n",
      "10 8.332589459314477e-06 dynamic_inputs_bn/gamma:0\n",
      "11 0.0005863040569238365 dynamic_inputs_bn/beta:0\n",
      "12 1.0485095117473975e-05 dynamic_inputs_conv/kernel:0\n",
      "13 -4.3222681256338547e-07 dynamic_inputs_bn/gamma:0\n",
      "14 1.4901161193847656e-07 dynamic_inputs_bn/beta:0\n",
      "15 -2.612958269310184e-06 dynamic_inputs_conv/kernel:0\n",
      "16 1.4242134056985378e-05 dynamic_inputs_bn/gamma:0\n",
      "17 0.00016833438712637872 dynamic_inputs_bn/beta:0\n",
      "18 1.639735046410351e-06 dynamic_inputs_conv/kernel:0\n",
      "19 -4.4026878640579525e-06 dynamic_inputs_bn/gamma:0\n",
      "20 2.426831088087056e-05 dynamic_inputs_bn/beta:0\n",
      "21 1.1203374015167356e-05 dynamic_inputs_conv/kernel:0\n",
      "22 0.004455194342881441 dynamic_inputs_bn/gamma:0\n",
      "23 0.004460555501282215 dynamic_inputs_bn/beta:0\n"
     ]
    }
   ],
   "source": [
    "found_g = []\n",
    "for g, t_v in zip(gradients, trainable_vars):\n",
    "    if 'dynamic_inputs_' in t_v.name:\n",
    "        print(len(found_g), float(tf.reduce_mean(g).numpy()), t_v.name)\n",
    "        found_g.append(g)"
   ]
  },
  {
   "cell_type": "code",
   "execution_count": null,
   "id": "33194648",
   "metadata": {},
   "outputs": [],
   "source": [
    "import matplotlib.pyplot as plt\n",
    "import seaborn as sns"
   ]
  },
  {
   "cell_type": "code",
   "execution_count": 51,
   "id": "87840d9b",
   "metadata": {},
   "outputs": [
    {
     "data": {
      "image/png": "[encoded data removed]",
      "text/plain": [
       "<Figure size 432x288 with 1 Axes>"
      ]
     },
     "metadata": {
      "needs_background": "light"
     },
     "output_type": "display_data"
    }
   ],
   "source": [
    "# for bn\n",
    "g_ex = found_g[22]\n",
    "\n",
    "_ = sns.histplot(g_ex)"
   ]
  },
  {
   "cell_type": "code",
   "execution_count": 52,
   "id": "47e9acdf",
   "metadata": {},
   "outputs": [
    {
     "data": {
      "text/plain": [
       "TensorShape([7, 1, 1, 80, 80])"
      ]
     },
     "execution_count": 52,
     "metadata": {},
     "output_type": "execute_result"
    }
   ],
   "source": [
    "# for conv\n",
    "g_ex = found_g[21]\n",
    "shape = tf.shape(g_ex)\n",
    "in_f = out_f = tf.cast(tf.sqrt(tf.cast(shape[1], dtype=tf.float32)), dtype=tf.int32)\n",
    "g_ex = tf.reshape(g_ex, (shape[0], 1, 1, in_f, out_f))\n",
    "g_ex.shape"
   ]
  },
  {
   "cell_type": "code",
   "execution_count": 53,
   "id": "29727ec0",
   "metadata": {},
   "outputs": [
    {
     "name": "stdout",
     "output_type": "stream",
     "text": [
      "Figure=0, mean=0.0\n",
      "Figure=1, mean=0.0\n",
      "Figure=2, mean=0.0\n",
      "Figure=3, mean=0.0\n",
      "Figure=4, mean=0.0\n",
      "Figure=5, mean=4.2916264646919444e-05\n",
      "Figure=6, mean=3.550735709723085e-05\n"
     ]
    },
    {
     "data": {
      "image/png": "[encoded data removed]",
      "text/plain": [
       "<Figure size 864x864 with 7 Axes>"
      ]
     },
     "metadata": {
      "needs_background": "light"
     },
     "output_type": "display_data"
    }
   ],
   "source": [
    "fig = plt.figure(figsize=(12,12))\n",
    "\n",
    "for i in range(7):\n",
    "    plt.subplot(4, 2, i+1)\n",
    "    g_data = g_ex[i].numpy().reshape(-1)\n",
    "    sns.histplot(g_data)\n",
    "    print(f'Figure={i}, mean={g_data.mean()}')\n",
    "    plt.title(i)"
   ]
  },
  {
   "cell_type": "code",
   "execution_count": null,
   "id": "9094ff58",
   "metadata": {},
   "outputs": [],
   "source": []
  },
  {
   "cell_type": "code",
   "execution_count": 49,
   "id": "60caa277",
   "metadata": {},
   "outputs": [],
   "source": [
    "import seaborn as sns"
   ]
  },
  {
   "cell_type": "code",
   "execution_count": 50,
   "id": "6c89cd59",
   "metadata": {},
   "outputs": [
    {
     "data": {
      "text/plain": [
       "(0.0029549121391028166, -0.00635257363319397)"
      ]
     },
     "execution_count": 50,
     "metadata": {},
     "output_type": "execute_result"
    }
   ],
   "source": [
    "gr_mean = np.asarray([float(tf.reduce_mean(g).numpy()) for g, t_v in zip(gradients, trainable_vars)])\n",
    "gr_mean.max(), gr_mean.min()"
   ]
  },
  {
   "cell_type": "code",
   "execution_count": 51,
   "id": "99df5cd4",
   "metadata": {},
   "outputs": [
    {
     "name": "stderr",
     "output_type": "stream",
     "text": [
      "<ipython-input-51-3bc923061942>:1: UserWarning: \n",
      "\n",
      "`distplot` is a deprecated function and will be removed in seaborn v0.14.0.\n",
      "\n",
      "Please adapt your code to use either `displot` (a figure-level function with\n",
      "similar flexibility) or `histplot` (an axes-level function for histograms).\n",
      "\n",
      "For a guide to updating your code to use the new functions, please see\n",
      "https://gist.github.com/mwaskom/de44147ed2974457ad6372750bbe5751\n",
      "\n",
      "  sns.distplot(gr_mean)\n"
     ]
    },
    {
     "data": {
      "text/plain": [
       "<Axes: ylabel='Density'>"
      ]
     },
     "execution_count": 51,
     "metadata": {},
     "output_type": "execute_result"
    },
    {
     "data": {
      "image/png": "[encoded data removed]",
      "text/plain": [
       "<Figure size 432x288 with 1 Axes>"
      ]
     },
     "metadata": {
      "needs_background": "light"
     },
     "output_type": "display_data"
    }
   ],
   "source": [
    "sns.distplot(gr_mean)"
   ]
  },
  {
   "cell_type": "code",
   "execution_count": null,
   "id": "41f090ad",
   "metadata": {},
   "outputs": [],
   "source": [
    "# Update weights\n",
    "micro_child.model.optimizer.apply_gradients(zip(gradients, trainable_vars))"
   ]
  },
  {
   "cell_type": "code",
   "execution_count": null,
   "id": "9bd02ec5",
   "metadata": {},
   "outputs": [],
   "source": []
  },
  {
   "cell_type": "code",
   "execution_count": 17,
   "id": "6b8b0909",
   "metadata": {},
   "outputs": [],
   "source": [
    "y_pred, y_aux_pred_list = micro_child.model(\n",
    "    x_input, \n",
    "    normal_arc=normal_arc, reduce_arc=reduce_arc, \n",
    "    training=True\n",
    ")  # Forward pass"
   ]
  },
  {
   "cell_type": "code",
   "execution_count": 13,
   "id": "1dab66c5",
   "metadata": {},
   "outputs": [
    {
     "data": {
      "text/plain": [
       "<tf.Tensor: shape=(), dtype=float32, numpy=1.7167526>"
      ]
     },
     "execution_count": 13,
     "metadata": {},
     "output_type": "execute_result"
    }
   ],
   "source": [
    "tf.reduce_sum(micro_child.model.losses)"
   ]
  },
  {
   "cell_type": "code",
   "execution_count": null,
   "id": "95a62199",
   "metadata": {},
   "outputs": [],
   "source": []
  },
  {
   "cell_type": "code",
   "execution_count": 50,
   "id": "25b29d73",
   "metadata": {},
   "outputs": [],
   "source": [
    "for i1 in range(len(micro_child.model.enas_layers_dict['0']['normal-layer']._enas_cells_created_list)):\n",
    "    l1_list = micro_child.model.enas_layers_dict['0']['normal-layer']._enas_cells_created_list[i1]\n",
    "    for i2 in range(len(l1_list)):\n",
    "        l2_list = l1_list[i2]\n",
    "        for i3 in range(len(l2_list)):\n",
    "            l3_list = l2_list[i3]\n",
    "            for i4 in range(len(l3_list)):\n",
    "                l4_stacked = l3_list[i4]\n",
    "                for layer_i in l4_stacked.layers:\n",
    "                    if isinstance(layer_i, ConvBn):\n",
    "                        print(i1, i2, i3, i4)"
   ]
  },
  {
   "cell_type": "code",
   "execution_count": null,
   "id": "4a692cee",
   "metadata": {},
   "outputs": [],
   "source": []
  },
  {
   "cell_type": "code",
   "execution_count": 22,
   "id": "c913bb29",
   "metadata": {},
   "outputs": [
    {
     "data": {
      "text/plain": [
       "ListWrapper([<keras.layers.pooling.max_pooling2d.MaxPooling2D object at 0x7f420281c340>])"
      ]
     },
     "execution_count": 22,
     "metadata": {},
     "output_type": "execute_result"
    }
   ],
   "source": [
    "micro_child.model.enas_layers_dict['0']['normal-layer']._enas_cells_created_list[0][0][-2][3].layers"
   ]
  },
  {
   "cell_type": "code",
   "execution_count": 23,
   "id": "163d9ddf",
   "metadata": {},
   "outputs": [
    {
     "data": {
      "text/plain": [
       "<keras.layers.convolutional.separable_conv2d.SeparableConv2D at 0x7f42026bc880>"
      ]
     },
     "execution_count": 23,
     "metadata": {},
     "output_type": "execute_result"
    }
   ],
   "source": [
    "micro_child.model.enas_layers_dict['0']['normal-layer']._enas_cells_created_list[0][0][0][0].layers[1].sep_conv"
   ]
  },
  {
   "cell_type": "code",
   "execution_count": 19,
   "id": "ee8e4248",
   "metadata": {},
   "outputs": [
    {
     "data": {
      "text/plain": [
       "[]"
      ]
     },
     "execution_count": 19,
     "metadata": {},
     "output_type": "execute_result"
    }
   ],
   "source": [
    "micro_child.model.enas_layers_dict['0']['normal-layer']._enas_cells_created_list[0][0][0][0].layers[1].losses"
   ]
  },
  {
   "cell_type": "code",
   "execution_count": 24,
   "id": "87382d99",
   "metadata": {},
   "outputs": [
    {
     "data": {
      "text/plain": [
       "{'name': 'separable_conv2d_332',\n",
       " 'trainable': True,\n",
       " 'dtype': 'float32',\n",
       " 'filters': 20,\n",
       " 'kernel_size': (5, 5),\n",
       " 'strides': (1, 1),\n",
       " 'padding': 'same',\n",
       " 'data_format': 'channels_last',\n",
       " 'dilation_rate': (1, 1),\n",
       " 'groups': 1,\n",
       " 'activation': 'linear',\n",
       " 'use_bias': False,\n",
       " 'kernel_initializer': {'class_name': 'GlorotUniform',\n",
       "  'config': {'seed': None}},\n",
       " 'bias_initializer': None,\n",
       " 'kernel_regularizer': None,\n",
       " 'bias_regularizer': {'class_name': 'L2',\n",
       "  'config': {'l2': 9.999999747378752e-05}},\n",
       " 'activity_regularizer': None,\n",
       " 'kernel_constraint': None,\n",
       " 'bias_constraint': None,\n",
       " 'depth_multiplier': 1,\n",
       " 'depthwise_initializer': {'class_name': 'GlorotUniform',\n",
       "  'config': {'seed': None}},\n",
       " 'pointwise_initializer': {'class_name': 'GlorotUniform',\n",
       "  'config': {'seed': None}},\n",
       " 'depthwise_regularizer': {'class_name': 'L2',\n",
       "  'config': {'l2': 9.999999747378752e-05}},\n",
       " 'pointwise_regularizer': {'class_name': 'L2',\n",
       "  'config': {'l2': 9.999999747378752e-05}},\n",
       " 'depthwise_constraint': None,\n",
       " 'pointwise_constraint': None}"
      ]
     },
     "execution_count": 24,
     "metadata": {},
     "output_type": "execute_result"
    }
   ],
   "source": [
    "micro_child.model.enas_layers_dict['0']['normal-layer']._enas_cells_created_list[0][0][0][0].layers[1].sep_conv.get_config()"
   ]
  },
  {
   "cell_type": "code",
   "execution_count": null,
   "id": "bfcd652d",
   "metadata": {},
   "outputs": [],
   "source": []
  },
  {
   "cell_type": "code",
   "execution_count": 16,
   "id": "351947bc",
   "metadata": {},
   "outputs": [],
   "source": [
    "test_iter = iter(test_dataset.repeat())\n",
    "accuracy_calc = tf.keras.metrics.Accuracy()"
   ]
  },
  {
   "cell_type": "code",
   "execution_count": 45,
   "id": "3a9c1269",
   "metadata": {},
   "outputs": [],
   "source": [
    "(normal_arc, reduce_arc), _, _ = micro_child.nas_controller.calculate_entropy()\n",
    "\n",
    "x_data, y_data = next(test_iter)\n",
    "predictions, _ = micro_child.model(\n",
    "    x_data, \n",
    "    normal_arc=normal_arc, reduce_arc=reduce_arc, \n",
    "    training=True # TODO: True is right here?\n",
    ")\n",
    "predictions = tf.argmax(predictions, axis=-1)\n",
    "accuracy_calc.reset_state()\n",
    "accuracy_calc.update_state(y_data, predictions)\n",
    "reward = accuracy_calc.result()\n",
    "reward = tf.stop_gradient(reward)"
   ]
  },
  {
   "cell_type": "code",
   "execution_count": 46,
   "id": "4de25778",
   "metadata": {},
   "outputs": [
    {
     "data": {
      "text/plain": [
       "<tf.Tensor: shape=(), dtype=float32, numpy=0.13125>"
      ]
     },
     "execution_count": 46,
     "metadata": {},
     "output_type": "execute_result"
    }
   ],
   "source": [
    "reward"
   ]
  },
  {
   "cell_type": "code",
   "execution_count": 47,
   "id": "d1e64add",
   "metadata": {},
   "outputs": [],
   "source": [
    "with tf.GradientTape() as tape:\n",
    "    loss, reward = micro_child.nas_controller.calculate_loss(reward, training=True)"
   ]
  },
  {
   "cell_type": "code",
   "execution_count": 48,
   "id": "23281ccf",
   "metadata": {},
   "outputs": [],
   "source": [
    "grads = tape.gradient(loss, micro_child.nas_controller.trainable_variables)"
   ]
  },
  {
   "cell_type": "code",
   "execution_count": 49,
   "id": "bb56a81e",
   "metadata": {},
   "outputs": [
    {
     "data": {
      "text/plain": [
       "[(0.01846197247505188, 'b-soft:0'),\n",
       " (5.662335752276704e-05, 'g-emb:0'),\n",
       " (0.00010873021528823301, 'att-v:0'),\n",
       " (-4.0373511183133814e-06, 'att-w-1:0'),\n",
       " (-5.088034438216482e-09, 'att-w-2:0'),\n",
       " (-2.1859452317585237e-05, 'w-emb:0'),\n",
       " (-7.929662388050929e-05, 'w-soft:0'),\n",
       " (-3.0071714718360454e-07, 'lstm/lstm_cell/kernel:0'),\n",
       " (3.378854671609588e-07, 'lstm/lstm_cell/recurrent_kernel:0'),\n",
       " (-6.085422864998691e-05, 'lstm/lstm_cell/bias:0'),\n",
       " (-6.582453693226853e-08, 'lstm_1/lstm_cell_1/kernel:0'),\n",
       " (-6.582453693226853e-08, 'lstm_1/lstm_cell_1/recurrent_kernel:0'),\n",
       " (-7.285163155756891e-05, 'lstm_1/lstm_cell_1/bias:0')]"
      ]
     },
     "execution_count": 49,
     "metadata": {},
     "output_type": "execute_result"
    }
   ],
   "source": [
    "[(float(tf.reduce_mean(g).numpy()), v.name) for (g, v) in zip(grads, micro_child.nas_controller.trainable_variables)]"
   ]
  },
  {
   "cell_type": "code",
   "execution_count": null,
   "id": "34482ec2",
   "metadata": {},
   "outputs": [],
   "source": [
    "self.opt_controller.apply_gradients(zip(grads, self.nas_controller.trainable_variables))"
   ]
  },
  {
   "cell_type": "code",
   "execution_count": 24,
   "id": "1642dc7d",
   "metadata": {},
   "outputs": [],
   "source": [
    "accuracy_calc = tf.keras.metrics.Accuracy()"
   ]
  },
  {
   "cell_type": "code",
   "execution_count": 25,
   "id": "720bac03",
   "metadata": {},
   "outputs": [],
   "source": [
    "data_gen = iter(test_dataset.repeat())"
   ]
  },
  {
   "cell_type": "code",
   "execution_count": 30,
   "id": "7ef2e8be",
   "metadata": {},
   "outputs": [],
   "source": [
    "(normal_arc, reduce_arc), _, _ = micro_child.nas_controller.calculate_entropy()\n",
    "\n",
    "x_data, y_data = next(data_gen)\n",
    "predictions, _ = micro_child.model(\n",
    "    x_data, \n",
    "    normal_arc=normal_arc, reduce_arc=reduce_arc, \n",
    "    training=True # TODO: True is right here?\n",
    ")"
   ]
  },
  {
   "cell_type": "code",
   "execution_count": 32,
   "id": "7d53f3b6",
   "metadata": {},
   "outputs": [
    {
     "data": {
      "text/plain": [
       "(TensorShape([160]), TensorShape([160, 1]))"
      ]
     },
     "execution_count": 32,
     "metadata": {},
     "output_type": "execute_result"
    }
   ],
   "source": [
    "predictions = tf.argmax(predictions, axis=-1)\n",
    "predictions.shape, y_data.shape"
   ]
  },
  {
   "cell_type": "code",
   "execution_count": null,
   "id": "7a04dcfe",
   "metadata": {},
   "outputs": [],
   "source": [
    "accuracy_calc.reset_state()\n",
    "accuracy_calc.update_state(y_data, predictions)\n",
    "reward = accuracy_calc.result()\n",
    "loss, reward = self.single_step_nas_controller(reward)"
   ]
  },
  {
   "cell_type": "code",
   "execution_count": null,
   "id": "7f3f00b0",
   "metadata": {},
   "outputs": [],
   "source": [
    "# 24 no-tf-func\n",
    "#  tf-func"
   ]
  },
  {
   "cell_type": "code",
   "execution_count": 20,
   "id": "136ebb98",
   "metadata": {},
   "outputs": [],
   "source": [
    "vvv = micro_child.model.weights"
   ]
  },
  {
   "cell_type": "code",
   "execution_count": 21,
   "id": "5b462864",
   "metadata": {},
   "outputs": [
    {
     "data": {
      "text/plain": [
       "3697"
      ]
     },
     "execution_count": 21,
     "metadata": {},
     "output_type": "execute_result"
    }
   ],
   "source": [
    "len(vvv)"
   ]
  },
  {
   "cell_type": "code",
   "execution_count": 24,
   "id": "e4bf138d",
   "metadata": {},
   "outputs": [
    {
     "data": {
      "text/plain": [
       "<__main__.FactorizedReductionLayer at 0x7fce107edeb0>"
      ]
     },
     "execution_count": 24,
     "metadata": {},
     "output_type": "execute_result"
    }
   ],
   "source": [
    "micro_child.model._get_layer(2, NASLayerType.REDUCTION_LAYER)"
   ]
  },
  {
   "cell_type": "code",
   "execution_count": 21,
   "id": "3ddcf3ff",
   "metadata": {},
   "outputs": [
    {
     "data": {
      "text/plain": [
       "ListWrapper([2, 5])"
      ]
     },
     "execution_count": 21,
     "metadata": {},
     "output_type": "execute_result"
    }
   ],
   "source": [
    "micro_child.model.pool_layers"
   ]
  },
  {
   "cell_type": "code",
   "execution_count": 17,
   "id": "637f5bef",
   "metadata": {},
   "outputs": [
    {
     "data": {
      "text/plain": [
       "(2, 500)"
      ]
     },
     "execution_count": 17,
     "metadata": {},
     "output_type": "execute_result"
    }
   ],
   "source": [
    "dict(np.load('weights/shared_weights_for_0/0_enascell_x_5.npz'))['w_depthwise'].shape"
   ]
  },
  {
   "cell_type": "code",
   "execution_count": null,
   "id": "2f783519",
   "metadata": {},
   "outputs": [],
   "source": []
  },
  {
   "cell_type": "code",
   "execution_count": null,
   "id": "fac34c8a",
   "metadata": {},
   "outputs": [],
   "source": []
  },
  {
   "cell_type": "code",
   "execution_count": 17,
   "id": "2f2a17b6",
   "metadata": {},
   "outputs": [
    {
     "data": {
      "text/plain": [
       "(array([0, 1, 1, 2, 2, 2, 2, 2, 1, 4], dtype=int32),\n",
       " array([1, 0, 0, 1, 3, 2, 1, 0, 4, 0], dtype=int32))"
      ]
     },
     "execution_count": 17,
     "metadata": {},
     "output_type": "execute_result"
    }
   ],
   "source": [
    "(normal_arc, reduce_arc), entr, log = micro_lstm.calculate_entropy()\n",
    "normal_arc = normal_arc.numpy()\n",
    "reduce_arc = reduce_arc.numpy()\n",
    "normal_arc[::2], reduce_arc[::2]"
   ]
  },
  {
   "cell_type": "code",
   "execution_count": 19,
   "id": "cd099314",
   "metadata": {},
   "outputs": [],
   "source": [
    "# Some loss error with this config...\n",
    "normal_arc = [1,1,1,1,1,1,2,0,1,1,2,1,3,0,1,0,4,0,1,0,2,1,5,0]\n",
    "reduce_arc = [1,1,1,0,2,2,0,0,1,4,2,0,2,0,2,0,1,1,2,1,4,1,2,0]"
   ]
  },
  {
   "cell_type": "code",
   "execution_count": 19,
   "id": "637c5ffa",
   "metadata": {},
   "outputs": [
    {
     "name": "stdout",
     "output_type": "stream",
     "text": [
      "[TensorShape([1, 32, 32, 60]), TensorShape([1, 32, 32, 60])]\n",
      "[TensorShape([1, 32, 32, 60]), TensorShape([1, 32, 32, 60])]\n",
      "[TensorShape([1, 32, 32, 60]), TensorShape([1, 16, 16, 40])]\n",
      "[TensorShape([1, 16, 16, 40]), TensorShape([1, 16, 16, 80])]\n",
      "[TensorShape([1, 16, 16, 80]), TensorShape([1, 16, 16, 120])]\n",
      "[TensorShape([1, 16, 16, 120]), TensorShape([1, 8, 8, 80])]\n",
      "[TensorShape([1, 8, 8, 80]), TensorShape([1, 8, 8, 160])]\n",
      "[TensorShape([1, 8, 8, 160]), TensorShape([1, 8, 8, 240])]\n"
     ]
    }
   ],
   "source": [
    "model = MicroNasModel(\n",
    "    normal_arc=normal_arc, reduce_arc=reduce_arc, data_input_shape=(32, 32, 3), \n",
    "    num_layers=6, \n",
    "    num_cells=5, out_filters=20, \n",
    "    #keep_prob=0.9, \n",
    "    #drop_path_keep_prob=0.6, \n",
    "    global_step=tf.Variable(0, trainable=False),\n",
    "    path_to_store_shared='./weights', use_aux_heads=True\n",
    ")"
   ]
  },
  {
   "cell_type": "code",
   "execution_count": 18,
   "id": "6e64de02",
   "metadata": {},
   "outputs": [
    {
     "data": {
      "text/plain": [
       "(TensorShape([160, 10]),\n",
       " TensorShape([160, 32, 32, 3]),\n",
       " <tf.Tensor: shape=(10,), dtype=float32, numpy=\n",
       " array([ -67.20114 ,  213.165   , -159.1188  ,   47.12942 ,  -53.963524,\n",
       "         -54.65165 ,   36.38561 ,  -60.508736,  -49.553017, -106.116516],\n",
       "       dtype=float32)>)"
      ]
     },
     "execution_count": 18,
     "metadata": {},
     "output_type": "execute_result"
    }
   ],
   "source": [
    "training = True\n",
    "out_x, out_aux_head_x = model(x, training=training)\n",
    "out_x.shape, x.shape, out_x[0]"
   ]
  },
  {
   "cell_type": "code",
   "execution_count": 19,
   "id": "047e8217",
   "metadata": {},
   "outputs": [],
   "source": [
    "# TODO: Should some variables will be transferred from older optimizer?\n",
    "opt_nas = micro_child.call_create_opt_nas()\n",
    "model.compile(opt_nas, loss=micro_child.loss, metrics='accuracy', run_eagerly=False)"
   ]
  },
  {
   "cell_type": "code",
   "execution_count": 20,
   "id": "82e93697",
   "metadata": {},
   "outputs": [
    {
     "name": "stdout",
     "output_type": "stream",
     "text": [
      "Compute aug-head loss!\n"
     ]
    }
   ],
   "source": [
    "loss = model.train_step((x,y))"
   ]
  },
  {
   "cell_type": "code",
   "execution_count": 21,
   "id": "3f9dccb6",
   "metadata": {},
   "outputs": [
    {
     "data": {
      "text/plain": [
       "[]"
      ]
     },
     "execution_count": 21,
     "metadata": {},
     "output_type": "execute_result"
    }
   ],
   "source": [
    "model.losses"
   ]
  },
  {
   "cell_type": "code",
   "execution_count": 22,
   "id": "781200a9",
   "metadata": {},
   "outputs": [
    {
     "data": {
      "text/plain": [
       "{'loss': <tf.Tensor: shape=(), dtype=float32, numpy=95.54731>,\n",
       " 'accuracy': <tf.Tensor: shape=(), dtype=float32, numpy=0.11875>}"
      ]
     },
     "execution_count": 22,
     "metadata": {},
     "output_type": "execute_result"
    }
   ],
   "source": [
    "loss"
   ]
  },
  {
   "cell_type": "code",
   "execution_count": 68,
   "id": "218bb2e6",
   "metadata": {},
   "outputs": [
    {
     "data": {
      "text/plain": [
       "(TensorShape([160, 32, 32, 60]),\n",
       " <tf.Tensor: shape=(10,), dtype=float32, numpy=\n",
       " array([ 5.3995509e-02, -5.7827290e-02, -4.2014830e-02, -3.0631887e-02,\n",
       "        -1.5955178e-04,  6.8952799e-02,  1.3793041e-01,  1.6407149e-01,\n",
       "        -7.6055050e-02,  1.2029748e-01], dtype=float32)>)"
      ]
     },
     "execution_count": 68,
     "metadata": {},
     "output_type": "execute_result"
    }
   ],
   "source": [
    "stem_x = model.stem_conv(x, training=training)\n",
    "stem_x.shape, stem_x[0, 0, 0, :10]"
   ]
  },
  {
   "cell_type": "code",
   "execution_count": 70,
   "id": "d82576f7",
   "metadata": {},
   "outputs": [],
   "source": [
    "layers = [stem_x, stem_x]"
   ]
  },
  {
   "cell_type": "code",
   "execution_count": 71,
   "id": "5f32c6dd",
   "metadata": {},
   "outputs": [
    {
     "data": {
      "text/plain": [
       "<tf.Tensor: shape=(), dtype=float32, numpy=nan>"
      ]
     },
     "execution_count": 71,
     "metadata": {},
     "output_type": "execute_result"
    }
   ],
   "source": [
    "normal1 = model._get_layer(\n",
    "        0, NASLayerType.NORMAL_LAYER,\n",
    "    )\n",
    "x_t = normal1(layers, training=training)\n",
    "tf.reduce_mean(x_t)"
   ]
  },
  {
   "cell_type": "code",
   "execution_count": 75,
   "id": "47354056",
   "metadata": {},
   "outputs": [],
   "source": [
    "prev_layers = layers"
   ]
  },
  {
   "cell_type": "code",
   "execution_count": 76,
   "id": "8294bf97",
   "metadata": {},
   "outputs": [],
   "source": [
    "prev_tensors: List[tf.Tensor] = list(normal1.calibrate_size_layer(\n",
    "    *prev_layers, training=training\n",
    "))"
   ]
  },
  {
   "cell_type": "code",
   "execution_count": 79,
   "id": "c2d410aa",
   "metadata": {},
   "outputs": [
    {
     "data": {
      "text/plain": [
       "[<tf.Tensor: shape=(), dtype=float32, numpy=-0.0013113822>,\n",
       " <tf.Tensor: shape=(), dtype=float32, numpy=0.015026496>]"
      ]
     },
     "execution_count": 79,
     "metadata": {},
     "output_type": "execute_result"
    }
   ],
   "source": [
    "[tf.reduce_mean(l_s) for l_s in prev_tensors]"
   ]
  },
  {
   "cell_type": "code",
   "execution_count": 80,
   "id": "4ac7f389",
   "metadata": {},
   "outputs": [],
   "source": [
    "used = []\n",
    "for cell_id in range(normal1.num_cells):\n",
    "    x_id = normal1.arc[4 * cell_id]\n",
    "    x_op = normal1.arc[4 * cell_id + 1]\n",
    "    x = tf.gather(prev_tensors, x_id) # prev_tensors[x_id]\n",
    "    x = normal1._run_enas_cell(\n",
    "        x, cell_id, x_id, x_op, normal1.out_filters, \n",
    "        cell_type=NASCellType.X_TYPE, training=training\n",
    "    )\n",
    "\n",
    "    y_id = normal1.arc[4 * cell_id + 2]\n",
    "    y_op = normal1.arc[4 * cell_id + 3]\n",
    "    y = tf.gather(prev_tensors, y_id) # prev_tensors[y_id]\n",
    "    y = normal1._run_enas_cell(\n",
    "        y, cell_id, y_id, y_op, normal1.out_filters, \n",
    "        cell_type=NASCellType.Y_TYPE, training=training\n",
    "    )\n",
    "\n",
    "    merge_out = x + y\n",
    "    prev_tensors.append(merge_out)\n",
    "\n",
    "    used.extend([\n",
    "        tf.one_hot(x_id, depth=normal1.num_cells + 2, dtype=tf.int32),\n",
    "        tf.one_hot(y_id, depth=normal1.num_cells + 2, dtype=tf.int32)\n",
    "    ])"
   ]
  },
  {
   "cell_type": "code",
   "execution_count": null,
   "id": "d6b57e07",
   "metadata": {},
   "outputs": [],
   "source": [
    "[tf.reduce_mean(l_s) for l_s in prev_tensors]"
   ]
  },
  {
   "cell_type": "code",
   "execution_count": 83,
   "id": "78c72a3f",
   "metadata": {},
   "outputs": [],
   "source": [
    "cell_id = 2"
   ]
  },
  {
   "cell_type": "code",
   "execution_count": 84,
   "id": "e201f959",
   "metadata": {},
   "outputs": [],
   "source": [
    "x_id = normal1.arc[4 * cell_id]\n",
    "x_op = normal1.arc[4 * cell_id + 1]\n",
    "x = tf.gather(prev_tensors, x_id) # prev_tensors[x_id]\n",
    "x = normal1._run_enas_cell(\n",
    "    x, cell_id, x_id, x_op, normal1.out_filters, \n",
    "    cell_type=NASCellType.X_TYPE, training=training\n",
    ")"
   ]
  },
  {
   "cell_type": "code",
   "execution_count": 86,
   "id": "f7377edc",
   "metadata": {},
   "outputs": [],
   "source": [
    "prev_created = normal1.get_enas_cell(\n",
    "    cell_id, x_id, NASCellType.X_TYPE, x_op, normal1.out_filters\n",
    ")"
   ]
  },
  {
   "cell_type": "code",
   "execution_count": 91,
   "id": "085c6ba1",
   "metadata": {
    "scrolled": true
   },
   "outputs": [
    {
     "data": {
      "text/plain": [
       "[array([[[[nan],\n",
       "          [nan],\n",
       "          [nan],\n",
       "          [nan],\n",
       "          [nan],\n",
       "          [nan],\n",
       "          [nan],\n",
       "          [nan],\n",
       "          [nan],\n",
       "          [nan],\n",
       "          [nan],\n",
       "          [nan],\n",
       "          [nan],\n",
       "          [nan],\n",
       "          [nan],\n",
       "          [nan],\n",
       "          [nan],\n",
       "          [nan],\n",
       "          [nan],\n",
       "          [nan]],\n",
       " \n",
       "         [[nan],\n",
       "          [nan],\n",
       "          [nan],\n",
       "          [nan],\n",
       "          [nan],\n",
       "          [nan],\n",
       "          [nan],\n",
       "          [nan],\n",
       "          [nan],\n",
       "          [nan],\n",
       "          [nan],\n",
       "          [nan],\n",
       "          [nan],\n",
       "          [nan],\n",
       "          [nan],\n",
       "          [nan],\n",
       "          [nan],\n",
       "          [nan],\n",
       "          [nan],\n",
       "          [nan]],\n",
       " \n",
       "         [[nan],\n",
       "          [nan],\n",
       "          [nan],\n",
       "          [nan],\n",
       "          [nan],\n",
       "          [nan],\n",
       "          [nan],\n",
       "          [nan],\n",
       "          [nan],\n",
       "          [nan],\n",
       "          [nan],\n",
       "          [nan],\n",
       "          [nan],\n",
       "          [nan],\n",
       "          [nan],\n",
       "          [nan],\n",
       "          [nan],\n",
       "          [nan],\n",
       "          [nan],\n",
       "          [nan]],\n",
       " \n",
       "         [[nan],\n",
       "          [nan],\n",
       "          [nan],\n",
       "          [nan],\n",
       "          [nan],\n",
       "          [nan],\n",
       "          [nan],\n",
       "          [nan],\n",
       "          [nan],\n",
       "          [nan],\n",
       "          [nan],\n",
       "          [nan],\n",
       "          [nan],\n",
       "          [nan],\n",
       "          [nan],\n",
       "          [nan],\n",
       "          [nan],\n",
       "          [nan],\n",
       "          [nan],\n",
       "          [nan]],\n",
       " \n",
       "         [[nan],\n",
       "          [nan],\n",
       "          [nan],\n",
       "          [nan],\n",
       "          [nan],\n",
       "          [nan],\n",
       "          [nan],\n",
       "          [nan],\n",
       "          [nan],\n",
       "          [nan],\n",
       "          [nan],\n",
       "          [nan],\n",
       "          [nan],\n",
       "          [nan],\n",
       "          [nan],\n",
       "          [nan],\n",
       "          [nan],\n",
       "          [nan],\n",
       "          [nan],\n",
       "          [nan]]],\n",
       " \n",
       " \n",
       "        [[[nan],\n",
       "          [nan],\n",
       "          [nan],\n",
       "          [nan],\n",
       "          [nan],\n",
       "          [nan],\n",
       "          [nan],\n",
       "          [nan],\n",
       "          [nan],\n",
       "          [nan],\n",
       "          [nan],\n",
       "          [nan],\n",
       "          [nan],\n",
       "          [nan],\n",
       "          [nan],\n",
       "          [nan],\n",
       "          [nan],\n",
       "          [nan],\n",
       "          [nan],\n",
       "          [nan]],\n",
       " \n",
       "         [[nan],\n",
       "          [nan],\n",
       "          [nan],\n",
       "          [nan],\n",
       "          [nan],\n",
       "          [nan],\n",
       "          [nan],\n",
       "          [nan],\n",
       "          [nan],\n",
       "          [nan],\n",
       "          [nan],\n",
       "          [nan],\n",
       "          [nan],\n",
       "          [nan],\n",
       "          [nan],\n",
       "          [nan],\n",
       "          [nan],\n",
       "          [nan],\n",
       "          [nan],\n",
       "          [nan]],\n",
       " \n",
       "         [[nan],\n",
       "          [nan],\n",
       "          [nan],\n",
       "          [nan],\n",
       "          [nan],\n",
       "          [nan],\n",
       "          [nan],\n",
       "          [nan],\n",
       "          [nan],\n",
       "          [nan],\n",
       "          [nan],\n",
       "          [nan],\n",
       "          [nan],\n",
       "          [nan],\n",
       "          [nan],\n",
       "          [nan],\n",
       "          [nan],\n",
       "          [nan],\n",
       "          [nan],\n",
       "          [nan]],\n",
       " \n",
       "         [[nan],\n",
       "          [nan],\n",
       "          [nan],\n",
       "          [nan],\n",
       "          [nan],\n",
       "          [nan],\n",
       "          [nan],\n",
       "          [nan],\n",
       "          [nan],\n",
       "          [nan],\n",
       "          [nan],\n",
       "          [nan],\n",
       "          [nan],\n",
       "          [nan],\n",
       "          [nan],\n",
       "          [nan],\n",
       "          [nan],\n",
       "          [nan],\n",
       "          [nan],\n",
       "          [nan]],\n",
       " \n",
       "         [[nan],\n",
       "          [nan],\n",
       "          [nan],\n",
       "          [nan],\n",
       "          [nan],\n",
       "          [nan],\n",
       "          [nan],\n",
       "          [nan],\n",
       "          [nan],\n",
       "          [nan],\n",
       "          [nan],\n",
       "          [nan],\n",
       "          [nan],\n",
       "          [nan],\n",
       "          [nan],\n",
       "          [nan],\n",
       "          [nan],\n",
       "          [nan],\n",
       "          [nan],\n",
       "          [nan]]],\n",
       " \n",
       " \n",
       "        [[[nan],\n",
       "          [nan],\n",
       "          [nan],\n",
       "          [nan],\n",
       "          [nan],\n",
       "          [nan],\n",
       "          [nan],\n",
       "          [nan],\n",
       "          [nan],\n",
       "          [nan],\n",
       "          [nan],\n",
       "          [nan],\n",
       "          [nan],\n",
       "          [nan],\n",
       "          [nan],\n",
       "          [nan],\n",
       "          [nan],\n",
       "          [nan],\n",
       "          [nan],\n",
       "          [nan]],\n",
       " \n",
       "         [[nan],\n",
       "          [nan],\n",
       "          [nan],\n",
       "          [nan],\n",
       "          [nan],\n",
       "          [nan],\n",
       "          [nan],\n",
       "          [nan],\n",
       "          [nan],\n",
       "          [nan],\n",
       "          [nan],\n",
       "          [nan],\n",
       "          [nan],\n",
       "          [nan],\n",
       "          [nan],\n",
       "          [nan],\n",
       "          [nan],\n",
       "          [nan],\n",
       "          [nan],\n",
       "          [nan]],\n",
       " \n",
       "         [[nan],\n",
       "          [nan],\n",
       "          [nan],\n",
       "          [nan],\n",
       "          [nan],\n",
       "          [nan],\n",
       "          [nan],\n",
       "          [nan],\n",
       "          [nan],\n",
       "          [nan],\n",
       "          [nan],\n",
       "          [nan],\n",
       "          [nan],\n",
       "          [nan],\n",
       "          [nan],\n",
       "          [nan],\n",
       "          [nan],\n",
       "          [nan],\n",
       "          [nan],\n",
       "          [nan]],\n",
       " \n",
       "         [[nan],\n",
       "          [nan],\n",
       "          [nan],\n",
       "          [nan],\n",
       "          [nan],\n",
       "          [nan],\n",
       "          [nan],\n",
       "          [nan],\n",
       "          [nan],\n",
       "          [nan],\n",
       "          [nan],\n",
       "          [nan],\n",
       "          [nan],\n",
       "          [nan],\n",
       "          [nan],\n",
       "          [nan],\n",
       "          [nan],\n",
       "          [nan],\n",
       "          [nan],\n",
       "          [nan]],\n",
       " \n",
       "         [[nan],\n",
       "          [nan],\n",
       "          [nan],\n",
       "          [nan],\n",
       "          [nan],\n",
       "          [nan],\n",
       "          [nan],\n",
       "          [nan],\n",
       "          [nan],\n",
       "          [nan],\n",
       "          [nan],\n",
       "          [nan],\n",
       "          [nan],\n",
       "          [nan],\n",
       "          [nan],\n",
       "          [nan],\n",
       "          [nan],\n",
       "          [nan],\n",
       "          [nan],\n",
       "          [nan]]],\n",
       " \n",
       " \n",
       "        [[[nan],\n",
       "          [nan],\n",
       "          [nan],\n",
       "          [nan],\n",
       "          [nan],\n",
       "          [nan],\n",
       "          [nan],\n",
       "          [nan],\n",
       "          [nan],\n",
       "          [nan],\n",
       "          [nan],\n",
       "          [nan],\n",
       "          [nan],\n",
       "          [nan],\n",
       "          [nan],\n",
       "          [nan],\n",
       "          [nan],\n",
       "          [nan],\n",
       "          [nan],\n",
       "          [nan]],\n",
       " \n",
       "         [[nan],\n",
       "          [nan],\n",
       "          [nan],\n",
       "          [nan],\n",
       "          [nan],\n",
       "          [nan],\n",
       "          [nan],\n",
       "          [nan],\n",
       "          [nan],\n",
       "          [nan],\n",
       "          [nan],\n",
       "          [nan],\n",
       "          [nan],\n",
       "          [nan],\n",
       "          [nan],\n",
       "          [nan],\n",
       "          [nan],\n",
       "          [nan],\n",
       "          [nan],\n",
       "          [nan]],\n",
       " \n",
       "         [[nan],\n",
       "          [nan],\n",
       "          [nan],\n",
       "          [nan],\n",
       "          [nan],\n",
       "          [nan],\n",
       "          [nan],\n",
       "          [nan],\n",
       "          [nan],\n",
       "          [nan],\n",
       "          [nan],\n",
       "          [nan],\n",
       "          [nan],\n",
       "          [nan],\n",
       "          [nan],\n",
       "          [nan],\n",
       "          [nan],\n",
       "          [nan],\n",
       "          [nan],\n",
       "          [nan]],\n",
       " \n",
       "         [[nan],\n",
       "          [nan],\n",
       "          [nan],\n",
       "          [nan],\n",
       "          [nan],\n",
       "          [nan],\n",
       "          [nan],\n",
       "          [nan],\n",
       "          [nan],\n",
       "          [nan],\n",
       "          [nan],\n",
       "          [nan],\n",
       "          [nan],\n",
       "          [nan],\n",
       "          [nan],\n",
       "          [nan],\n",
       "          [nan],\n",
       "          [nan],\n",
       "          [nan],\n",
       "          [nan]],\n",
       " \n",
       "         [[nan],\n",
       "          [nan],\n",
       "          [nan],\n",
       "          [nan],\n",
       "          [nan],\n",
       "          [nan],\n",
       "          [nan],\n",
       "          [nan],\n",
       "          [nan],\n",
       "          [nan],\n",
       "          [nan],\n",
       "          [nan],\n",
       "          [nan],\n",
       "          [nan],\n",
       "          [nan],\n",
       "          [nan],\n",
       "          [nan],\n",
       "          [nan],\n",
       "          [nan],\n",
       "          [nan]]],\n",
       " \n",
       " \n",
       "        [[[nan],\n",
       "          [nan],\n",
       "          [nan],\n",
       "          [nan],\n",
       "          [nan],\n",
       "          [nan],\n",
       "          [nan],\n",
       "          [nan],\n",
       "          [nan],\n",
       "          [nan],\n",
       "          [nan],\n",
       "          [nan],\n",
       "          [nan],\n",
       "          [nan],\n",
       "          [nan],\n",
       "          [nan],\n",
       "          [nan],\n",
       "          [nan],\n",
       "          [nan],\n",
       "          [nan]],\n",
       " \n",
       "         [[nan],\n",
       "          [nan],\n",
       "          [nan],\n",
       "          [nan],\n",
       "          [nan],\n",
       "          [nan],\n",
       "          [nan],\n",
       "          [nan],\n",
       "          [nan],\n",
       "          [nan],\n",
       "          [nan],\n",
       "          [nan],\n",
       "          [nan],\n",
       "          [nan],\n",
       "          [nan],\n",
       "          [nan],\n",
       "          [nan],\n",
       "          [nan],\n",
       "          [nan],\n",
       "          [nan]],\n",
       " \n",
       "         [[nan],\n",
       "          [nan],\n",
       "          [nan],\n",
       "          [nan],\n",
       "          [nan],\n",
       "          [nan],\n",
       "          [nan],\n",
       "          [nan],\n",
       "          [nan],\n",
       "          [nan],\n",
       "          [nan],\n",
       "          [nan],\n",
       "          [nan],\n",
       "          [nan],\n",
       "          [nan],\n",
       "          [nan],\n",
       "          [nan],\n",
       "          [nan],\n",
       "          [nan],\n",
       "          [nan]],\n",
       " \n",
       "         [[nan],\n",
       "          [nan],\n",
       "          [nan],\n",
       "          [nan],\n",
       "          [nan],\n",
       "          [nan],\n",
       "          [nan],\n",
       "          [nan],\n",
       "          [nan],\n",
       "          [nan],\n",
       "          [nan],\n",
       "          [nan],\n",
       "          [nan],\n",
       "          [nan],\n",
       "          [nan],\n",
       "          [nan],\n",
       "          [nan],\n",
       "          [nan],\n",
       "          [nan],\n",
       "          [nan]],\n",
       " \n",
       "         [[nan],\n",
       "          [nan],\n",
       "          [nan],\n",
       "          [nan],\n",
       "          [nan],\n",
       "          [nan],\n",
       "          [nan],\n",
       "          [nan],\n",
       "          [nan],\n",
       "          [nan],\n",
       "          [nan],\n",
       "          [nan],\n",
       "          [nan],\n",
       "          [nan],\n",
       "          [nan],\n",
       "          [nan],\n",
       "          [nan],\n",
       "          [nan],\n",
       "          [nan],\n",
       "          [nan]]]], dtype=float32),\n",
       " array([[[[nan, nan, nan, nan, nan, nan, nan, nan, nan, nan, nan, nan,\n",
       "           nan, nan, nan, nan, nan, nan, nan, nan],\n",
       "          [nan, nan, nan, nan, nan, nan, nan, nan, nan, nan, nan, nan,\n",
       "           nan, nan, nan, nan, nan, nan, nan, nan],\n",
       "          [nan, nan, nan, nan, nan, nan, nan, nan, nan, nan, nan, nan,\n",
       "           nan, nan, nan, nan, nan, nan, nan, nan],\n",
       "          [nan, nan, nan, nan, nan, nan, nan, nan, nan, nan, nan, nan,\n",
       "           nan, nan, nan, nan, nan, nan, nan, nan],\n",
       "          [nan, nan, nan, nan, nan, nan, nan, nan, nan, nan, nan, nan,\n",
       "           nan, nan, nan, nan, nan, nan, nan, nan],\n",
       "          [nan, nan, nan, nan, nan, nan, nan, nan, nan, nan, nan, nan,\n",
       "           nan, nan, nan, nan, nan, nan, nan, nan],\n",
       "          [nan, nan, nan, nan, nan, nan, nan, nan, nan, nan, nan, nan,\n",
       "           nan, nan, nan, nan, nan, nan, nan, nan],\n",
       "          [nan, nan, nan, nan, nan, nan, nan, nan, nan, nan, nan, nan,\n",
       "           nan, nan, nan, nan, nan, nan, nan, nan],\n",
       "          [nan, nan, nan, nan, nan, nan, nan, nan, nan, nan, nan, nan,\n",
       "           nan, nan, nan, nan, nan, nan, nan, nan],\n",
       "          [nan, nan, nan, nan, nan, nan, nan, nan, nan, nan, nan, nan,\n",
       "           nan, nan, nan, nan, nan, nan, nan, nan],\n",
       "          [nan, nan, nan, nan, nan, nan, nan, nan, nan, nan, nan, nan,\n",
       "           nan, nan, nan, nan, nan, nan, nan, nan],\n",
       "          [nan, nan, nan, nan, nan, nan, nan, nan, nan, nan, nan, nan,\n",
       "           nan, nan, nan, nan, nan, nan, nan, nan],\n",
       "          [nan, nan, nan, nan, nan, nan, nan, nan, nan, nan, nan, nan,\n",
       "           nan, nan, nan, nan, nan, nan, nan, nan],\n",
       "          [nan, nan, nan, nan, nan, nan, nan, nan, nan, nan, nan, nan,\n",
       "           nan, nan, nan, nan, nan, nan, nan, nan],\n",
       "          [nan, nan, nan, nan, nan, nan, nan, nan, nan, nan, nan, nan,\n",
       "           nan, nan, nan, nan, nan, nan, nan, nan],\n",
       "          [nan, nan, nan, nan, nan, nan, nan, nan, nan, nan, nan, nan,\n",
       "           nan, nan, nan, nan, nan, nan, nan, nan],\n",
       "          [nan, nan, nan, nan, nan, nan, nan, nan, nan, nan, nan, nan,\n",
       "           nan, nan, nan, nan, nan, nan, nan, nan],\n",
       "          [nan, nan, nan, nan, nan, nan, nan, nan, nan, nan, nan, nan,\n",
       "           nan, nan, nan, nan, nan, nan, nan, nan],\n",
       "          [nan, nan, nan, nan, nan, nan, nan, nan, nan, nan, nan, nan,\n",
       "           nan, nan, nan, nan, nan, nan, nan, nan],\n",
       "          [nan, nan, nan, nan, nan, nan, nan, nan, nan, nan, nan, nan,\n",
       "           nan, nan, nan, nan, nan, nan, nan, nan]]]], dtype=float32)]"
      ]
     },
     "execution_count": 91,
     "metadata": {},
     "output_type": "execute_result"
    }
   ],
   "source": [
    "prev_created.layers[1].sep_conv.get_weights()"
   ]
  },
  {
   "cell_type": "code",
   "execution_count": 85,
   "id": "493e9ec5",
   "metadata": {},
   "outputs": [
    {
     "data": {
      "text/plain": [
       "<tf.Tensor: shape=(), dtype=float32, numpy=nan>"
      ]
     },
     "execution_count": 85,
     "metadata": {},
     "output_type": "execute_result"
    }
   ],
   "source": [
    "tf.reduce_mean(x)"
   ]
  },
  {
   "cell_type": "code",
   "execution_count": 67,
   "id": "2d55e538",
   "metadata": {},
   "outputs": [
    {
     "name": "stdout",
     "output_type": "stream",
     "text": [
      "normal 0 = nan\n",
      "normal 1 = nan\n",
      "reduction 2 = nan\n",
      "normal 2 = nan\n",
      "normal 3 = nan\n",
      "normal 4 = nan\n",
      "reduction 5 = nan\n",
      "normal 5 = nan\n",
      "normal 6 = nan\n",
      "normal 7 = nan\n"
     ]
    },
    {
     "data": {
      "text/plain": [
       "(TensorShape([160, 8, 8, 80]), <tf.Tensor: shape=(), dtype=float32, numpy=nan>)"
      ]
     },
     "execution_count": 67,
     "metadata": {},
     "output_type": "execute_result"
    }
   ],
   "source": [
    "layers = [stem_x, stem_x]\n",
    "\n",
    "aux_result_tensors_list = []\n",
    "for layer_id in range(model.num_layers + 2):\n",
    "    if layer_id in model.pool_layers:\n",
    "        x_t = model._get_layer(\n",
    "            layer_id, NASLayerType.REDUCTION_LAYER,\n",
    "        )(x_t, training=training)\n",
    "        layers = [layers[-1], x_t]\n",
    "        print(f'reduction {layer_id} = {tf.reduce_mean(x_t)}')\n",
    "    x_t = model._get_layer(\n",
    "        layer_id, NASLayerType.NORMAL_LAYER,\n",
    "    )(layers, training=training)\n",
    "    layers = [layers[-1], x_t]\n",
    "    print(f'normal {layer_id} = {tf.reduce_mean(x_t)}')\n",
    "\n",
    "    if model.use_aux_heads and layer_id in model.aux_head_indices and training:\n",
    "        aux_result_tensors_list += [\n",
    "            model._get_layer(\n",
    "                layer_id, NASLayerType.AUX_LAYER\n",
    "            )(x_t, training=training)\n",
    "        ]\n",
    "x_t.shape, tf.reduce_mean(x_t)"
   ]
  },
  {
   "cell_type": "code",
   "execution_count": null,
   "id": "f7e13f2d",
   "metadata": {},
   "outputs": [],
   "source": []
  },
  {
   "cell_type": "code",
   "execution_count": 46,
   "id": "20afc917",
   "metadata": {},
   "outputs": [
    {
     "data": {
      "text/plain": [
       "<tf.Tensor: shape=(160,), dtype=int64, numpy=\n",
       "array([0, 0, 0, 0, 0, 0, 0, 0, 0, 0, 0, 0, 0, 0, 0, 0, 0, 0, 0, 0, 0, 0,\n",
       "       0, 0, 0, 0, 0, 0, 0, 0, 0, 0, 0, 0, 0, 0, 0, 0, 0, 0, 0, 0, 0, 0,\n",
       "       0, 0, 0, 0, 0, 0, 0, 0, 0, 0, 0, 0, 0, 0, 0, 0, 0, 0, 0, 0, 0, 0,\n",
       "       0, 0, 0, 0, 0, 0, 0, 0, 0, 0, 0, 0, 0, 0, 0, 0, 0, 0, 0, 0, 0, 0,\n",
       "       0, 0, 0, 0, 0, 0, 0, 0, 0, 0, 0, 0, 0, 0, 0, 0, 0, 0, 0, 0, 0, 0,\n",
       "       0, 0, 0, 0, 0, 0, 0, 0, 0, 0, 0, 0, 0, 0, 0, 0, 0, 0, 0, 0, 0, 0,\n",
       "       0, 0, 0, 0, 0, 0, 0, 0, 0, 0, 0, 0, 0, 0, 0, 0, 0, 0, 0, 0, 0, 0,\n",
       "       0, 0, 0, 0, 0, 0])>"
      ]
     },
     "execution_count": 46,
     "metadata": {},
     "output_type": "execute_result"
    }
   ],
   "source": [
    "tf.argmax(tf.math.softmax(out_x, axis=-1), axis=-1)"
   ]
  },
  {
   "cell_type": "code",
   "execution_count": 47,
   "id": "e1ae8c51",
   "metadata": {},
   "outputs": [
    {
     "data": {
      "text/plain": [
       "<tf.Tensor: shape=(2, 10), dtype=float32, numpy=\n",
       "array([[nan, nan, nan, nan, nan, nan, nan, nan, nan, nan],\n",
       "       [nan, nan, nan, nan, nan, nan, nan, nan, nan, nan]], dtype=float32)>"
      ]
     },
     "execution_count": 47,
     "metadata": {},
     "output_type": "execute_result"
    }
   ],
   "source": [
    "out_x[:2]"
   ]
  },
  {
   "cell_type": "code",
   "execution_count": 27,
   "id": "5725bdca",
   "metadata": {},
   "outputs": [],
   "source": [
    "loss = tf.keras.losses.SparseCategoricalCrossentropy(from_logits=True)"
   ]
  },
  {
   "cell_type": "code",
   "execution_count": 28,
   "id": "2ac3c4b6",
   "metadata": {},
   "outputs": [
    {
     "data": {
      "text/plain": [
       "<tf.Tensor: shape=(), dtype=float32, numpy=nan>"
      ]
     },
     "execution_count": 28,
     "metadata": {},
     "output_type": "execute_result"
    }
   ],
   "source": [
    "loss(y, out_x)"
   ]
  },
  {
   "cell_type": "code",
   "execution_count": null,
   "id": "f3435245",
   "metadata": {},
   "outputs": [],
   "source": []
  },
  {
   "cell_type": "code",
   "execution_count": 23,
   "id": "7994caac",
   "metadata": {},
   "outputs": [],
   "source": [
    "prev_c=None\n",
    "prev_h=None\n",
    "use_bias=False\n",
    "training=False\n",
    "# TODO: Rewrite it to\n",
    "#           https://github.com/google-research/google-research/blob/698c1a53af550cf29becdb08e1c1b2f0a507dd46/enas_lm/src/controller.py#L116\n",
    "# Good example on torch:\n",
    "#           https://github.com/MengTianjian/enas-pytorch/blob/master/micro_controller.py\n",
    "arc_seq, sample_log_probs, sample_entropy = [], [], []\n",
    "all_h = [tf.zeros([1, micro_lstm.lstm_size], dtype=tf.float32)]\n",
    "all_h_w = [tf.zeros([1, micro_lstm.lstm_size], dtype=tf.float32)]\n",
    "inputs = tf.expand_dims(micro_lstm.g_emb, axis=0)\n",
    "for layer_id in range(micro_lstm.num_generated_cells):\n",
    "    _, next_c, next_h = micro_lstm.call_lstm(\n",
    "        inputs, prev_h=prev_h, prev_c=prev_c, training=training\n",
    "    )\n",
    "    prev_c, prev_h = next_c, next_h\n",
    "    all_h.append(tf.zeros_like(next_h)) # next_h or zeros with shape as next_h ???\n",
    "    all_h_w.append(\n",
    "        tf.matmul(next_h, micro_lstm.w_attn_1)\n",
    "    )"
   ]
  },
  {
   "cell_type": "code",
   "execution_count": 24,
   "id": "41262036",
   "metadata": {},
   "outputs": [],
   "source": [
    "layer_id = 2"
   ]
  },
  {
   "cell_type": "code",
   "execution_count": 71,
   "id": "028d2029",
   "metadata": {},
   "outputs": [
    {
     "data": {
      "text/plain": [
       "True"
      ]
     },
     "execution_count": 71,
     "metadata": {},
     "output_type": "execute_result"
    }
   ],
   "source": [
    "layer_id < (micro_lstm.num_cells + 2)"
   ]
  },
  {
   "cell_type": "code",
   "execution_count": 72,
   "id": "e8f173aa",
   "metadata": {},
   "outputs": [
    {
     "data": {
      "text/plain": [
       "<tf.Tensor: shape=(), dtype=int32, numpy=1>"
      ]
     },
     "execution_count": 72,
     "metadata": {},
     "output_type": "execute_result"
    }
   ],
   "source": [
    "# Operation\n",
    "_, next_c, next_h = micro_lstm.call_lstm(\n",
    "   inputs, prev_h=prev_h, prev_c=prev_c, training=training\n",
    ")\n",
    "# prev_c, prev_h = next_c, next_h\n",
    "logits = tf.matmul(next_h, micro_lstm.w_soft) + micro_lstm.b_soft\n",
    "if micro_lstm.temperature is not None:\n",
    "    logits /= micro_lstm.temperature\n",
    "if micro_lstm.tanh_constant is not None:\n",
    "    logits = micro_lstm.tanh_constant * tf.tanh(logits)\n",
    "if use_bias:\n",
    "    logits += micro_lstm.b_soft_not_learned\n",
    "op_id = tf.random.categorical(logits, 1)\n",
    "op_id = tf.cast(op_id, dtype=tf.int32)\n",
    "op_id = tf.reshape(op_id, [])\n",
    "op_id"
   ]
  },
  {
   "cell_type": "code",
   "execution_count": 73,
   "id": "3b66dfc3",
   "metadata": {},
   "outputs": [],
   "source": [
    "arc_seq_cell = [None] * 4\n",
    "prev_layers = []\n",
    "for cell_i in range(2):\n",
    "    _, next_c, next_h = micro_lstm.call_lstm(\n",
    "        inputs, prev_h=prev_h, prev_c=prev_c, training=training\n",
    "    )\n",
    "    prev_c, prev_h = next_c, next_h\n",
    "    query = tf.tanh(\n",
    "        tf.concat(all_h_w[:layer_id], axis=0) + tf.matmul(next_h, micro_lstm.w_attn_2)\n",
    "    )\n",
    "    logits = tf.matmul(query, micro_lstm.v_attn)\n",
    "    logits = tf.reshape(logits, [1, layer_id])\n",
    "    if micro_lstm.temperature is not None:\n",
    "        logits /= micro_lstm.temperature\n",
    "    if micro_lstm.tanh_constant is not None:\n",
    "        logits = micro_lstm.tanh_constant * tf.tanh(logits)\n",
    "\n",
    "    skip_index = tf.random.categorical(logits, 1)\n",
    "    skip_index = tf.cast(skip_index, dtype=tf.int32)\n",
    "    skip_index = tf.reshape(skip_index, [])\n",
    "    arc_seq_cell[cell_i * 2] = skip_index\n",
    "\n",
    "    log_prob = tf.nn.sparse_softmax_cross_entropy_with_logits(\n",
    "        logits=logits, labels=tf.reshape(skip_index, [1])\n",
    "    )\n",
    "    sample_log_probs.append(log_prob)\n",
    "\n",
    "    entropy = log_prob * tf.exp(-log_prob)\n",
    "    sample_entropy.append(entropy)\n",
    "\n",
    "    prev_layers.append(all_h[skip_index])\n",
    "    inputs = tf.expand_dims(prev_layers[-1], axis=0)"
   ]
  },
  {
   "cell_type": "code",
   "execution_count": 74,
   "id": "a5383e21",
   "metadata": {},
   "outputs": [
    {
     "data": {
      "text/plain": [
       "[<tf.Tensor: shape=(), dtype=int32, numpy=0>,\n",
       " None,\n",
       " <tf.Tensor: shape=(), dtype=int32, numpy=3>,\n",
       " None]"
      ]
     },
     "execution_count": 74,
     "metadata": {},
     "output_type": "execute_result"
    }
   ],
   "source": [
    "arc_seq_cell"
   ]
  },
  {
   "cell_type": "code",
   "execution_count": 75,
   "id": "ba026a0c",
   "metadata": {},
   "outputs": [],
   "source": [
    "for op_i in range(2):\n",
    "    # Operation\n",
    "    _, next_c, next_h = micro_lstm.call_lstm(\n",
    "       inputs, prev_h=prev_h, prev_c=prev_c, training=training\n",
    "    )\n",
    "    prev_c, prev_h = next_c, next_h\n",
    "    logits = tf.matmul(next_h, micro_lstm.w_soft) + micro_lstm.b_soft\n",
    "    if micro_lstm.temperature is not None:\n",
    "        logits /= micro_lstm.temperature\n",
    "    if micro_lstm.tanh_constant is not None:\n",
    "        logits = micro_lstm.tanh_constant * tf.tanh(logits)\n",
    "    if use_bias:\n",
    "        logits += micro_lstm.b_soft_not_learned\n",
    "    op_id = tf.random.categorical(logits, 1)\n",
    "    op_id = tf.cast(op_id, dtype=tf.int32)\n",
    "    op_id = tf.reshape(op_id, [])\n",
    "    arc_seq_cell[op_i * 2 + 1] = op_id\n",
    "    log_prob = tf.nn.sparse_softmax_cross_entropy_with_logits(\n",
    "        logits=logits, labels=tf.reshape(op_id, [1])\n",
    "    )\n",
    "    sample_log_probs.append(log_prob)\n",
    "    entropy = log_prob * tf.exp(-log_prob)\n",
    "    sample_entropy.append(entropy)\n",
    "    inputs = tf.expand_dims(tf.expand_dims(\n",
    "        tf.nn.embedding_lookup(micro_lstm.w_emb, op_id), \n",
    "        axis=0 ), axis=0\n",
    "    )            "
   ]
  },
  {
   "cell_type": "code",
   "execution_count": 76,
   "id": "6437bebf",
   "metadata": {},
   "outputs": [
    {
     "data": {
      "text/plain": [
       "[<tf.Tensor: shape=(), dtype=int32, numpy=0>,\n",
       " <tf.Tensor: shape=(), dtype=int32, numpy=4>,\n",
       " <tf.Tensor: shape=(), dtype=int32, numpy=3>,\n",
       " <tf.Tensor: shape=(), dtype=int32, numpy=0>]"
      ]
     },
     "execution_count": 76,
     "metadata": {},
     "output_type": "execute_result"
    }
   ],
   "source": [
    "arc_seq_cell"
   ]
  },
  {
   "cell_type": "code",
   "execution_count": 77,
   "id": "382b67c1",
   "metadata": {},
   "outputs": [],
   "source": [
    "_, next_c, next_h = micro_lstm.call_lstm(\n",
    "    inputs, prev_h=prev_h, prev_c=prev_c, training=training\n",
    ")\n",
    "arc_seq += arc_seq_cell\n",
    "all_h.append(next_h)\n",
    "all_h_w.append(tf.matmul(next_h, micro_lstm.w_attn_1))\n",
    "inputs = tf.expand_dims(micro_lstm.g_emb, axis=0)\n",
    "layer_id +=1"
   ]
  },
  {
   "cell_type": "code",
   "execution_count": null,
   "id": "1c7cd148",
   "metadata": {},
   "outputs": [],
   "source": []
  },
  {
   "cell_type": "code",
   "execution_count": null,
   "id": "d9ff2cdd",
   "metadata": {},
   "outputs": [],
   "source": []
  },
  {
   "cell_type": "code",
   "execution_count": null,
   "id": "743e2238",
   "metadata": {},
   "outputs": [],
   "source": [
    "x,y=next(iter(train_dataset))"
   ]
  },
  {
   "cell_type": "code",
   "execution_count": null,
   "id": "ae7b776d",
   "metadata": {},
   "outputs": [],
   "source": [
    "micro_child.model(x)\n",
    "micro_child.model.fit(x,y, batch_size=160)"
   ]
  },
  {
   "cell_type": "code",
   "execution_count": null,
   "id": "458fdee3",
   "metadata": {},
   "outputs": [],
   "source": []
  },
  {
   "cell_type": "code",
   "execution_count": null,
   "id": "64224962",
   "metadata": {},
   "outputs": [],
   "source": [
    "loss, reward = micro_child.single_step_nas_controller(tf.convert_to_tensor(0.62))"
   ]
  },
  {
   "cell_type": "code",
   "execution_count": null,
   "id": "bd30a810",
   "metadata": {},
   "outputs": [],
   "source": [
    "micro_lstm.trainable_variables"
   ]
  },
  {
   "cell_type": "code",
   "execution_count": null,
   "id": "fdbcdae4",
   "metadata": {},
   "outputs": [],
   "source": [
    "ttt = tf.random.uniform(shape=(160, 32, 32, 20))\n",
    "ttt.shape"
   ]
  },
  {
   "cell_type": "code",
   "execution_count": null,
   "id": "31bf01c4",
   "metadata": {},
   "outputs": [],
   "source": [
    "nas_layer = NASLayer(\n",
    "    0, \n",
    "    [0, 0, 0, 1, 2, 0, 2, 1, 2, 1, 3, 1, 3, 1, 4, 1, 3, 1, 0, 1, 0, 0, 4, 0],\n",
    "    128, 6, \n",
    "    [ttt.shape]*2,\n",
    "    micro_child.global_step, mode=NASModelType.NAS_MODE\n",
    ")"
   ]
  },
  {
   "cell_type": "code",
   "execution_count": null,
   "id": "7efcc176",
   "metadata": {},
   "outputs": [],
   "source": [
    "res = nas_layer([ttt, ttt])\n",
    "res.shape"
   ]
  },
  {
   "cell_type": "code",
   "execution_count": null,
   "id": "af449106",
   "metadata": {},
   "outputs": [],
   "source": [
    "(normal_arc, reduce_arc), entr, log_prob = micro_lstm.calculate_entropy()"
   ]
  },
  {
   "cell_type": "code",
   "execution_count": null,
   "id": "cc70756a",
   "metadata": {},
   "outputs": [],
   "source": [
    "normal_arc"
   ]
  },
  {
   "cell_type": "code",
   "execution_count": null,
   "id": "6381c0cf",
   "metadata": {},
   "outputs": [],
   "source": [
    "nas_layer = NASLayer(\n",
    "    0, \n",
    "    reduce_arc,\n",
    "    20, 6,\n",
    "    [ttt.shape]*2,\n",
    "    micro_child.global_step, mode=NASModelType.NAS_MODE\n",
    ")"
   ]
  },
  {
   "cell_type": "code",
   "execution_count": null,
   "id": "61fd6d45",
   "metadata": {
    "scrolled": true
   },
   "outputs": [],
   "source": [
    "res = nas_layer([ttt, ttt])\n",
    "res.shape"
   ]
  },
  {
   "cell_type": "code",
   "execution_count": null,
   "id": "9925aef6",
   "metadata": {},
   "outputs": [],
   "source": []
  },
  {
   "cell_type": "code",
   "execution_count": null,
   "id": "961feb71",
   "metadata": {},
   "outputs": [],
   "source": []
  },
  {
   "cell_type": "code",
   "execution_count": null,
   "id": "40fdec19",
   "metadata": {
    "scrolled": true
   },
   "outputs": [],
   "source": [
    "micro_child.model.save('temp', save_format='tf')"
   ]
  },
  {
   "cell_type": "code",
   "execution_count": null,
   "id": "55dedb08",
   "metadata": {},
   "outputs": [],
   "source": []
  },
  {
   "cell_type": "code",
   "execution_count": null,
   "id": "872778dc",
   "metadata": {},
   "outputs": [],
   "source": []
  },
  {
   "cell_type": "code",
   "execution_count": null,
   "id": "440955cc",
   "metadata": {},
   "outputs": [],
   "source": [
    "micro_lstm.lstm.la"
   ]
  },
  {
   "cell_type": "code",
   "execution_count": null,
   "id": "afd539ff",
   "metadata": {},
   "outputs": [],
   "source": []
  },
  {
   "cell_type": "code",
   "execution_count": null,
   "id": "b3cae1fa",
   "metadata": {},
   "outputs": [],
   "source": []
  },
  {
   "cell_type": "code",
   "execution_count": null,
   "id": "938a1107",
   "metadata": {},
   "outputs": [],
   "source": []
  },
  {
   "cell_type": "code",
   "execution_count": null,
   "id": "38eb2831",
   "metadata": {},
   "outputs": [],
   "source": []
  },
  {
   "cell_type": "code",
   "execution_count": 115,
   "id": "5893f2ef",
   "metadata": {},
   "outputs": [],
   "source": [
    "class NASLayer_TEST(CheckpointRestoreModule):\n",
    "\n",
    "    COUNT_OP = 5\n",
    "\n",
    "    def __init__(\n",
    "            self, layer_id: int, arc: Optional[list], out_filters: int, \n",
    "            num_cells: int, input_shape_list: List[tuple], global_step: tf.Tensor, \n",
    "            path_to_store_shared: str = None,\n",
    "            mode=NASModelType.FIXED_MODE, drop_path_keep_prob: float=None,\n",
    "            layer_reg=None, kernel_init='glorot_uniform',\n",
    "            num_stack_enas_conv=2): \n",
    "        super().__init__()\n",
    "        self.layer_id = layer_id\n",
    "        self.arc = arc\n",
    "        self.out_filters = out_filters\n",
    "        self.num_cells = num_cells\n",
    "        self.global_step = global_step\n",
    "        self.path_to_store_shared = path_to_store_shared\n",
    "        self.drop_path_keep_prob = drop_path_keep_prob\n",
    "        self.num_stack_enas_conv = num_stack_enas_conv\n",
    "        if arc is None and mode == NASModelType.FIXED_MODE:\n",
    "            print('Mode for NASLyaer is Fixed, but arc is not provided. Swap mode to NAS-mode.')\n",
    "            mode = NASModelType.NAS_MODE\n",
    "        self.mode = mode\n",
    "\n",
    "        self.calibrate_size_layer = None\n",
    "        self.final_module = None\n",
    "        self.base_module = None\n",
    "\n",
    "        self.layer_reg = layer_reg\n",
    "        self.kernel_init = kernel_init\n",
    "\n",
    "        # List of lists of lists...\n",
    "        self._enas_cells_created_list: List[list, List[list, tf.Module]] = [\n",
    "            # First index - layer_id\n",
    "            [  # Second index - branch id \n",
    "                [ # Third index - prev_cell (id)\n",
    "                    [None] * NASLayer.COUNT_OP # Fourth index - op_id\n",
    "                ] * (i + 2)\n",
    "            ] * NASCellTypeV1.SIZE\n",
    "            for i in range(num_cells)\n",
    "        ] * num_cells\n",
    "\n",
    "        random_tensors = [\n",
    "            tf.random.uniform(shape)\n",
    "            for shape in input_shape_list\n",
    "        ]\n",
    "        self.is_builded = False\n",
    "        self._build_layer(random_tensors)\n",
    "\n",
    "    def load_by_parts(self, path_to_checkpoint: str):\n",
    "        # Save separate modules:\n",
    "        #   global_step, final_module, calibrate_size_layer, base_module\n",
    "        try:\n",
    "            tf.train.Checkpoint(\n",
    "                global_step=self.global_step,\n",
    "            ).read(path_to_checkpoint).expect_partial()\n",
    "        except Exception as e:\n",
    "            print(e)\n",
    "            print('Skip global_step restore')\n",
    "\n",
    "        try:\n",
    "            tf.train.Checkpoint(\n",
    "                final_module=self.final_module,\n",
    "            ).read(path_to_checkpoint).expect_partial()\n",
    "        except Exception as e:\n",
    "            print(e)\n",
    "            print('Skip final_module restore')\n",
    "\n",
    "        try:\n",
    "            tf.train.Checkpoint(\n",
    "                calibrate_size_layer=self.calibrate_size_layer,\n",
    "            ).read(path_to_checkpoint).expect_partial()\n",
    "        except Exception as e:\n",
    "            print(e)\n",
    "            print('Skip calibrate_size_layer restore')\n",
    "\n",
    "        if self.base_module is None and self.mode == NASModelType.FIXED_MODE:\n",
    "            raise Exception('Base module is not builded but current mode is fixed.')\n",
    "\n",
    "        if self.base_module is not None:\n",
    "            try:\n",
    "                tf.train.Checkpoint(\n",
    "                    base_module=self.base_module,\n",
    "                ).read(path_to_checkpoint).expect_partial()\n",
    "            except Exception as e:\n",
    "                print(e)\n",
    "                print('Skip base_module restore')\n",
    "        else:\n",
    "            print('Skip base_module restore')\n",
    "        # TODO: Load weights from shared folder\n",
    "        # Load each layer independent from others. Why doing this?\n",
    "        # While controller will be trained for our NASModel\n",
    "        # different layers with configs will be produced, the main purpose of this lines\n",
    "        # Is to load layers which are compatible with previous in order to stick to plan \"Shared weights\"\n",
    "        # Shared aka these layers will be same, which means will be loaded from previous model\n",
    "        for module_name, enas_cell in self._enas_cells_created_dict.items():\n",
    "            try:\n",
    "                if isinstance(enas_cell, StackedLayers):\n",
    "                    for ii, layer in enumerate(enas_cell.layers):\n",
    "                        try:\n",
    "                            # Load path should be as:\n",
    "                            #   '_enas_cells_created_dict/enas-cell-0-x-0-20/layers/1'\n",
    "                            #   Here 'enas-cell-0-x-0-20' - is `module_name`\n",
    "                            # This load try only for StackedLayers\n",
    "                            tf.train.Checkpoint(\n",
    "                                _enas_cells_created_dict={\n",
    "                                    module_name: { 'layers': { str(ii): layer }}\n",
    "                                }\n",
    "                            ).read(path_to_checkpoint).expect_partial()\n",
    "                        except Exception as e:\n",
    "                            print(e)\n",
    "                            print(f'Skip layer number equal to {ii} in {module_name} of stacked layers...')\n",
    "                else:\n",
    "                    # Load path should be as:\n",
    "                    #   '_enas_cells_created_dict/enas-cell-0-x-0-20/layer'\n",
    "                    #   Here 'enas-cell-0-x-0-20' - is `module_name`\n",
    "                    tf.train.Checkpoint(\n",
    "                        _enas_cells_created_dict={\n",
    "                            module_name: enas_cell\n",
    "                        }\n",
    "                    ).read(path_to_checkpoint).expect_partial()\n",
    "            except Exception as e:\n",
    "                print(e)\n",
    "                print('Skip module={module_name}')\n",
    "\n",
    "    def _build_layer(self, prev_layers):\n",
    "        assert len(prev_layers) == 2\n",
    "        if self.is_builded:\n",
    "            raise Exception('Layer is already builded!')\n",
    "        # Answer will be resized two tensors from prev layers\n",
    "        self.calibrate_size_layer = CalibrateTwoLayersSize(\n",
    "            tf.shape(prev_layers[0]), tf.shape(prev_layers[1]), \n",
    "            self.out_filters,\n",
    "            # Additional params for conv/bn\n",
    "            kernel_regularizer=self.layer_reg,bias_regularizer=self.layer_reg,\n",
    "            beta_regularizer=self.layer_reg,gamma_regularizer=self.layer_reg,\n",
    "            kernel_initializer=self.kernel_init,\n",
    "        )\n",
    "        x0, x1 = self.calibrate_size_layer(prev_layers[0], prev_layers[1])\n",
    "        prev_tensors = [x0, x1]\n",
    "\n",
    "        if self.mode == NASModelType.FIXED_MODE:\n",
    "            if self.base_module is None:\n",
    "                self.base_module = StackedLayers([\n",
    "                    ConvBn(\n",
    "                        self.out_filters, (1,1), padding='SAME',\n",
    "                        # Additional params for conv/bn\n",
    "                        kernel_regularizer=self.layer_reg,bias_regularizer=self.layer_reg,\n",
    "                        beta_regularizer=self.layer_reg,gamma_regularizer=self.layer_reg,\n",
    "                        kernel_initializer=self.kernel_init,\n",
    "                    )\n",
    "                ])\n",
    "            # TODO: `prev_tensors[1] =` but its seems like equal change  \n",
    "            prev_tensors[-1] = self.base_module(prev_layers[-1])\n",
    "\n",
    "        used = []\n",
    "        for cell_id in range(self.num_cells):\n",
    "            if self.arc is None and self.mode == NASModelType.NAS_MODE:\n",
    "                x_id, x_op = 0, 0\n",
    "            elif self.arc is not None and self.mode == NASModelType.FIXED_MODE:\n",
    "                x_id = self.arc[4 * cell_id]\n",
    "                x_op = self.arc[4 * cell_id + 1]\n",
    "            else:\n",
    "                # TODO: Give more details\n",
    "                raise Exception('Unknown nas-layer X configuration.')\n",
    "            x = tf.gather(prev_tensors, x_id) # prev_tensors[x_id]\n",
    "            x = self._build_enas_cell(\n",
    "                x, cell_id, x_id, x_op, self.out_filters, \n",
    "                cell_type=NASCellTypeV1.X_TYPE\n",
    "            )\n",
    "\n",
    "            if self.arc is None and self.mode == NASModelType.NAS_MODE:\n",
    "                y_id, y_op = 0, 0\n",
    "            elif self.arc is not None and self.mode == NASModelType.FIXED_MODE:\n",
    "                y_id = self.arc[4 * cell_id + 2]\n",
    "                y_op = self.arc[4 * cell_id + 3]\n",
    "            else:\n",
    "                # TODO: Give more details\n",
    "                raise Exception('Unknown nas-layer Y configuration.')\n",
    "            y = tf.gather(prev_tensors, y_id) # prev_tensors[y_id]\n",
    "            y = self._build_enas_cell(\n",
    "                y, cell_id, y_id, y_op, self.out_filters, \n",
    "                cell_type=NASCellTypeV1.Y_TYPE\n",
    "            )\n",
    "\n",
    "            merge_out = x + y\n",
    "            prev_tensors.append(merge_out)\n",
    "\n",
    "            used.extend([\n",
    "                tf.one_hot(x_id, depth=self.num_cells + 2, dtype=tf.int32),\n",
    "                tf.one_hot(y_id, depth=self.num_cells + 2, dtype=tf.int32)\n",
    "            ])\n",
    "\n",
    "        if self.mode == NASModelType.NAS_MODE:\n",
    "            self.final_module = DynamicInputConvBn(\n",
    "                self.num_cells+2, self.out_filters, \n",
    "                self.out_filters, (1,1), padding='SAME',\n",
    "                # Additional params for conv/bn\n",
    "                kernel_regularizer=self.layer_reg,bias_regularizer=self.layer_reg,\n",
    "                beta_regularizer=self.layer_reg,gamma_regularizer=self.layer_reg,\n",
    "                kernel_initializer=self.kernel_init,\n",
    "            )\n",
    "\n",
    "            # Select layers (outputs) which are not used for skip connection\n",
    "            used = tf.add_n(used)\n",
    "            indices = tf.where(tf.equal(used, 0))\n",
    "            indices = tf.cast(indices, tf.int32)\n",
    "            indices = tf.reshape(indices, [-1])\n",
    "            num_outs = tf.size(indices)\n",
    "            out = tf.stack(prev_tensors, axis=0)\n",
    "            out = tf.gather(out, indices, axis=0)\n",
    "\n",
    "            out = tf.transpose(out, [1, 2, 3, 0, 4])\n",
    "            shape = tf.shape(out)\n",
    "            out = tf.reshape(out, [shape[0], shape[1], shape[2], num_outs * self.out_filters])\n",
    "        self.is_builded = True\n",
    "\n",
    "    def _build_enas_conv(self, curr_cell, prev_cell, filter_size, out_filters, num_possible_inputs):\n",
    "        builded_layers = []\n",
    "        for conv_id in range(self.num_stack_enas_conv):\n",
    "            builded_layers += [\n",
    "                L.ReLU(),\n",
    "                SeparableConvBn(\n",
    "                    out_filters=out_filters, filter_size=filter_size, padding='SAME',\n",
    "                    curr_cell=curr_cell, prev_cell=prev_cell, \n",
    "                    conv_id=conv_id, num_possible_inputs=num_possible_inputs,\n",
    "                    # Additional params for conv/bn\n",
    "                    kernel_regularizer=self.layer_reg,bias_regularizer=self.layer_reg,\n",
    "                    beta_regularizer=self.layer_reg,gamma_regularizer=self.layer_reg,\n",
    "                    kernel_initializer=self.kernel_init,\n",
    "                )\n",
    "            ]\n",
    "        return builded_layers\n",
    "\n",
    "    def _build_enas_cell_by_type(\n",
    "            self, x, curr_cell, prev_cell, \n",
    "            op_id: int, out_filters: int, \n",
    "            num_possible_inputs: int):\n",
    "        builded_layers = None\n",
    "        if op_id == 0:\n",
    "            builded_layers = self._build_enas_conv(\n",
    "                curr_cell=curr_cell, prev_cell=prev_cell, \n",
    "                filter_size=5, out_filters=out_filters, \n",
    "                num_possible_inputs=num_possible_inputs\n",
    "            )   \n",
    "        elif op_id == 1:\n",
    "            builded_layers = self._build_enas_conv(\n",
    "                curr_cell=curr_cell, prev_cell=prev_cell, \n",
    "                filter_size=3, out_filters=out_filters, \n",
    "                num_possible_inputs=num_possible_inputs\n",
    "            )\n",
    "        elif op_id == 2:\n",
    "            builded_layers = [\n",
    "                L.AveragePooling2D((3,3), (1,1), padding='SAME')\n",
    "            ]\n",
    "            if tf.shape(x)[-1] != out_filters:\n",
    "                builded_layers += [\n",
    "                    ConvBn(\n",
    "                        out_filters=out_filters, filter_size=(1,1), padding='SAME',\n",
    "                        curr_cell=curr_cell, prev_cell=prev_cell, \n",
    "                        conv_id=0, num_possible_inputs=num_possible_inputs,\n",
    "                        type_op=op_id,\n",
    "                        # Additional params for conv/bn\n",
    "                        kernel_regularizer=self.layer_reg,bias_regularizer=self.layer_reg,\n",
    "                        beta_regularizer=self.layer_reg,gamma_regularizer=self.layer_reg,\n",
    "                        kernel_initializer=self.kernel_init,\n",
    "                    )\n",
    "                ]\n",
    "        elif op_id == 3:\n",
    "            builded_layers = [\n",
    "                L.MaxPool2D((3,3), (1,1), padding='SAME')\n",
    "            ]\n",
    "            if tf.shape(x)[-1] != out_filters:\n",
    "                builded_layers += [\n",
    "                    ConvBn(\n",
    "                        out_filters=out_filters, filter_size=(1,1), padding='SAME',\n",
    "                        curr_cell=curr_cell, prev_cell=prev_cell, \n",
    "                        conv_id=0, num_possible_inputs=num_possible_inputs,\n",
    "                        type_op=op_id,\n",
    "                        # Additional params for conv/bn\n",
    "                        kernel_regularizer=self.layer_reg,bias_regularizer=self.layer_reg,\n",
    "                        beta_regularizer=self.layer_reg,gamma_regularizer=self.layer_reg,\n",
    "                        kernel_initializer=self.kernel_init,\n",
    "                    )\n",
    "                ]\n",
    "        elif op_id == 4:\n",
    "            builded_layers = []\n",
    "            if tf.shape(x)[-1] != out_filters:\n",
    "                builded_layers += [\n",
    "                    ConvBn(\n",
    "                        out_filters=out_filters, filter_size=(1,1), padding='SAME',\n",
    "                        curr_cell=curr_cell, prev_cell=prev_cell, \n",
    "                        conv_id=0, num_possible_inputs=num_possible_inputs,\n",
    "                        type_op=op_id,\n",
    "                        # Additional params for conv/bn\n",
    "                        kernel_regularizer=self.layer_reg,bias_regularizer=self.layer_reg,\n",
    "                        beta_regularizer=self.layer_reg,gamma_regularizer=self.layer_reg,\n",
    "                        kernel_initializer=self.kernel_init,\n",
    "                    )\n",
    "                ]\n",
    "        if self.mode == NASModelType.FIXED_MODE and \\\n",
    "                op_id != 4 and self.drop_path_keep_prob is not None :\n",
    "            \n",
    "            builded_layers += [\n",
    "                DropPathLayer(\n",
    "                    self.layer_id, self.drop_path_keep_prob, \n",
    "                    self.num_layers, self.global_step\n",
    "                )\n",
    "            ]\n",
    "        \n",
    "        if builded_layers is None:\n",
    "            raise Exception(f'In NAS-Layer `builded_layers` is None with op_id={op_id}')\n",
    "        return StackedLayers(builded_layers)\n",
    "\n",
    "    def _build_enas_cell(\n",
    "            self, x, curr_cell, prev_cell, \n",
    "            op_id: int, out_filters: int, \n",
    "            cell_type: NASCellTypeV1, training=False):\n",
    "        # TODO: Create shared weights for each operation\n",
    "        #       call here, after that build layers itself and load weights from created point\n",
    "        num_possible_inputs = curr_cell + 2\n",
    "        if self.mode == NASModelType.NAS_MODE:\n",
    "            for prev_cell_i in range(num_possible_inputs):\n",
    "                for op_id_s in range(NASLayer.COUNT_OP):\n",
    "                    builded_layers_module_s = self._build_enas_cell_by_type(\n",
    "                        x, curr_cell, prev_cell_i, op_id_s, out_filters, num_possible_inputs\n",
    "                    )\n",
    "                    self._set_enas_cell(builded_layers_module_s, curr_cell, prev_cell, cell_type, op_id_s)\n",
    "        elif self.mode == NASModelType.FIXED_MODE:\n",
    "            builded_layers_module = self._build_enas_cell_by_type(\n",
    "                x, curr_cell, prev_cell, op_id, out_filters, num_possible_inputs\n",
    "            )\n",
    "            self._set_enas_cell(builded_layers_module, curr_cell, prev_cell, cell_type, op_id)\n",
    "        else:\n",
    "            raise Exception('Unknown mode for nas-layer')\n",
    "        return self.get_enas_cell(curr_cell, prev_cell, cell_type, op_id)(\n",
    "            x, training=training\n",
    "        )\n",
    "\n",
    "    @tf.function\n",
    "    def __call__(self, prev_layers: List[tf.Tensor], arc=None, training=False):\n",
    "        assert len(prev_layers) == 2 \n",
    "        if arc is None and self.mode == NASModelType.NAS_MODE:\n",
    "            raise Exception(\"Current layer mode is NAS-mode, but arc parameter was not provided to the layer.\")\n",
    "        elif arc is None and self.mode == NASModelType.FIXED_MODE:\n",
    "            arc = self.arc\n",
    "        elif arc is not None and self.mode == NASModelType.FIXED_MODE:\n",
    "            raise Exception(\"Current layer mode is FIXED-mode, but arc parameter was provided to the layer.\")\n",
    "        # Answer will be resized two tensors from prev layers\n",
    "        x0, x1 = self.calibrate_size_layer(\n",
    "            *prev_layers, training=training\n",
    "        )\n",
    "        # TODO: Set size - its known here\n",
    "        prev_tensors = [x0, x1]\n",
    "\n",
    "        if self.mode == NASModelType.FIXED_MODE:\n",
    "            if self.base_module is None:\n",
    "                raise Exception('Base module is not builded but current mode is fixed.')\n",
    "            prev_tensors[-1] = self.base_module(prev_layers[-1], training=training)\n",
    "\n",
    "        used = []\n",
    "        for cell_id in range(self.num_cells):\n",
    "            x_id = arc[4 * cell_id]\n",
    "            x_op = arc[4 * cell_id + 1]\n",
    "            x = tf.gather(prev_tensors, x_id) # prev_tensors[x_id]\n",
    "            x = self.get_enas_cell_tf(\n",
    "                cell_id, x_id, NASCellTypeV1.X_TYPE, x_op,\n",
    "                x, training=training\n",
    "            )\n",
    "\n",
    "\n",
    "            y_id = arc[4 * cell_id + 2]\n",
    "            y_op = arc[4 * cell_id + 3]\n",
    "            y = tf.gather(prev_tensors, y_id) # prev_tensors[y_id]\n",
    "            y = self.get_enas_cell_tf(\n",
    "                cell_id, y_id, NASCellTypeV1.Y_TYPE, y_op,\n",
    "                x, training=training\n",
    "            )\n",
    "\n",
    "            merge_out = x + y\n",
    "            prev_tensors.append(merge_out)\n",
    "\n",
    "            used.extend([\n",
    "                tf.one_hot(x_id, depth=self.num_cells + 2, dtype=tf.int32),\n",
    "                tf.one_hot(y_id, depth=self.num_cells + 2, dtype=tf.int32)\n",
    "            ])\n",
    "        # Select layers (outputs) which are not used for skip connection\n",
    "        used = tf.add_n(used)\n",
    "        indices = tf.where(tf.equal(used, 0))\n",
    "        indices = tf.cast(indices, tf.int32)\n",
    "        indices = tf.reshape(indices, [-1])\n",
    "        num_outs = tf.size(indices)\n",
    "        out = tf.stack(prev_tensors, axis=0)\n",
    "        out = tf.gather(out, indices, axis=0)\n",
    "\n",
    "        out = tf.transpose(out, [1, 2, 3, 0, 4])\n",
    "        shape = tf.shape(out)\n",
    "        out = tf.reshape(out, [shape[0], shape[1], shape[2], num_outs * self.out_filters])\n",
    "\n",
    "        if self.mode == NASModelType.NAS_MODE:\n",
    "            if self.final_module is None:\n",
    "                raise Exception('Final module is not builded but current mode is fixed.')\n",
    "            out = self.final_module(out, indices=indices, training=training)\n",
    "        return out\n",
    "    \n",
    "    def _set_enas_cell(self, module: tf.Module, curr_cell, prev_cell, cell_type, op_id):\n",
    "        self._enas_cells_created_list[curr_cell][cell_type][prev_cell][op_id] = module\n",
    "\n",
    "    def get_enas_cell(self, curr_cell, prev_cell, cell_type, op_id):\n",
    "        # TODO: Call via:\n",
    "        #       https://www.tensorflow.org/api_docs/python/tf/switch_case\n",
    "        #       Should layers be stored as single big vector? Not like right now...\n",
    "        try:\n",
    "            return self._enas_cells_created_list[curr_cell][cell_type][prev_cell][op_id]\n",
    "        except Exception as e:\n",
    "            print(f\"Couldn't get enas-cell by curr_cell={curr_cell}, prev_cell={prev_cell}, cell_type={cell_type}, op_id={op_id}\")\n",
    "            raise e\n",
    "\n",
    "    #@tf.function\n",
    "    def get_enas_cell_tf(\n",
    "            self, curr_cell: int, \n",
    "            prev_cell: tf.Tensor, cell_type: int, \n",
    "            op_id: tf.Tensor, \n",
    "            *args, **kwargs):\n",
    "        # TODO: Call via:\n",
    "        #       https://www.tensorflow.org/api_docs/python/tf/switch_case\n",
    "        #       Should layers be stored as single big vector? Not like right now...\n",
    "        enas_cell_part_list = self._enas_cells_created_list[curr_cell][cell_type]\n",
    "        layer_indx = NASLayer.COUNT_OP * prev_cell + op_id\n",
    "        print(f'Target indx={layer_indx}')\n",
    "\n",
    "        branch_fns_list = []\n",
    "        for prev_cell_i in range(curr_cell+2):\n",
    "            for op_id_i in range(NASLayer.COUNT_OP):\n",
    "                def get_call_layer_fn(prev_cell_i, op_id_i):\n",
    "                    def call_layer_fn():\n",
    "                        print(\n",
    "                            f'Call cell indx={NASLayer.COUNT_OP * prev_cell_i + op_id_i} ' +\\\n",
    "                            f'curr_cell={curr_cell} cell_type={cell_type} '+\\\n",
    "                            f'target[prev_cell={prev_cell} op_id={op_id}] ' +\\\n",
    "                            f'current[prev_cell_i={prev_cell_i} op_id_i={op_id_i}]'\n",
    "                        )\n",
    "                        return enas_cell_part_list[prev_cell_i][op_id_i](*args, **kwargs)\n",
    "                    return call_layer_fn\n",
    "            \n",
    "                branch_fns_list.append(\n",
    "                    (\n",
    "                        NASLayer.COUNT_OP * prev_cell_i + op_id_i, \n",
    "                        get_call_layer_fn(prev_cell_i, op_id_i),\n",
    "                    )\n",
    "                )\n",
    "\n",
    "        try:\n",
    "            return tf.switch_case(layer_indx, branch_fns=branch_fns_list)\n",
    "        except Exception as e:\n",
    "            print(f\"Couldn't get enas-cell by curr_cell={curr_cell}, prev_cell={prev_cell}, cell_type={cell_type}, op_id={op_id}\")\n",
    "            raise e"
   ]
  },
  {
   "cell_type": "code",
   "execution_count": 116,
   "id": "e3ea8aba",
   "metadata": {},
   "outputs": [],
   "source": [
    "nas_layer = NASLayer_TEST(\n",
    "    layer_id=3,\n",
    "    arc=None,\n",
    "    out_filters=20, num_cells=5,\n",
    "    input_shape_list=[(1, 32, 32, 20), (1, 16, 16, 20)],\n",
    "    mode=NASModelType.NAS_MODE,\n",
    "    global_step=tf.Variable(0, trainable=False, dtype=tf.int32)\n",
    ")"
   ]
  },
  {
   "cell_type": "code",
   "execution_count": 117,
   "id": "d446e463",
   "metadata": {},
   "outputs": [],
   "source": [
    "t1 = tf.random.uniform((1, 32, 32, 20))\n",
    "t2 = tf.random.uniform((1, 16, 16, 20))"
   ]
  },
  {
   "cell_type": "code",
   "execution_count": 118,
   "id": "abafbae9",
   "metadata": {},
   "outputs": [],
   "source": [
    "prev_layers = [t1, t2] \n",
    "arc = tf.convert_to_tensor([0, 0, 0, 1, 2, 0, 2, 1, 2, 1, 3, 1, 3, 1, 4, 1, 3, 1, 0, 1], dtype=tf.int32)\n",
    "training = True"
   ]
  },
  {
   "cell_type": "code",
   "execution_count": 119,
   "id": "4c4b9d04",
   "metadata": {},
   "outputs": [
    {
     "data": {
      "text/plain": [
       "[TensorShape([1, 16, 16, 20]), TensorShape([1, 16, 16, 20])]"
      ]
     },
     "execution_count": 119,
     "metadata": {},
     "output_type": "execute_result"
    }
   ],
   "source": [
    "assert len(prev_layers) == 2 \n",
    "if arc is None and nas_layer.mode == NASModelType.NAS_MODE:\n",
    "    raise Exception(\"Current layer mode is NAS-mode, but arc parameter was not provided to the layer.\")\n",
    "elif arc is None and nas_layer.mode == NASModelType.FIXED_MODE:\n",
    "    arc = self.arc\n",
    "elif arc is not None and nas_layer.mode == NASModelType.FIXED_MODE:\n",
    "    raise Exception(\"Current layer mode is FIXED-mode, but arc parameter was provided to the layer.\")\n",
    "# Answer will be resized two tensors from prev layers\n",
    "x0, x1 = nas_layer.calibrate_size_layer(\n",
    "    *prev_layers, training=training\n",
    ")\n",
    "# TODO: Set size - its known here\n",
    "prev_tensors = [x0, x1]\n",
    "[p.shape for p in prev_tensors]"
   ]
  },
  {
   "cell_type": "code",
   "execution_count": 120,
   "id": "aa44bb60",
   "metadata": {},
   "outputs": [],
   "source": [
    "if nas_layer.mode == NASModelType.FIXED_MODE:\n",
    "    if nas_layer.base_module is None:\n",
    "        raise Exception('Base module is not builded but current mode is fixed.')\n",
    "    prev_tensors[-1] = nas_layer.base_module(prev_layers[-1], training=training)"
   ]
  },
  {
   "cell_type": "code",
   "execution_count": 124,
   "id": "de94175b",
   "metadata": {},
   "outputs": [
    {
     "data": {
      "text/plain": [
       "5"
      ]
     },
     "execution_count": 124,
     "metadata": {},
     "output_type": "execute_result"
    }
   ],
   "source": [
    "used = []\n",
    "cell_id = 0\n",
    "\n",
    "nas_layer.num_cells"
   ]
  },
  {
   "cell_type": "code",
   "execution_count": 131,
   "id": "8113dd0b",
   "metadata": {},
   "outputs": [
    {
     "name": "stdout",
     "output_type": "stream",
     "text": [
      "Target indx=16\n",
      "Call cell indx=16 curr_cell=3 cell_type=0 target[prev_cell=3 op_id=1] current[prev_cell_i=3 op_id_i=1]\n",
      "Target indx=21\n",
      "Call cell indx=21 curr_cell=3 cell_type=1 target[prev_cell=4 op_id=1] current[prev_cell_i=4 op_id_i=1]\n"
     ]
    }
   ],
   "source": [
    "x_id = arc[4 * cell_id]\n",
    "x_op = arc[4 * cell_id + 1]\n",
    "x = tf.gather(prev_tensors, x_id) # prev_tensors[x_id]\n",
    "x = nas_layer.get_enas_cell_tf(\n",
    "    cell_id, x_id, NASCellTypeV1.X_TYPE, x_op,\n",
    "    x, training=training\n",
    ")\n",
    "\n",
    "\n",
    "y_id = arc[4 * cell_id + 2]\n",
    "y_op = arc[4 * cell_id + 3]\n",
    "y = tf.gather(prev_tensors, y_id) # prev_tensors[y_id]\n",
    "y = nas_layer.get_enas_cell_tf(\n",
    "    cell_id, y_id, NASCellTypeV1.Y_TYPE, y_op,\n",
    "    x, training=training\n",
    ")\n",
    "\n",
    "merge_out = x + y"
   ]
  },
  {
   "cell_type": "code",
   "execution_count": 132,
   "id": "9792df95",
   "metadata": {},
   "outputs": [],
   "source": [
    "prev_tensors.append(merge_out)\n",
    "\n",
    "used.extend([\n",
    "    tf.one_hot(x_id, depth=nas_layer.num_cells + 2, dtype=tf.int32),\n",
    "    tf.one_hot(y_id, depth=nas_layer.num_cells + 2, dtype=tf.int32)\n",
    "])\n",
    "cell_id += 1"
   ]
  },
  {
   "cell_type": "code",
   "execution_count": null,
   "id": "801c4db0",
   "metadata": {},
   "outputs": [],
   "source": []
  },
  {
   "cell_type": "code",
   "execution_count": null,
   "id": "e9829760",
   "metadata": {},
   "outputs": [],
   "source": [
    "# Select layers (outputs) which are not used for skip connection\n",
    "used = tf.add_n(used)\n",
    "indices = tf.where(tf.equal(used, 0))\n",
    "indices = tf.cast(indices, tf.int32)\n",
    "indices = tf.reshape(indices, [-1])\n",
    "num_outs = tf.size(indices)\n",
    "out = tf.stack(prev_tensors, axis=0)\n",
    "out = tf.gather(out, indices, axis=0)\n",
    "\n",
    "out = tf.transpose(out, [1, 2, 3, 0, 4])\n",
    "shape = tf.shape(out)\n",
    "out = tf.reshape(out, [shape[0], shape[1], shape[2], num_outs * self.out_filters])\n",
    "\n",
    "if self.mode == NASModelType.NAS_MODE:\n",
    "    if self.final_module is None:\n",
    "        raise Exception('Final module is not builded but current mode is fixed.')\n",
    "    out = self.final_module(out, indices=indices, training=training)"
   ]
  },
  {
   "cell_type": "code",
   "execution_count": null,
   "id": "8124a659",
   "metadata": {},
   "outputs": [],
   "source": []
  },
  {
   "cell_type": "code",
   "execution_count": 25,
   "id": "f90f0c3b",
   "metadata": {},
   "outputs": [],
   "source": [
    "prev_layers = [t1, t2] "
   ]
  },
  {
   "cell_type": "code",
   "execution_count": 27,
   "id": "43864fac",
   "metadata": {},
   "outputs": [],
   "source": [
    "calibrate_size_layer = CalibrateTwoLayersSize(\n",
    "    tf.shape(prev_layers[0]), tf.shape(prev_layers[1]), \n",
    "    20,\n",
    ")"
   ]
  },
  {
   "cell_type": "code",
   "execution_count": 30,
   "id": "3d444a8c",
   "metadata": {},
   "outputs": [
    {
     "data": {
      "text/plain": [
       "[TensorShape([1, 16, 16, 20]), TensorShape([1, 16, 16, 20])]"
      ]
     },
     "execution_count": 30,
     "metadata": {},
     "output_type": "execute_result"
    }
   ],
   "source": [
    "[p.shape for p in calibrate_size_layer(prev_layers[0], prev_layers[1], training=True)]"
   ]
  },
  {
   "cell_type": "code",
   "execution_count": null,
   "id": "2137a84d",
   "metadata": {},
   "outputs": [],
   "source": []
  },
  {
   "cell_type": "code",
   "execution_count": 136,
   "id": "93a17338",
   "metadata": {},
   "outputs": [],
   "source": [
    "curr_cell = cell_id\n",
    "op_id = x_op\n",
    "cell_type = NASCellTypeV1.X_TYPE\n",
    "prev_cell = x_id"
   ]
  },
  {
   "cell_type": "code",
   "execution_count": 137,
   "id": "4a83a7c9",
   "metadata": {},
   "outputs": [
    {
     "data": {
      "text/plain": [
       "<tf.Tensor: shape=(), dtype=int32, numpy=21>"
      ]
     },
     "execution_count": 137,
     "metadata": {},
     "output_type": "execute_result"
    }
   ],
   "source": [
    "layer_indx = NASLayer.COUNT_OP * cell_id + op_id\n",
    "layer_indx"
   ]
  },
  {
   "cell_type": "code",
   "execution_count": 138,
   "id": "3dd9dd6e",
   "metadata": {},
   "outputs": [],
   "source": [
    "branch_fns_list = []\n",
    "for prev_cell_i in range(cell_id+2):\n",
    "    for op_id_i in range(NASLayer.COUNT_OP):\n",
    "        def call_layer_fn():\n",
    "            print(\n",
    "                f'Call cell indx={NASLayer.COUNT_OP * prev_cell_i + op_id_i} ' +\\\n",
    "                f'curr_cell={curr_cell} cell_type={cell_type} '+\\\n",
    "                f'target[prev_cell={prev_cell} op_id={op_id}] ' +\\\n",
    "                f'current[prev_cell_i={prev_cell_i} op_id_i={op_id_i}]'\n",
    "            )\n",
    "            return NASLayer.COUNT_OP * prev_cell_i + op_id_i\n",
    "        \n",
    "        def get_call_layer_fn(prev_cell_i, op_id_i):\n",
    "            #prev_cell_i = copy.copy(prev_cell_i)\n",
    "            #op_id_i = copy.copy(op_id_i)\n",
    "            \n",
    "            call_layer_fn = lambda: NASLayer.COUNT_OP * prev_cell_i + op_id_i\n",
    "            \n",
    "            return call_layer_fn\n",
    "        \n",
    "        branch_fns_list.append(\n",
    "            (\n",
    "                NASLayer.COUNT_OP * prev_cell_i + op_id_i, \n",
    "                get_call_layer_fn(prev_cell_i, op_id_i),\n",
    "            )\n",
    "        )"
   ]
  },
  {
   "cell_type": "code",
   "execution_count": 139,
   "id": "797a0bfe",
   "metadata": {},
   "outputs": [
    {
     "data": {
      "text/plain": [
       "[(0, <function __main__.get_call_layer_fn.<locals>.<lambda>()>),\n",
       " (1, <function __main__.get_call_layer_fn.<locals>.<lambda>()>),\n",
       " (2, <function __main__.get_call_layer_fn.<locals>.<lambda>()>),\n",
       " (3, <function __main__.get_call_layer_fn.<locals>.<lambda>()>),\n",
       " (4, <function __main__.get_call_layer_fn.<locals>.<lambda>()>),\n",
       " (5, <function __main__.get_call_layer_fn.<locals>.<lambda>()>),\n",
       " (6, <function __main__.get_call_layer_fn.<locals>.<lambda>()>),\n",
       " (7, <function __main__.get_call_layer_fn.<locals>.<lambda>()>),\n",
       " (8, <function __main__.get_call_layer_fn.<locals>.<lambda>()>),\n",
       " (9, <function __main__.get_call_layer_fn.<locals>.<lambda>()>),\n",
       " (10, <function __main__.get_call_layer_fn.<locals>.<lambda>()>),\n",
       " (11, <function __main__.get_call_layer_fn.<locals>.<lambda>()>),\n",
       " (12, <function __main__.get_call_layer_fn.<locals>.<lambda>()>),\n",
       " (13, <function __main__.get_call_layer_fn.<locals>.<lambda>()>),\n",
       " (14, <function __main__.get_call_layer_fn.<locals>.<lambda>()>),\n",
       " (15, <function __main__.get_call_layer_fn.<locals>.<lambda>()>),\n",
       " (16, <function __main__.get_call_layer_fn.<locals>.<lambda>()>),\n",
       " (17, <function __main__.get_call_layer_fn.<locals>.<lambda>()>),\n",
       " (18, <function __main__.get_call_layer_fn.<locals>.<lambda>()>),\n",
       " (19, <function __main__.get_call_layer_fn.<locals>.<lambda>()>),\n",
       " (20, <function __main__.get_call_layer_fn.<locals>.<lambda>()>),\n",
       " (21, <function __main__.get_call_layer_fn.<locals>.<lambda>()>),\n",
       " (22, <function __main__.get_call_layer_fn.<locals>.<lambda>()>),\n",
       " (23, <function __main__.get_call_layer_fn.<locals>.<lambda>()>),\n",
       " (24, <function __main__.get_call_layer_fn.<locals>.<lambda>()>),\n",
       " (25, <function __main__.get_call_layer_fn.<locals>.<lambda>()>),\n",
       " (26, <function __main__.get_call_layer_fn.<locals>.<lambda>()>),\n",
       " (27, <function __main__.get_call_layer_fn.<locals>.<lambda>()>),\n",
       " (28, <function __main__.get_call_layer_fn.<locals>.<lambda>()>),\n",
       " (29, <function __main__.get_call_layer_fn.<locals>.<lambda>()>)]"
      ]
     },
     "execution_count": 139,
     "metadata": {},
     "output_type": "execute_result"
    }
   ],
   "source": [
    "branch_fns_list"
   ]
  },
  {
   "cell_type": "code",
   "execution_count": 140,
   "id": "d9e596d3",
   "metadata": {},
   "outputs": [
    {
     "data": {
      "text/plain": [
       "21"
      ]
     },
     "execution_count": 140,
     "metadata": {},
     "output_type": "execute_result"
    }
   ],
   "source": [
    "tf.switch_case(layer_indx, branch_fns=branch_fns_list)"
   ]
  },
  {
   "cell_type": "code",
   "execution_count": null,
   "id": "f6e4177b",
   "metadata": {},
   "outputs": [],
   "source": []
  },
  {
   "cell_type": "code",
   "execution_count": null,
   "id": "d41f40e7",
   "metadata": {},
   "outputs": [],
   "source": [
    "branch_fns_list = [\n",
    "    lambda: 1,\n",
    "    lambda: 2,\n",
    "    lambda: 3,\n",
    "]"
   ]
  },
  {
   "cell_type": "code",
   "execution_count": null,
   "id": "9e80e11c",
   "metadata": {},
   "outputs": [],
   "source": [
    "tf.switch_case(layer_indx, branch_fns=branch_fns_list)"
   ]
  }
 ],
 "metadata": {
  "kernelspec": {
   "display_name": "Python 3",
   "language": "python",
   "name": "python3"
  },
  "language_info": {
   "codemirror_mode": {
    "name": "ipython",
    "version": 3
   },
   "file_extension": ".py",
   "mimetype": "text/x-python",
   "name": "python",
   "nbconvert_exporter": "python",
   "pygments_lexer": "ipython3",
   "version": "3.8.5"
  }
 },
 "nbformat": 4,
 "nbformat_minor": 5
}
